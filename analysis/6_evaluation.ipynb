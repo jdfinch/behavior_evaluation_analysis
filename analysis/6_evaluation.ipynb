{
 "cells": [
  {
   "cell_type": "code",
   "execution_count": null,
   "metadata": {
    "collapsed": true,
    "pycharm": {
     "name": "#%%\n"
    }
   },
   "outputs": [],
   "source": [
    "import matplotlib.pyplot as plt\n",
    "import numpy as np\n",
    "import pandas as pd\n",
    "\n",
    "from analysis import *"
   ]
  },
  {
   "cell_type": "code",
   "execution_count": null,
   "outputs": [],
   "source": [
    "surge_annotations = data.surge_evaluation.annotation_dataframe()\n",
    "surge_annotations_comparative = data.surge_evaluation.comparative_annotation_dataframe()\n",
    "\n",
    "surge_annotations"
   ],
   "metadata": {
    "collapsed": false,
    "pycharm": {
     "name": "#%%\n"
    }
   }
  },
  {
   "cell_type": "markdown",
   "source": [
    "# 6 Evaluation\n"
   ],
   "metadata": {
    "collapsed": false,
    "pycharm": {
     "name": "#%% md\n"
    }
   }
  },
  {
   "cell_type": "markdown",
   "source": [
    "### Worker Group Completed Work\n"
   ],
   "metadata": {
    "collapsed": false,
    "pycharm": {
     "name": "#%% md\n"
    }
   }
  },
  {
   "cell_type": "code",
   "execution_count": null,
   "outputs": [],
   "source": [
    "data.surge_evaluation.annotation_counts()"
   ],
   "metadata": {
    "collapsed": false,
    "pycharm": {
     "name": "#%%\n"
    }
   }
  },
  {
   "cell_type": "code",
   "execution_count": null,
   "outputs": [],
   "source": [
    "data.student_evaluation.annotation_counts()"
   ],
   "metadata": {
    "collapsed": false,
    "pycharm": {
     "name": "#%%\n"
    }
   }
  },
  {
   "cell_type": "code",
   "execution_count": null,
   "outputs": [],
   "source": [
    "data.mturk_evaluation.annotation_counts()"
   ],
   "metadata": {
    "collapsed": false,
    "pycharm": {
     "name": "#%%\n"
    }
   }
  },
  {
   "cell_type": "markdown",
   "source": [
    "## Worker Work Over Time Graph"
   ],
   "metadata": {
    "collapsed": false,
    "pycharm": {
     "name": "#%% md\n"
    }
   }
  },
  {
   "cell_type": "code",
   "execution_count": null,
   "outputs": [],
   "source": [
    "from collections import Counter, defaultdict\n",
    "from datetime import datetime\n",
    "def get_date_counts(project):\n",
    "    sorted_dates = sorted([u.completion_date.split(' ')[0] for _, u in project.work_units.items()])\n",
    "    start_date = sorted_dates[0]\n",
    "    start_datetime = datetime.strptime(start_date, '%m-%d-%Y')\n",
    "    counts = Counter(sorted_dates)\n",
    "    relative_counts = {}\n",
    "    prev_key = 0\n",
    "    for date_key in counts:\n",
    "        datetime_key = datetime.strptime(date_key, '%m-%d-%Y')\n",
    "        day_n = (datetime_key - start_datetime).days\n",
    "        while prev_key < day_n:\n",
    "            prev_key += 1\n",
    "            relative_counts[prev_key] = 0\n",
    "        relative_counts[day_n] = counts[date_key]\n",
    "    return relative_counts"
   ],
   "metadata": {
    "collapsed": false,
    "pycharm": {
     "name": "#%%\n"
    }
   }
  },
  {
   "cell_type": "code",
   "execution_count": null,
   "outputs": [],
   "source": [
    "def get_cumulative_date_counts(project):\n",
    "    sorted_dates = sorted([u.completion_date.split(' ')[0] for _, u in project.work_units.items()])\n",
    "    start_date = sorted_dates[0]\n",
    "    start_datetime = datetime.strptime(start_date, '%m-%d-%Y')\n",
    "    counts = Counter(sorted_dates)\n",
    "    relative_counts = {}\n",
    "    prev_key = 0\n",
    "    total = 0\n",
    "    for date_key in counts:\n",
    "        datetime_key = datetime.strptime(date_key, '%m-%d-%Y')\n",
    "        day_n = (datetime_key - start_datetime).days\n",
    "        while prev_key < day_n:\n",
    "            prev_key += 1\n",
    "            relative_counts[prev_key] = total\n",
    "        total += counts[date_key]\n",
    "        relative_counts[day_n] = total\n",
    "    return relative_counts"
   ],
   "metadata": {
    "collapsed": false,
    "pycharm": {
     "name": "#%%\n"
    }
   }
  },
  {
   "cell_type": "code",
   "execution_count": null,
   "outputs": [],
   "source": [
    "def get_hour_counts(project):\n",
    "    sorted_dates = sorted([datetime.strptime(u.completion_date, '%m-%d-%Y %H:%M:%S') for _, u in project.work_units.items()])\n",
    "    start_datetime = sorted_dates[0]\n",
    "    relative_counts = defaultdict(int)\n",
    "    prev_key = 0\n",
    "    for datetime_key in sorted_dates:\n",
    "        delta = int((datetime_key - start_datetime).total_seconds() / 60 / 60)\n",
    "        while prev_key < delta:\n",
    "            prev_key += 1\n",
    "            relative_counts[prev_key] = 0\n",
    "        relative_counts[delta] += 1\n",
    "    return relative_counts"
   ],
   "metadata": {
    "collapsed": false,
    "pycharm": {
     "name": "#%%\n"
    }
   }
  },
  {
   "cell_type": "code",
   "execution_count": null,
   "outputs": [],
   "source": [
    "perform_count = get_cumulative_date_counts\n",
    "surger_dates = perform_count(data.surge_evaluation)\n",
    "mturk_dates = perform_count(data.mturk_evaluation)\n",
    "student_dates = perform_count(data.student_evaluation)\n",
    "\n",
    "all_dates = {}\n",
    "for day_n, val in surger_dates.items():\n",
    "    all_dates[day_n] = {\n",
    "        'Surge': val,\n",
    "        'MTurk': mturk_dates.get(day_n, np.NaN),\n",
    "        'Student': student_dates.get(day_n, np.NaN)\n",
    "    }\n",
    "\n",
    "all_dates_df = pd.DataFrame(all_dates).T\n",
    "all_dates_df"
   ],
   "metadata": {
    "collapsed": false,
    "pycharm": {
     "name": "#%%\n"
    }
   }
  },
  {
   "cell_type": "code",
   "execution_count": null,
   "outputs": [],
   "source": [
    "SMALL_SIZE = 16\n",
    "MEDIUM_SIZE = 20\n",
    "BIGGER_SIZE = 24\n",
    "\n",
    "plt.rc('font', size=SMALL_SIZE)          # controls default text sizes\n",
    "plt.rc('axes', titlesize=SMALL_SIZE)     # fontsize of the axes title\n",
    "plt.rc('axes', labelsize=MEDIUM_SIZE)    # fontsize of the x and y labels\n",
    "plt.rc('xtick', labelsize=SMALL_SIZE)    # fontsize of the tick labels\n",
    "plt.rc('ytick', labelsize=SMALL_SIZE)    # fontsize of the tick labels\n",
    "plt.rc('legend', fontsize=SMALL_SIZE)    # legend fontsize\n",
    "plt.rc('figure', titlesize=BIGGER_SIZE)  # fontsize of the figure title\n",
    "\n",
    "plt.rcParams[\"figure.figsize\"] = (20,10)\n",
    "\n",
    "fig, ax = plt.subplots()\n",
    "all_dates_df['MTurk'].plot()\n",
    "all_dates_df['Student'].plot()\n",
    "all_dates_df['Surge'].plot()\n",
    "\n",
    "ax.set_xlabel('Days', labelpad=20)\n",
    "ax.set_ylabel('Assignments', labelpad=20)\n",
    "\n",
    "plt.legend()"
   ],
   "metadata": {
    "collapsed": false,
    "pycharm": {
     "name": "#%%\n"
    }
   }
  },
  {
   "cell_type": "markdown",
   "source": [
    "### Worker Group Screening\n"
   ],
   "metadata": {
    "collapsed": false,
    "pycharm": {
     "name": "#%% md\n"
    }
   }
  },
  {
   "cell_type": "code",
   "execution_count": null,
   "outputs": [],
   "source": [
    "screening = across_evaluations(\n",
    "    [data.annotation_pilots_onboarding[-2], data.student_onboarding, data.mturk_onboarding, data.surge_onboarding],\n",
    "    screening_rates_by_label,\n",
    "    reload='results/evaluation_screening'\n",
    ")\n",
    "to_plot_screening = screening[['attempted', 'passed']]\n",
    "to_plot_screening = to_plot_screening.transpose()\n",
    "for dim in ['knowledge', 'sociality', 'interpretability', 'personal_information', 'consistency', 'commonsense', 'empathy', 'transitions']:\n",
    "    if dim != 'transitions':\n",
    "        to_plot_screening[(4, dim)] = to_plot_screening[(0, dim)] + to_plot_screening[(1, dim)]\n",
    "    else:\n",
    "        to_plot_screening[(4, dim)] = to_plot_screening[(0, dim)]\n",
    "to_plot_screening.drop(0, axis='columns', inplace=True)\n",
    "to_plot_screening.drop(1, axis='columns', inplace=True)\n",
    "to_plot_screening = to_plot_screening.transpose()\n",
    "to_plot_screening['screen-rate'] = to_plot_screening['passed'] / to_plot_screening['attempted']\n",
    "to_plot_screening = to_plot_screening.reset_index()\n",
    "to_plot_screening.replace({'round': {2: 'MTurk', 3: 'Surge', 4: 'Student'}}, inplace=True)\n",
    "to_plot_screening.replace({'level_1': {'personal_information': 'personal info'}}, inplace=True)\n",
    "to_plot_screening"
   ],
   "metadata": {
    "collapsed": false,
    "pycharm": {
     "name": "#%%\n"
    }
   }
  },
  {
   "cell_type": "code",
   "execution_count": null,
   "outputs": [],
   "source": [
    "plt.rcParams[\"figure.figsize\"] = (10,5)\n",
    "df = to_plot_screening.pivot(index='level_1', columns='round', values='screen-rate')\n",
    "ax = df.plot(\n",
    "    kind='bar',\n",
    "    rot=45,\n",
    "    # color=[graphing_bot_colors[bot] for bot in df0.columns]\n",
    ")\n",
    "ax.legend(loc='center left',bbox_to_anchor=(1.0, 0.5))\n",
    "ax.set_ylabel('Proportion')\n",
    "ax.set_xlabel('Annotation Subtask')"
   ],
   "metadata": {
    "collapsed": false,
    "pycharm": {
     "name": "#%%\n"
    }
   }
  },
  {
   "cell_type": "code",
   "execution_count": null,
   "outputs": [],
   "source": [
    "SMALL_SIZE = 16\n",
    "MEDIUM_SIZE = 20\n",
    "BIGGER_SIZE = 24\n",
    "\n",
    "plt.rc('font', size=SMALL_SIZE)          # controls default text sizes\n",
    "plt.rc('axes', titlesize=SMALL_SIZE)     # fontsize of the axes title\n",
    "plt.rc('axes', labelsize=MEDIUM_SIZE)    # fontsize of the x and y labels\n",
    "plt.rc('xtick', labelsize=SMALL_SIZE)    # fontsize of the tick labels\n",
    "plt.rc('ytick', labelsize=SMALL_SIZE)    # fontsize of the tick labels\n",
    "plt.rc('legend', fontsize=SMALL_SIZE)    # legend fontsize\n",
    "plt.rc('figure', titlesize=BIGGER_SIZE)  # fontsize of the figure title\n",
    "\n",
    "plt.rcParams[\"figure.figsize\"] = (20,10)\n",
    "\n",
    "df0 = to_plot_screening\n",
    "df0 = df0.set_index(['level_1', 'round'])\n",
    "df0 = df0.unstack(level=-1)\n",
    "fig, ax = plt.subplots()\n",
    "\n",
    "groups = []\n",
    "for i in df0.columns:\n",
    "    if i[1] not in groups:\n",
    "        groups.append(i[1])\n",
    "\n",
    "df0['attempted'].plot(kind='bar', alpha=0.2, rot=0, ax=ax)\n",
    "df0['passed'].plot(kind='bar', rot=0, ax=ax)\n",
    "\n",
    "h, l = ax.get_legend_handles_labels()\n",
    "markers = {}\n",
    "for h, l, (label, category) in zip(h, l, df0.columns):\n",
    "    markers.setdefault(category, []).append((h,l))\n",
    "wtl_dummies = [plt.plot([],marker=\"\", ls=\"\")[0]]*3\n",
    "bot_dummies = [plt.plot([],marker=\"\", ls=\"\")[0]]*3\n",
    "handles = wtl_dummies\n",
    "labels = [\"\", \"Failed:\", \"Passed:\"]\n",
    "for i, (bot, symbols) in enumerate(markers.items()):\n",
    "    handles.append(bot_dummies[i])\n",
    "    labels.append(bot)\n",
    "    handles.extend([s[0] for s in symbols])\n",
    "    labels.extend([\"\" for s in symbols])\n",
    "leg = plt.legend(handles, labels, ncol=4, loc='upper right', bbox_to_anchor=(0.67, -0.35), labelspacing=0.25)\n",
    "for i, vpack in enumerate(leg._legend_handle_box.get_children()):\n",
    "    if i == 0: # row titles\n",
    "        for hpack in vpack.get_children():\n",
    "            hpack.get_children()[0].set_width(0)\n",
    "    else:\n",
    "        for j, hpack in enumerate(vpack.get_children()):\n",
    "            if j > 0: # category (attempted vs passed) markers\n",
    "                hpack.get_children()[0].get_children()[0].set_width(50)\n",
    "            else: # column titles\n",
    "                hpack.get_children()[0].set_width(0)\n",
    "\n",
    "ax.set_ylabel('Frequency', labelpad=30)\n",
    "ax.set_xlabel('Annotation Subtask', labelpad=30)\n",
    "ax.set_xticklabels([d for d in df0.index])\n",
    "\n",
    "plt.tight_layout()\n",
    "plt.show()"
   ],
   "metadata": {
    "collapsed": false,
    "pycharm": {
     "name": "#%%\n"
    }
   }
  },
  {
   "cell_type": "markdown",
   "source": [
    "### Agreements\n"
   ],
   "metadata": {
    "collapsed": false,
    "pycharm": {
     "name": "#%% md\n"
    }
   }
  },
  {
   "cell_type": "code",
   "execution_count": null,
   "outputs": [],
   "source": [
    "agreements = agreement_dataframe(\n",
    "    surge_annotations, reload='results/surge_agreements'\n",
    ")\n",
    "agreements = prettify(agreements, float_prec=3, sort_by=[\"category\", \"Krippendorff's alpha\"], col_types={\"n\": int}, to_csv='results/paper/surge_agreements', index=False)\n",
    "agreements"
   ],
   "metadata": {
    "collapsed": false,
    "pycharm": {
     "name": "#%%\n"
    }
   }
  },
  {
   "cell_type": "code",
   "execution_count": null,
   "outputs": [],
   "source": [
    "# Build the plot\n",
    "plt.rcParams[\"figure.figsize\"] = (20,10)\n",
    "\n",
    "fig, ax = plt.subplots()\n",
    "\n",
    "def plot_by_category(ax, df, category, color, xaxis_start):\n",
    "    extracted = df[df[\"category\"] == category]\n",
    "    lower_bound = extracted[\"Krippendorff's alpha\"] - extracted[\"CI low\"]\n",
    "    upper_bound = extracted[\"CI high\"] - extracted[\"Krippendorff's alpha\"]\n",
    "    xaxis_end = xaxis_start + len(extracted)\n",
    "    ax.errorbar(np.arange(xaxis_start, xaxis_end),\n",
    "                extracted[\"Krippendorff's alpha\"],\n",
    "                yerr=[lower_bound, upper_bound],\n",
    "                fmt='o',\n",
    "                elinewidth=1,\n",
    "                color=color)\n",
    "    return xaxis_end\n",
    "\n",
    "likert_turn_color = \"blue\"\n",
    "likert_dialogue_color = \"red\"\n",
    "comparative_color = \"green\"\n",
    "behavior_color = \"orange\"\n",
    "\n",
    "krip_agreements = agreements.iloc[: , :-4]\n",
    "krip_agreements = krip_agreements.reset_index()\n",
    "likert_dialogue_start = plot_by_category(ax, krip_agreements, \"likert turn\", likert_turn_color, 0)\n",
    "comparative_start = plot_by_category(ax, krip_agreements, \"likert dialogue\", likert_dialogue_color, likert_dialogue_start)\n",
    "behavior_start = plot_by_category(ax, krip_agreements, \"comparative\", comparative_color, comparative_start)\n",
    "misc_start = plot_by_category(ax, krip_agreements, \"behavior\", behavior_color, behavior_start)\n",
    "\n",
    "category_range = {likert_dialogue_start: likert_turn_color, comparative_start: likert_dialogue_color, behavior_start: comparative_color, misc_start: behavior_color}\n",
    "xaxis_colors = {}\n",
    "prev_idx = 0\n",
    "for idx, color in category_range.items():\n",
    "    for i in range(prev_idx, idx):\n",
    "        xaxis_colors[i] = color\n",
    "    prev_idx = idx\n",
    "\n",
    "ax.set_ylabel(\"Krippendorf's alpha\", labelpad=20)\n",
    "xpos = np.arange(len(krip_agreements))\n",
    "ax.set_xlabel(\"Evaluation Label\", labelpad=20)\n",
    "ax.set_xticks(xpos)\n",
    "ax.set_xticklabels(krip_agreements[\"label\"], rotation=90)\n",
    "for tickloc, ticklabel in zip(plt.gca().get_xticks(), plt.gca().get_xticklabels()):\n",
    "    ticklabel.set_color(xaxis_colors[tickloc])\n",
    "ax.set_title('Interannotator Agreement')\n",
    "ax.yaxis.grid(True)\n",
    "\n",
    "# Save the figure and show\n",
    "plt.tight_layout()\n",
    "plt.show()"
   ],
   "metadata": {
    "collapsed": false,
    "pycharm": {
     "name": "#%%\n"
    }
   }
  }
 ],
 "metadata": {
  "kernelspec": {
   "display_name": "Python 3",
   "language": "python",
   "name": "python3"
  },
  "language_info": {
   "codemirror_mode": {
    "name": "ipython",
    "version": 2
   },
   "file_extension": ".py",
   "mimetype": "text/x-python",
   "name": "python",
   "nbconvert_exporter": "python",
   "pygments_lexer": "ipython2",
   "version": "2.7.6"
  }
 },
 "nbformat": 4,
 "nbformat_minor": 0
}