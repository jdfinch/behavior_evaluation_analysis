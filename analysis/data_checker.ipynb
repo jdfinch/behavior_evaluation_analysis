{
 "cells": [
  {
   "cell_type": "code",
   "execution_count": 1,
   "metadata": {
    "collapsed": true,
    "pycharm": {
     "name": "#%%\n"
    }
   },
   "outputs": [],
   "source": [
    "import matplotlib.pyplot as plt\n",
    "import numpy as np\n",
    "from analysis import *"
   ]
  },
  {
   "cell_type": "code",
   "execution_count": 2,
   "outputs": [
    {
     "data": {
      "text/plain": "                                                                                             0  \\\nbot         bot comp         label       dialogues                                               \nblender2_3B bart_fid_rag_bcb engaging    ((1048,38)_blender2_3B, (1048,38)_bart_fid_rag_... -1   \n                             informative ((1048,38)_blender2_3B, (1048,38)_bart_fid_rag_... -1   \n                             grammatical ((1048,38)_blender2_3B, (1048,38)_bart_fid_rag_...  0   \n                             proactive   ((1048,38)_blender2_3B, (1048,38)_bart_fid_rag_... -1   \n                             quality     ((1048,38)_blender2_3B, (1048,38)_bart_fid_rag_... -1   \n...                                                                                         ..   \n            rerank_blender   quality     ((438,26)_blender2_3B, (438,26)_rerank_blender)    -1   \n                             engaging    ((438,26)_blender2_3B, (438,26)_rerank_blender)    -1   \n                             proactive   ((438,26)_blender2_3B, (438,26)_rerank_blender)    -1   \n                             consistent  ((438,26)_blender2_3B, (438,26)_rerank_blender)     1   \n                             emotional   ((438,26)_blender2_3B, (438,26)_rerank_blender)    -1   \n\n                                                                                               1  \nbot         bot comp         label       dialogues                                                \nblender2_3B bart_fid_rag_bcb engaging    ((1048,38)_blender2_3B, (1048,38)_bart_fid_rag_... -1.0  \n                             informative ((1048,38)_blender2_3B, (1048,38)_bart_fid_rag_... -1.0  \n                             grammatical ((1048,38)_blender2_3B, (1048,38)_bart_fid_rag_...  1.0  \n                             proactive   ((1048,38)_blender2_3B, (1048,38)_bart_fid_rag_...  1.0  \n                             quality     ((1048,38)_blender2_3B, (1048,38)_bart_fid_rag_...  1.0  \n...                                                                                          ...  \n            rerank_blender   quality     ((438,26)_blender2_3B, (438,26)_rerank_blender)     NaN  \n                             engaging    ((438,26)_blender2_3B, (438,26)_rerank_blender)     NaN  \n                             proactive   ((438,26)_blender2_3B, (438,26)_rerank_blender)     NaN  \n                             consistent  ((438,26)_blender2_3B, (438,26)_rerank_blender)     NaN  \n                             emotional   ((438,26)_blender2_3B, (438,26)_rerank_blender)     NaN  \n\n[3232 rows x 2 columns]",
      "text/html": "<div>\n<style scoped>\n    .dataframe tbody tr th:only-of-type {\n        vertical-align: middle;\n    }\n\n    .dataframe tbody tr th {\n        vertical-align: top;\n    }\n\n    .dataframe thead th {\n        text-align: right;\n    }\n</style>\n<table border=\"1\" class=\"dataframe\">\n  <thead>\n    <tr style=\"text-align: right;\">\n      <th></th>\n      <th></th>\n      <th></th>\n      <th></th>\n      <th>0</th>\n      <th>1</th>\n    </tr>\n    <tr>\n      <th>bot</th>\n      <th>bot comp</th>\n      <th>label</th>\n      <th>dialogues</th>\n      <th></th>\n      <th></th>\n    </tr>\n  </thead>\n  <tbody>\n    <tr>\n      <th rowspan=\"11\" valign=\"top\">blender2_3B</th>\n      <th rowspan=\"5\" valign=\"top\">bart_fid_rag_bcb</th>\n      <th>engaging</th>\n      <th>((1048,38)_blender2_3B, (1048,38)_bart_fid_rag_bcb)</th>\n      <td>-1</td>\n      <td>-1.0</td>\n    </tr>\n    <tr>\n      <th>informative</th>\n      <th>((1048,38)_blender2_3B, (1048,38)_bart_fid_rag_bcb)</th>\n      <td>-1</td>\n      <td>-1.0</td>\n    </tr>\n    <tr>\n      <th>grammatical</th>\n      <th>((1048,38)_blender2_3B, (1048,38)_bart_fid_rag_bcb)</th>\n      <td>0</td>\n      <td>1.0</td>\n    </tr>\n    <tr>\n      <th>proactive</th>\n      <th>((1048,38)_blender2_3B, (1048,38)_bart_fid_rag_bcb)</th>\n      <td>-1</td>\n      <td>1.0</td>\n    </tr>\n    <tr>\n      <th>quality</th>\n      <th>((1048,38)_blender2_3B, (1048,38)_bart_fid_rag_bcb)</th>\n      <td>-1</td>\n      <td>1.0</td>\n    </tr>\n    <tr>\n      <th>...</th>\n      <th>...</th>\n      <th>...</th>\n      <td>...</td>\n      <td>...</td>\n    </tr>\n    <tr>\n      <th rowspan=\"5\" valign=\"top\">rerank_blender</th>\n      <th>quality</th>\n      <th>((438,26)_blender2_3B, (438,26)_rerank_blender)</th>\n      <td>-1</td>\n      <td>NaN</td>\n    </tr>\n    <tr>\n      <th>engaging</th>\n      <th>((438,26)_blender2_3B, (438,26)_rerank_blender)</th>\n      <td>-1</td>\n      <td>NaN</td>\n    </tr>\n    <tr>\n      <th>proactive</th>\n      <th>((438,26)_blender2_3B, (438,26)_rerank_blender)</th>\n      <td>-1</td>\n      <td>NaN</td>\n    </tr>\n    <tr>\n      <th>consistent</th>\n      <th>((438,26)_blender2_3B, (438,26)_rerank_blender)</th>\n      <td>1</td>\n      <td>NaN</td>\n    </tr>\n    <tr>\n      <th>emotional</th>\n      <th>((438,26)_blender2_3B, (438,26)_rerank_blender)</th>\n      <td>-1</td>\n      <td>NaN</td>\n    </tr>\n  </tbody>\n</table>\n<p>3232 rows × 2 columns</p>\n</div>"
     },
     "execution_count": 2,
     "metadata": {},
     "output_type": "execute_result"
    }
   ],
   "source": [
    "surge_annotations = data.surge_evaluation.annotation_dataframe()\n",
    "surge_annotations_comparative = data.surge_evaluation.comparative_annotation_dataframe()\n",
    "\n",
    "surge_annotations_comparative"
   ],
   "metadata": {
    "collapsed": false,
    "pycharm": {
     "name": "#%%\n"
    }
   }
  },
  {
   "cell_type": "code",
   "execution_count": 10,
   "outputs": [
    {
     "data": {
      "text/plain": "404"
     },
     "execution_count": 10,
     "metadata": {},
     "output_type": "execute_result"
    }
   ],
   "source": [
    "len({x for x in surge_annotations.index.get_level_values('item') if not isinstance(x, tuple)})"
   ],
   "metadata": {
    "collapsed": false,
    "pycharm": {
     "name": "#%%\n"
    }
   }
  },
  {
   "cell_type": "code",
   "execution_count": null,
   "outputs": [],
   "source": [],
   "metadata": {
    "collapsed": false,
    "pycharm": {
     "name": "#%%\n"
    }
   }
  }
 ],
 "metadata": {
  "kernelspec": {
   "display_name": "Python 3",
   "language": "python",
   "name": "python3"
  },
  "language_info": {
   "codemirror_mode": {
    "name": "ipython",
    "version": 2
   },
   "file_extension": ".py",
   "mimetype": "text/x-python",
   "name": "python",
   "nbconvert_exporter": "python",
   "pygments_lexer": "ipython2",
   "version": "2.7.6"
  }
 },
 "nbformat": 4,
 "nbformat_minor": 0
}