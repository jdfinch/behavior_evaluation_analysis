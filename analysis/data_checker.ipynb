{
 "cells": [
  {
   "cell_type": "code",
   "execution_count": 10,
   "metadata": {
    "collapsed": true,
    "pycharm": {
     "name": "#%%\n"
    }
   },
   "outputs": [],
   "source": [
    "import matplotlib.pyplot as plt\n",
    "import numpy as np\n",
    "import pandas as pd\n",
    "\n",
    "from analysis import *"
   ]
  },
  {
   "cell_type": "code",
   "execution_count": 11,
   "outputs": [],
   "source": [
    "surge_annotations = data.surge_evaluation.annotation_dataframe()\n",
    "surge_annotations_comparative = data.surge_evaluation.comparative_annotation_dataframe()"
   ],
   "metadata": {
    "collapsed": false,
    "pycharm": {
     "name": "#%%\n"
    }
   }
  },
  {
   "cell_type": "code",
   "execution_count": 12,
   "outputs": [
    {
     "data": {
      "text/plain": "                                                                              0  \\\nbot            category        label           item                               \nblender2_3B    likert dialogue proactive       (1048,38)_blender2_3B          4   \n                               engaging        (1048,38)_blender2_3B          4   \n                               relevant        (1048,38)_blender2_3B          3   \n                               emotional       (1048,38)_blender2_3B          4   \n                               grammatical     (1048,38)_blender2_3B          4   \n...                                                                          ..   \nrerank_blender behavior        preference info ((441,26)_rerank_blender, 14)  1   \n                               life info       ((441,26)_rerank_blender, 14)  0   \n                               antisocial      ((441,26)_rerank_blender, 14)  0   \n                               correct fact    ((441,26)_rerank_blender, 14)  1   \n                               incorrect fact  ((441,26)_rerank_blender, 14)  0   \n\n                                                                                1  \\\nbot            category        label           item                                 \nblender2_3B    likert dialogue proactive       (1048,38)_blender2_3B          4.0   \n                               engaging        (1048,38)_blender2_3B          5.0   \n                               relevant        (1048,38)_blender2_3B          4.0   \n                               emotional       (1048,38)_blender2_3B          5.0   \n                               grammatical     (1048,38)_blender2_3B          4.0   \n...                                                                           ...   \nrerank_blender behavior        preference info ((441,26)_rerank_blender, 14)  NaN   \n                               life info       ((441,26)_rerank_blender, 14)  NaN   \n                               antisocial      ((441,26)_rerank_blender, 14)  NaN   \n                               correct fact    ((441,26)_rerank_blender, 14)  NaN   \n                               incorrect fact  ((441,26)_rerank_blender, 14)  NaN   \n\n                                                                               2  \nbot            category        label           item                               \nblender2_3B    likert dialogue proactive       (1048,38)_blender2_3B         NaN  \n                               engaging        (1048,38)_blender2_3B         NaN  \n                               relevant        (1048,38)_blender2_3B         NaN  \n                               emotional       (1048,38)_blender2_3B         NaN  \n                               grammatical     (1048,38)_blender2_3B         NaN  \n...                                                                           ..  \nrerank_blender behavior        preference info ((441,26)_rerank_blender, 14) NaN  \n                               life info       ((441,26)_rerank_blender, 14) NaN  \n                               antisocial      ((441,26)_rerank_blender, 14) NaN  \n                               correct fact    ((441,26)_rerank_blender, 14) NaN  \n                               incorrect fact  ((441,26)_rerank_blender, 14) NaN  \n\n[151824 rows x 3 columns]",
      "text/html": "<div>\n<style scoped>\n    .dataframe tbody tr th:only-of-type {\n        vertical-align: middle;\n    }\n\n    .dataframe tbody tr th {\n        vertical-align: top;\n    }\n\n    .dataframe thead th {\n        text-align: right;\n    }\n</style>\n<table border=\"1\" class=\"dataframe\">\n  <thead>\n    <tr style=\"text-align: right;\">\n      <th></th>\n      <th></th>\n      <th></th>\n      <th></th>\n      <th>0</th>\n      <th>1</th>\n      <th>2</th>\n    </tr>\n    <tr>\n      <th>bot</th>\n      <th>category</th>\n      <th>label</th>\n      <th>item</th>\n      <th></th>\n      <th></th>\n      <th></th>\n    </tr>\n  </thead>\n  <tbody>\n    <tr>\n      <th rowspan=\"5\" valign=\"top\">blender2_3B</th>\n      <th rowspan=\"5\" valign=\"top\">likert dialogue</th>\n      <th>proactive</th>\n      <th>(1048,38)_blender2_3B</th>\n      <td>4</td>\n      <td>4.0</td>\n      <td>NaN</td>\n    </tr>\n    <tr>\n      <th>engaging</th>\n      <th>(1048,38)_blender2_3B</th>\n      <td>4</td>\n      <td>5.0</td>\n      <td>NaN</td>\n    </tr>\n    <tr>\n      <th>relevant</th>\n      <th>(1048,38)_blender2_3B</th>\n      <td>3</td>\n      <td>4.0</td>\n      <td>NaN</td>\n    </tr>\n    <tr>\n      <th>emotional</th>\n      <th>(1048,38)_blender2_3B</th>\n      <td>4</td>\n      <td>5.0</td>\n      <td>NaN</td>\n    </tr>\n    <tr>\n      <th>grammatical</th>\n      <th>(1048,38)_blender2_3B</th>\n      <td>4</td>\n      <td>4.0</td>\n      <td>NaN</td>\n    </tr>\n    <tr>\n      <th>...</th>\n      <th>...</th>\n      <th>...</th>\n      <th>...</th>\n      <td>...</td>\n      <td>...</td>\n      <td>...</td>\n    </tr>\n    <tr>\n      <th rowspan=\"5\" valign=\"top\">rerank_blender</th>\n      <th rowspan=\"5\" valign=\"top\">behavior</th>\n      <th>preference info</th>\n      <th>((441,26)_rerank_blender, 14)</th>\n      <td>1</td>\n      <td>NaN</td>\n      <td>NaN</td>\n    </tr>\n    <tr>\n      <th>life info</th>\n      <th>((441,26)_rerank_blender, 14)</th>\n      <td>0</td>\n      <td>NaN</td>\n      <td>NaN</td>\n    </tr>\n    <tr>\n      <th>antisocial</th>\n      <th>((441,26)_rerank_blender, 14)</th>\n      <td>0</td>\n      <td>NaN</td>\n      <td>NaN</td>\n    </tr>\n    <tr>\n      <th>correct fact</th>\n      <th>((441,26)_rerank_blender, 14)</th>\n      <td>1</td>\n      <td>NaN</td>\n      <td>NaN</td>\n    </tr>\n    <tr>\n      <th>incorrect fact</th>\n      <th>((441,26)_rerank_blender, 14)</th>\n      <td>0</td>\n      <td>NaN</td>\n      <td>NaN</td>\n    </tr>\n  </tbody>\n</table>\n<p>151824 rows × 3 columns</p>\n</div>"
     },
     "execution_count": 12,
     "metadata": {},
     "output_type": "execute_result"
    }
   ],
   "source": [
    "surge_annotations"
   ],
   "metadata": {
    "collapsed": false,
    "pycharm": {
     "name": "#%%\n"
    }
   }
  },
  {
   "cell_type": "code",
   "execution_count": 13,
   "outputs": [
    {
     "data": {
      "text/plain": "                                                                                             0  \\\nbot         bot comp         label       dialogues                                               \nblender2_3B bart_fid_rag_bcb engaging    ((1048,38)_blender2_3B, (1048,38)_bart_fid_rag_... -1   \n                             informative ((1048,38)_blender2_3B, (1048,38)_bart_fid_rag_... -1   \n                             grammatical ((1048,38)_blender2_3B, (1048,38)_bart_fid_rag_...  0   \n                             proactive   ((1048,38)_blender2_3B, (1048,38)_bart_fid_rag_... -1   \n                             quality     ((1048,38)_blender2_3B, (1048,38)_bart_fid_rag_... -1   \n...                                                                                         ..   \n            rerank_blender   quality     ((438,26)_blender2_3B, (438,26)_rerank_blender)    -1   \n                             engaging    ((438,26)_blender2_3B, (438,26)_rerank_blender)    -1   \n                             proactive   ((438,26)_blender2_3B, (438,26)_rerank_blender)    -1   \n                             consistent  ((438,26)_blender2_3B, (438,26)_rerank_blender)     1   \n                             emotional   ((438,26)_blender2_3B, (438,26)_rerank_blender)    -1   \n\n                                                                                               1  \nbot         bot comp         label       dialogues                                                \nblender2_3B bart_fid_rag_bcb engaging    ((1048,38)_blender2_3B, (1048,38)_bart_fid_rag_... -1.0  \n                             informative ((1048,38)_blender2_3B, (1048,38)_bart_fid_rag_... -1.0  \n                             grammatical ((1048,38)_blender2_3B, (1048,38)_bart_fid_rag_...  1.0  \n                             proactive   ((1048,38)_blender2_3B, (1048,38)_bart_fid_rag_...  1.0  \n                             quality     ((1048,38)_blender2_3B, (1048,38)_bart_fid_rag_...  1.0  \n...                                                                                          ...  \n            rerank_blender   quality     ((438,26)_blender2_3B, (438,26)_rerank_blender)     NaN  \n                             engaging    ((438,26)_blender2_3B, (438,26)_rerank_blender)     NaN  \n                             proactive   ((438,26)_blender2_3B, (438,26)_rerank_blender)     NaN  \n                             consistent  ((438,26)_blender2_3B, (438,26)_rerank_blender)     NaN  \n                             emotional   ((438,26)_blender2_3B, (438,26)_rerank_blender)     NaN  \n\n[3232 rows x 2 columns]",
      "text/html": "<div>\n<style scoped>\n    .dataframe tbody tr th:only-of-type {\n        vertical-align: middle;\n    }\n\n    .dataframe tbody tr th {\n        vertical-align: top;\n    }\n\n    .dataframe thead th {\n        text-align: right;\n    }\n</style>\n<table border=\"1\" class=\"dataframe\">\n  <thead>\n    <tr style=\"text-align: right;\">\n      <th></th>\n      <th></th>\n      <th></th>\n      <th></th>\n      <th>0</th>\n      <th>1</th>\n    </tr>\n    <tr>\n      <th>bot</th>\n      <th>bot comp</th>\n      <th>label</th>\n      <th>dialogues</th>\n      <th></th>\n      <th></th>\n    </tr>\n  </thead>\n  <tbody>\n    <tr>\n      <th rowspan=\"11\" valign=\"top\">blender2_3B</th>\n      <th rowspan=\"5\" valign=\"top\">bart_fid_rag_bcb</th>\n      <th>engaging</th>\n      <th>((1048,38)_blender2_3B, (1048,38)_bart_fid_rag_bcb)</th>\n      <td>-1</td>\n      <td>-1.0</td>\n    </tr>\n    <tr>\n      <th>informative</th>\n      <th>((1048,38)_blender2_3B, (1048,38)_bart_fid_rag_bcb)</th>\n      <td>-1</td>\n      <td>-1.0</td>\n    </tr>\n    <tr>\n      <th>grammatical</th>\n      <th>((1048,38)_blender2_3B, (1048,38)_bart_fid_rag_bcb)</th>\n      <td>0</td>\n      <td>1.0</td>\n    </tr>\n    <tr>\n      <th>proactive</th>\n      <th>((1048,38)_blender2_3B, (1048,38)_bart_fid_rag_bcb)</th>\n      <td>-1</td>\n      <td>1.0</td>\n    </tr>\n    <tr>\n      <th>quality</th>\n      <th>((1048,38)_blender2_3B, (1048,38)_bart_fid_rag_bcb)</th>\n      <td>-1</td>\n      <td>1.0</td>\n    </tr>\n    <tr>\n      <th>...</th>\n      <th>...</th>\n      <th>...</th>\n      <td>...</td>\n      <td>...</td>\n    </tr>\n    <tr>\n      <th rowspan=\"5\" valign=\"top\">rerank_blender</th>\n      <th>quality</th>\n      <th>((438,26)_blender2_3B, (438,26)_rerank_blender)</th>\n      <td>-1</td>\n      <td>NaN</td>\n    </tr>\n    <tr>\n      <th>engaging</th>\n      <th>((438,26)_blender2_3B, (438,26)_rerank_blender)</th>\n      <td>-1</td>\n      <td>NaN</td>\n    </tr>\n    <tr>\n      <th>proactive</th>\n      <th>((438,26)_blender2_3B, (438,26)_rerank_blender)</th>\n      <td>-1</td>\n      <td>NaN</td>\n    </tr>\n    <tr>\n      <th>consistent</th>\n      <th>((438,26)_blender2_3B, (438,26)_rerank_blender)</th>\n      <td>1</td>\n      <td>NaN</td>\n    </tr>\n    <tr>\n      <th>emotional</th>\n      <th>((438,26)_blender2_3B, (438,26)_rerank_blender)</th>\n      <td>-1</td>\n      <td>NaN</td>\n    </tr>\n  </tbody>\n</table>\n<p>3232 rows × 2 columns</p>\n</div>"
     },
     "execution_count": 13,
     "metadata": {},
     "output_type": "execute_result"
    }
   ],
   "source": [
    "surge_annotations_comparative"
   ],
   "metadata": {
    "collapsed": false,
    "pycharm": {
     "name": "#%%\n"
    }
   }
  },
  {
   "cell_type": "code",
   "execution_count": 14,
   "outputs": [
    {
     "data": {
      "text/plain": "404"
     },
     "execution_count": 14,
     "metadata": {},
     "output_type": "execute_result"
    }
   ],
   "source": [
    "surge_annotation_dialogues = {\n",
    "    x for x in surge_annotations.index.get_level_values('item')\n",
    "    if not isinstance(x, tuple)\n",
    "}\n",
    "len(surge_annotation_dialogues)"
   ],
   "metadata": {
    "collapsed": false,
    "pycharm": {
     "name": "#%%\n"
    }
   }
  },
  {
   "cell_type": "code",
   "execution_count": 19,
   "outputs": [
    {
     "data": {
      "text/plain": "400"
     },
     "execution_count": 19,
     "metadata": {},
     "output_type": "execute_result"
    }
   ],
   "source": [
    "def dialogue_set(df: pd.DataFrame, category):\n",
    "    return {\n",
    "        x for x in df.xs(category, level=sym.category).index.get_level_values('item')\n",
    "        if not isinstance(x, tuple)\n",
    "    }"
   ],
   "metadata": {
    "collapsed": false,
    "pycharm": {
     "name": "#%%\n"
    }
   }
  },
  {
   "cell_type": "code",
   "execution_count": 27,
   "outputs": [
    {
     "data": {
      "text/plain": "400"
     },
     "execution_count": 27,
     "metadata": {},
     "output_type": "execute_result"
    }
   ],
   "source": [
    "evald = dialogue_set(surge_annotations, category.likert_dialogue)\n",
    "len(evald)"
   ],
   "metadata": {
    "collapsed": false,
    "pycharm": {
     "name": "#%%\n"
    }
   }
  },
  {
   "cell_type": "code",
   "execution_count": null,
   "outputs": [],
   "source": [
    "comparative_annotation_dialogues = {\n",
    "    x for y, z in surge_annotations_comparative.index.get_level_values('dialogues')\n",
    "    for x in (y, z)\n",
    "}\n",
    "len(comparative_annotation_dialogues)"
   ],
   "metadata": {
    "collapsed": false,
    "pycharm": {
     "name": "#%%\n"
    }
   }
  },
  {
   "cell_type": "code",
   "execution_count": 20,
   "outputs": [
    {
     "data": {
      "text/plain": "{'(438,26)_blender2_3B',\n '(439,26)_emora',\n '(440,26)_bart_fid_rag_bcb',\n '(441,26)_blender2_3B'}"
     },
     "execution_count": 20,
     "metadata": {},
     "output_type": "execute_result"
    }
   ],
   "source": [
    "not_in_400 = comparative_annotation_dialogues - evald\n",
    "not_in_400"
   ],
   "metadata": {
    "collapsed": false,
    "pycharm": {
     "name": "#%%\n"
    }
   }
  },
  {
   "cell_type": "code",
   "execution_count": 23,
   "outputs": [
    {
     "data": {
      "text/plain": "set()"
     },
     "execution_count": 23,
     "metadata": {},
     "output_type": "execute_result"
    }
   ],
   "source": [
    "not_in_404 = evald - comparative_annotation_dialogues\n",
    "not_in_404"
   ],
   "metadata": {
    "collapsed": false,
    "pycharm": {
     "name": "#%%\n"
    }
   }
  },
  {
   "cell_type": "code",
   "execution_count": 25,
   "outputs": [
    {
     "data": {
      "text/plain": "202"
     },
     "execution_count": 25,
     "metadata": {},
     "output_type": "execute_result"
    }
   ],
   "source": [
    "pairs = {\n",
    "    frozenset((x, y)) for x, y in surge_annotations_comparative.index.get_level_values('dialogues')\n",
    "}\n",
    "len(pairs)"
   ],
   "metadata": {
    "collapsed": false,
    "pycharm": {
     "name": "#%%\n"
    }
   }
  },
  {
   "cell_type": "code",
   "execution_count": 30,
   "outputs": [
    {
     "data": {
      "text/plain": "{'(100,1)_blender2_3B',\n '(100,1)_emora',\n '(103,1)_blender2_3B',\n '(103,1)_emora',\n '(104,1)_bart_fid_rag_bcb',\n '(104,1)_blender2_3B',\n '(1041,38)_blender2_3B',\n '(1041,38)_emora',\n '(1042,38)_emora',\n '(1042,38)_rerank_blender',\n '(1043,38)_blender2_3B',\n '(1043,38)_rerank_blender',\n '(1044,38)_bart_fid_rag_bcb',\n '(1044,38)_rerank_blender',\n '(1045,38)_blender2_3B',\n '(1045,38)_rerank_blender',\n '(1046,38)_bart_fid_rag_bcb',\n '(1046,38)_rerank_blender',\n '(1047,38)_bart_fid_rag_bcb',\n '(1047,38)_rerank_blender',\n '(1048,38)_bart_fid_rag_bcb',\n '(1048,38)_blender2_3B',\n '(1049,38)_blender2_3B',\n '(1049,38)_rerank_blender',\n '(1050,38)_emora',\n '(1050,38)_rerank_blender',\n '(1051,38)_emora',\n '(1051,38)_rerank_blender',\n '(1052,38)_emora',\n '(1052,38)_rerank_blender',\n '(1053,38)_bart_fid_rag_bcb',\n '(1053,38)_emora',\n '(1054,38)_emora',\n '(1054,38)_rerank_blender',\n '(1055,38)_blender2_3B',\n '(1055,38)_rerank_blender',\n '(1056,38)_bart_fid_rag_bcb',\n '(1056,38)_rerank_blender',\n '(1057,38)_blender2_3B',\n '(1057,38)_rerank_blender',\n '(1058,38)_blender2_3B',\n '(1058,38)_emora',\n '(1059,38)_bart_fid_rag_bcb',\n '(1059,38)_rerank_blender',\n '(106,1)_bart_fid_rag_bcb',\n '(106,1)_emora',\n '(106,13)_emora',\n '(106,13)_rerank_blender',\n '(1060,38)_emora',\n '(1060,38)_rerank_blender',\n '(1061,38)_emora',\n '(1061,38)_rerank_blender',\n '(1062,38)_bart_fid_rag_bcb',\n '(1062,38)_rerank_blender',\n '(1064,38)_blender2_3B',\n '(1064,38)_rerank_blender',\n '(1065,38)_emora',\n '(1065,38)_rerank_blender',\n '(1066,38)_bart_fid_rag_bcb',\n '(1066,38)_rerank_blender',\n '(1067,38)_blender2_3B',\n '(1067,38)_rerank_blender',\n '(1068,38)_bart_fid_rag_bcb',\n '(1068,38)_blender2_3B',\n '(1069,38)_bart_fid_rag_bcb',\n '(1069,38)_emora',\n '(107,13)_blender2_3B',\n '(107,13)_rerank_blender',\n '(1070,38)_emora',\n '(1070,38)_rerank_blender',\n '(1071,38)_blender2_3B',\n '(1071,38)_emora',\n '(1072,38)_bart_fid_rag_bcb',\n '(1072,38)_emora',\n '(1073,38)_bart_fid_rag_bcb',\n '(1073,38)_blender2_3B',\n '(1074,38)_blender2_3B',\n '(1074,38)_rerank_blender',\n '(1075,38)_bart_fid_rag_bcb',\n '(1075,38)_rerank_blender',\n '(1076,38)_emora',\n '(1076,38)_rerank_blender',\n '(1077,38)_bart_fid_rag_bcb',\n '(1077,38)_rerank_blender',\n '(1078,38)_blender2_3B',\n '(1078,38)_emora',\n '(1079,38)_bart_fid_rag_bcb',\n '(1079,38)_blender2_3B',\n '(108,13)_blender2_3B',\n '(108,13)_rerank_blender',\n '(1080,38)_blender2_3B',\n '(1080,38)_emora',\n '(1081,38)_blender2_3B',\n '(1081,38)_rerank_blender',\n '(1082,38)_emora',\n '(1082,38)_rerank_blender',\n '(1083,38)_bart_fid_rag_bcb',\n '(1083,38)_rerank_blender',\n '(1084,38)_blender2_3B',\n '(1084,38)_rerank_blender',\n '(1085,38)_bart_fid_rag_bcb',\n '(1085,38)_emora',\n '(1086,38)_bart_fid_rag_bcb',\n '(1086,38)_emora',\n '(1087,38)_blender2_3B',\n '(1087,38)_emora',\n '(1088,38)_bart_fid_rag_bcb',\n '(1088,38)_rerank_blender',\n '(1089,38)_blender2_3B',\n '(1089,38)_rerank_blender',\n '(109,1)_bart_fid_rag_bcb',\n '(109,1)_blender2_3B',\n '(109,13)_bart_fid_rag_bcb',\n '(109,13)_rerank_blender',\n '(1090,38)_bart_fid_rag_bcb',\n '(1090,38)_blender2_3B',\n '(1091,38)_bart_fid_rag_bcb',\n '(1091,38)_blender2_3B',\n '(1093,38)_bart_fid_rag_bcb',\n '(1093,38)_emora',\n '(1094,38)_emora',\n '(1094,38)_rerank_blender',\n '(1095,38)_bart_fid_rag_bcb',\n '(1095,38)_rerank_blender',\n '(1096,38)_blender2_3B',\n '(1096,38)_rerank_blender',\n '(1097,38)_bart_fid_rag_bcb',\n '(1097,38)_emora',\n '(1098,38)_bart_fid_rag_bcb',\n '(1098,38)_blender2_3B',\n '(110,13)_emora',\n '(110,13)_rerank_blender',\n '(1100,38)_emora',\n '(1100,38)_rerank_blender',\n '(1101,38)_bart_fid_rag_bcb',\n '(1101,38)_rerank_blender',\n '(1102,38)_bart_fid_rag_bcb',\n '(1102,38)_rerank_blender',\n '(1103,38)_blender2_3B',\n '(1103,38)_rerank_blender',\n '(1104,38)_blender2_3B',\n '(1104,38)_rerank_blender',\n '(1105,38)_emora',\n '(1105,38)_rerank_blender',\n '(111,1)_bart_fid_rag_bcb',\n '(111,1)_emora',\n '(111,13)_emora',\n '(111,13)_rerank_blender',\n '(112,1)_bart_fid_rag_bcb',\n '(112,1)_blender2_3B',\n '(112,13)_blender2_3B',\n '(112,13)_rerank_blender',\n '(113,13)_bart_fid_rag_bcb',\n '(113,13)_rerank_blender',\n '(114,13)_bart_fid_rag_bcb',\n '(114,13)_rerank_blender',\n '(115,1)_blender2_3B',\n '(115,1)_emora',\n '(115,13)_emora',\n '(115,13)_rerank_blender',\n '(116,13)_blender2_3B',\n '(116,13)_rerank_blender',\n '(117,13)_bart_fid_rag_bcb',\n '(117,13)_rerank_blender',\n '(118,13)_blender2_3B',\n '(118,13)_rerank_blender',\n '(119,1)_bart_fid_rag_bcb',\n '(119,1)_emora',\n '(119,13)_emora',\n '(119,13)_rerank_blender',\n '(120,1)_bart_fid_rag_bcb',\n '(120,1)_emora',\n '(120,13)_bart_fid_rag_bcb',\n '(120,13)_rerank_blender',\n '(121,13)_emora',\n '(121,13)_rerank_blender',\n '(122,13)_blender2_3B',\n '(122,13)_rerank_blender',\n '(123,13)_bart_fid_rag_bcb',\n '(123,13)_rerank_blender',\n '(124,13)_blender2_3B',\n '(124,13)_rerank_blender',\n '(125,1)_blender2_3B',\n '(125,1)_emora',\n '(125,13)_emora',\n '(125,13)_rerank_blender',\n '(126,13)_bart_fid_rag_bcb',\n '(126,13)_rerank_blender',\n '(127,13)_emora',\n '(127,13)_rerank_blender',\n '(128,1)_bart_fid_rag_bcb',\n '(128,1)_emora',\n '(128,13)_blender2_3B',\n '(128,13)_rerank_blender',\n '(129,1)_blender2_3B',\n '(129,1)_emora',\n '(13,1)_bart_fid_rag_bcb',\n '(13,1)_emora',\n '(130,1)_bart_fid_rag_bcb',\n '(130,1)_emora',\n '(132,1)_bart_fid_rag_bcb',\n '(132,1)_emora',\n '(133,1)_bart_fid_rag_bcb',\n '(133,1)_blender2_3B',\n '(134,1)_blender2_3B',\n '(134,1)_emora',\n '(137,1)_bart_fid_rag_bcb',\n '(137,1)_emora',\n '(14,1)_bart_fid_rag_bcb',\n '(14,1)_blender2_3B',\n '(141,1)_bart_fid_rag_bcb',\n '(141,1)_blender2_3B',\n '(143,1)_bart_fid_rag_bcb',\n '(143,1)_blender2_3B',\n '(147,1)_blender2_3B',\n '(147,1)_emora',\n '(152,1)_blender2_3B',\n '(152,1)_emora',\n '(154,1)_blender2_3B',\n '(154,1)_emora',\n '(156,1)_bart_fid_rag_bcb',\n '(156,1)_blender2_3B',\n '(158,1)_bart_fid_rag_bcb',\n '(158,1)_blender2_3B',\n '(163,1)_bart_fid_rag_bcb',\n '(163,1)_emora',\n '(164,1)_bart_fid_rag_bcb',\n '(164,1)_blender2_3B',\n '(165,1)_blender2_3B',\n '(165,1)_emora',\n '(169,1)_bart_fid_rag_bcb',\n '(169,1)_emora',\n '(17,1)_blender2_3B',\n '(17,1)_emora',\n '(170,1)_bart_fid_rag_bcb',\n '(170,1)_emora',\n '(171,1)_bart_fid_rag_bcb',\n '(171,1)_blender2_3B',\n '(173,1)_blender2_3B',\n '(173,1)_emora',\n '(176,1)_bart_fid_rag_bcb',\n '(176,1)_emora',\n '(178,1)_blender2_3B',\n '(178,1)_emora',\n '(180,1)_bart_fid_rag_bcb',\n '(180,1)_blender2_3B',\n '(183,1)_bart_fid_rag_bcb',\n '(183,1)_blender2_3B',\n '(186,1)_bart_fid_rag_bcb',\n '(186,1)_emora',\n '(187,1)_blender2_3B',\n '(187,1)_emora',\n '(188,1)_bart_fid_rag_bcb',\n '(188,1)_blender2_3B',\n '(19,1)_bart_fid_rag_bcb',\n '(19,1)_emora',\n '(20,1)_blender2_3B',\n '(20,1)_emora',\n '(21,1)_bart_fid_rag_bcb',\n '(21,1)_blender2_3B',\n '(23,1)_blender2_3B',\n '(23,1)_emora',\n '(24,1)_bart_fid_rag_bcb',\n '(24,1)_emora',\n '(29,1)_bart_fid_rag_bcb',\n '(29,1)_blender2_3B',\n '(35,1)_blender2_3B',\n '(35,1)_emora',\n '(350,25)_emora',\n '(350,25)_rerank_blender',\n '(351,25)_blender2_3B',\n '(351,25)_rerank_blender',\n '(352,25)_bart_fid_rag_bcb',\n '(352,25)_rerank_blender',\n '(36,1)_bart_fid_rag_bcb',\n '(36,1)_emora',\n '(37,1)_bart_fid_rag_bcb',\n '(37,1)_emora',\n '(38,1)_bart_fid_rag_bcb',\n '(38,1)_blender2_3B',\n '(39,1)_blender2_3B',\n '(39,1)_emora',\n '(41,1)_bart_fid_rag_bcb',\n '(41,1)_blender2_3B',\n '(410,26)_blender2_3B',\n '(410,26)_rerank_blender',\n '(411,26)_bart_fid_rag_bcb',\n '(411,26)_rerank_blender',\n '(412,26)_emora',\n '(412,26)_rerank_blender',\n '(413,26)_bart_fid_rag_bcb',\n '(413,26)_rerank_blender',\n '(414,26)_emora',\n '(414,26)_rerank_blender',\n '(415,26)_blender2_3B',\n '(415,26)_rerank_blender',\n '(416,26)_emora',\n '(416,26)_rerank_blender',\n '(417,26)_bart_fid_rag_bcb',\n '(417,26)_rerank_blender',\n '(418,26)_blender2_3B',\n '(418,26)_rerank_blender',\n '(419,26)_emora',\n '(419,26)_rerank_blender',\n '(42,1)_bart_fid_rag_bcb',\n '(42,1)_emora',\n '(420,26)_blender2_3B',\n '(420,26)_rerank_blender',\n '(421,26)_bart_fid_rag_bcb',\n '(421,26)_rerank_blender',\n '(422,26)_emora',\n '(422,26)_rerank_blender',\n '(423,26)_blender2_3B',\n '(423,26)_rerank_blender',\n '(424,26)_bart_fid_rag_bcb',\n '(424,26)_rerank_blender',\n '(425,26)_emora',\n '(425,26)_rerank_blender',\n '(426,26)_blender2_3B',\n '(426,26)_rerank_blender',\n '(427,26)_bart_fid_rag_bcb',\n '(427,26)_rerank_blender',\n '(428,26)_blender2_3B',\n '(428,26)_rerank_blender',\n '(429,26)_emora',\n '(429,26)_rerank_blender',\n '(430,26)_bart_fid_rag_bcb',\n '(430,26)_rerank_blender',\n '(431,26)_bart_fid_rag_bcb',\n '(431,26)_rerank_blender',\n '(432,26)_emora',\n '(432,26)_rerank_blender',\n '(433,26)_blender2_3B',\n '(433,26)_rerank_blender',\n '(434,26)_emora',\n '(434,26)_rerank_blender',\n '(435,26)_bart_fid_rag_bcb',\n '(435,26)_rerank_blender',\n '(436,26)_blender2_3B',\n '(436,26)_rerank_blender',\n '(437,26)_bart_fid_rag_bcb',\n '(437,26)_rerank_blender',\n '(438,26)_blender2_3B',\n '(438,26)_rerank_blender',\n '(439,26)_emora',\n '(439,26)_rerank_blender',\n '(440,26)_bart_fid_rag_bcb',\n '(440,26)_rerank_blender',\n '(441,26)_blender2_3B',\n '(441,26)_rerank_blender',\n '(46,1)_blender2_3B',\n '(46,1)_emora',\n '(49,1)_bart_fid_rag_bcb',\n '(49,1)_blender2_3B',\n '(50,1)_bart_fid_rag_bcb',\n '(50,1)_blender2_3B',\n '(51,1)_bart_fid_rag_bcb',\n '(51,1)_emora',\n '(52,1)_blender2_3B',\n '(52,1)_emora',\n '(58,1)_blender2_3B',\n '(58,1)_emora',\n '(60,1)_bart_fid_rag_bcb',\n '(60,1)_blender2_3B',\n '(61,1)_bart_fid_rag_bcb',\n '(61,1)_emora',\n '(63,1)_bart_fid_rag_bcb',\n '(63,1)_emora',\n '(65,1)_bart_fid_rag_bcb',\n '(65,1)_blender2_3B',\n '(66,1)_bart_fid_rag_bcb',\n '(66,1)_emora',\n '(69,1)_blender2_3B',\n '(69,1)_emora',\n '(7,1)_bart_fid_rag_bcb',\n '(7,1)_emora',\n '(71,1)_bart_fid_rag_bcb',\n '(71,1)_blender2_3B',\n '(72,1)_bart_fid_rag_bcb',\n '(72,1)_blender2_3B',\n '(73,1)_blender2_3B',\n '(73,1)_emora',\n '(77,1)_bart_fid_rag_bcb',\n '(77,1)_emora',\n '(79,1)_blender2_3B',\n '(79,1)_emora',\n '(83,1)_blender2_3B',\n '(83,1)_emora',\n '(85,1)_bart_fid_rag_bcb',\n '(85,1)_blender2_3B',\n '(86,1)_bart_fid_rag_bcb',\n '(86,1)_emora',\n '(88,1)_bart_fid_rag_bcb',\n '(88,1)_blender2_3B',\n '(89,1)_blender2_3B',\n '(89,1)_emora',\n '(9,1)_blender2_3B',\n '(9,1)_emora',\n '(91,1)_bart_fid_rag_bcb',\n '(91,1)_emora',\n '(94,1)_bart_fid_rag_bcb',\n '(94,1)_blender2_3B',\n '(95,1)_blender2_3B',\n '(95,1)_emora'}"
     },
     "execution_count": 30,
     "metadata": {},
     "output_type": "execute_result"
    }
   ],
   "source": [
    "compared = {x for y, z in pairs for x in (y, z)}\n",
    "compared"
   ],
   "metadata": {
    "collapsed": false,
    "pycharm": {
     "name": "#%%\n"
    }
   }
  },
  {
   "cell_type": "code",
   "execution_count": 31,
   "outputs": [],
   "source": [
    "def dial_bot(dial):\n",
    "    return dial[dial.find('_')+1:]\n",
    "\n",
    "def count_bots(dials):\n",
    "    counts = {}\n",
    "    for dial in dials:\n",
    "        bot = dial_bot(dial)\n",
    "        counts[bot] = counts.get(bot, 0) + 1\n",
    "    return counts"
   ],
   "metadata": {
    "collapsed": false,
    "pycharm": {
     "name": "#%%\n"
    }
   }
  },
  {
   "cell_type": "code",
   "execution_count": 32,
   "outputs": [
    {
     "data": {
      "text/plain": "{'emora': 101,\n 'bart_fid_rag_bcb': 101,\n 'blender2_3B': 102,\n 'rerank_blender': 100}"
     },
     "execution_count": 32,
     "metadata": {},
     "output_type": "execute_result"
    }
   ],
   "source": [
    "count_bots(compared)"
   ],
   "metadata": {
    "collapsed": false,
    "pycharm": {
     "name": "#%%\n"
    }
   }
  },
  {
   "cell_type": "code",
   "execution_count": 33,
   "outputs": [
    {
     "data": {
      "text/plain": "{'emora': 100,\n 'bart_fid_rag_bcb': 100,\n 'blender2_3B': 100,\n 'rerank_blender': 100}"
     },
     "execution_count": 33,
     "metadata": {},
     "output_type": "execute_result"
    }
   ],
   "source": [
    "count_bots(evald)"
   ],
   "metadata": {
    "collapsed": false,
    "pycharm": {
     "name": "#%%\n"
    }
   }
  },
  {
   "cell_type": "code",
   "execution_count": null,
   "outputs": [],
   "source": [],
   "metadata": {
    "collapsed": false,
    "pycharm": {
     "name": "#%%\n"
    }
   }
  }
 ],
 "metadata": {
  "kernelspec": {
   "display_name": "Python 3",
   "language": "python",
   "name": "python3"
  },
  "language_info": {
   "codemirror_mode": {
    "name": "ipython",
    "version": 2
   },
   "file_extension": ".py",
   "mimetype": "text/x-python",
   "name": "python",
   "nbconvert_exporter": "python",
   "pygments_lexer": "ipython2",
   "version": "2.7.6"
  }
 },
 "nbformat": 4,
 "nbformat_minor": 0
}