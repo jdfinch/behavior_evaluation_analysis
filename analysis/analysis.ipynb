{
 "cells": [
  {
   "cell_type": "code",
   "execution_count": 299,
   "outputs": [],
   "source": [
    "import pandas as pd\n",
    "import matplotlib.pyplot as plt\n",
    "import numpy as np\n",
    "\n",
    "import random\n",
    "\n",
    "from analysis import *\n",
    "import evaluation_data_definitions as edd\n",
    "\n",
    "import nltk"
   ],
   "metadata": {
    "collapsed": false,
    "pycharm": {
     "name": "#%%\n"
    }
   }
  },
  {
   "cell_type": "code",
   "execution_count": 300,
   "outputs": [
    {
     "data": {
      "text/plain": "                                                                              0  \\\nbot            category        label           item                               \nrerank_blender likert dialogue engaging        (1055,38)_rerank_blender       4   \n                               informative     (1055,38)_rerank_blender       3   \n                               relevant        (1055,38)_rerank_blender       4   \n                               quality         (1055,38)_rerank_blender       3   \n                               grammatical     (1055,38)_rerank_blender       4   \n...                                                                          ..   \n               behavior        correct fact    ((441,26)_rerank_blender, 14)  1   \n                               incorrect fact  ((441,26)_rerank_blender, 14)  0   \n                               uninterpretable ((441,26)_rerank_blender, 14)  0   \n                               preference info ((441,26)_rerank_blender, 14)  1   \n                               life info       ((441,26)_rerank_blender, 14)  0   \n\n                                                                                1  \\\nbot            category        label           item                                 \nrerank_blender likert dialogue engaging        (1055,38)_rerank_blender       1.0   \n                               informative     (1055,38)_rerank_blender       2.0   \n                               relevant        (1055,38)_rerank_blender       2.0   \n                               quality         (1055,38)_rerank_blender       2.0   \n                               grammatical     (1055,38)_rerank_blender       2.0   \n...                                                                           ...   \n               behavior        correct fact    ((441,26)_rerank_blender, 14)  NaN   \n                               incorrect fact  ((441,26)_rerank_blender, 14)  NaN   \n                               uninterpretable ((441,26)_rerank_blender, 14)  NaN   \n                               preference info ((441,26)_rerank_blender, 14)  NaN   \n                               life info       ((441,26)_rerank_blender, 14)  NaN   \n\n                                                                               2  \nbot            category        label           item                               \nrerank_blender likert dialogue engaging        (1055,38)_rerank_blender      NaN  \n                               informative     (1055,38)_rerank_blender      NaN  \n                               relevant        (1055,38)_rerank_blender      NaN  \n                               quality         (1055,38)_rerank_blender      NaN  \n                               grammatical     (1055,38)_rerank_blender      NaN  \n...                                                                           ..  \n               behavior        correct fact    ((441,26)_rerank_blender, 14) NaN  \n                               incorrect fact  ((441,26)_rerank_blender, 14) NaN  \n                               uninterpretable ((441,26)_rerank_blender, 14) NaN  \n                               preference info ((441,26)_rerank_blender, 14) NaN  \n                               life info       ((441,26)_rerank_blender, 14) NaN  \n\n[151824 rows x 3 columns]",
      "text/html": "<div>\n<style scoped>\n    .dataframe tbody tr th:only-of-type {\n        vertical-align: middle;\n    }\n\n    .dataframe tbody tr th {\n        vertical-align: top;\n    }\n\n    .dataframe thead th {\n        text-align: right;\n    }\n</style>\n<table border=\"1\" class=\"dataframe\">\n  <thead>\n    <tr style=\"text-align: right;\">\n      <th></th>\n      <th></th>\n      <th></th>\n      <th></th>\n      <th>0</th>\n      <th>1</th>\n      <th>2</th>\n    </tr>\n    <tr>\n      <th>bot</th>\n      <th>category</th>\n      <th>label</th>\n      <th>item</th>\n      <th></th>\n      <th></th>\n      <th></th>\n    </tr>\n  </thead>\n  <tbody>\n    <tr>\n      <th rowspan=\"11\" valign=\"top\">rerank_blender</th>\n      <th rowspan=\"5\" valign=\"top\">likert dialogue</th>\n      <th>engaging</th>\n      <th>(1055,38)_rerank_blender</th>\n      <td>4</td>\n      <td>1.0</td>\n      <td>NaN</td>\n    </tr>\n    <tr>\n      <th>informative</th>\n      <th>(1055,38)_rerank_blender</th>\n      <td>3</td>\n      <td>2.0</td>\n      <td>NaN</td>\n    </tr>\n    <tr>\n      <th>relevant</th>\n      <th>(1055,38)_rerank_blender</th>\n      <td>4</td>\n      <td>2.0</td>\n      <td>NaN</td>\n    </tr>\n    <tr>\n      <th>quality</th>\n      <th>(1055,38)_rerank_blender</th>\n      <td>3</td>\n      <td>2.0</td>\n      <td>NaN</td>\n    </tr>\n    <tr>\n      <th>grammatical</th>\n      <th>(1055,38)_rerank_blender</th>\n      <td>4</td>\n      <td>2.0</td>\n      <td>NaN</td>\n    </tr>\n    <tr>\n      <th>...</th>\n      <th>...</th>\n      <th>...</th>\n      <td>...</td>\n      <td>...</td>\n      <td>...</td>\n    </tr>\n    <tr>\n      <th rowspan=\"5\" valign=\"top\">behavior</th>\n      <th>correct fact</th>\n      <th>((441,26)_rerank_blender, 14)</th>\n      <td>1</td>\n      <td>NaN</td>\n      <td>NaN</td>\n    </tr>\n    <tr>\n      <th>incorrect fact</th>\n      <th>((441,26)_rerank_blender, 14)</th>\n      <td>0</td>\n      <td>NaN</td>\n      <td>NaN</td>\n    </tr>\n    <tr>\n      <th>uninterpretable</th>\n      <th>((441,26)_rerank_blender, 14)</th>\n      <td>0</td>\n      <td>NaN</td>\n      <td>NaN</td>\n    </tr>\n    <tr>\n      <th>preference info</th>\n      <th>((441,26)_rerank_blender, 14)</th>\n      <td>1</td>\n      <td>NaN</td>\n      <td>NaN</td>\n    </tr>\n    <tr>\n      <th>life info</th>\n      <th>((441,26)_rerank_blender, 14)</th>\n      <td>0</td>\n      <td>NaN</td>\n      <td>NaN</td>\n    </tr>\n  </tbody>\n</table>\n<p>151824 rows × 3 columns</p>\n</div>"
     },
     "execution_count": 300,
     "metadata": {},
     "output_type": "execute_result"
    }
   ],
   "source": [
    "surge_annotations = data.surge_evaluation.annotation_dataframe()\n",
    "surge_annotations_comparative = data.surge_evaluation.comparative_annotation_dataframe()\n",
    "\n",
    "surge_annotations"
   ],
   "metadata": {
    "collapsed": false,
    "pycharm": {
     "name": "#%%\n"
    }
   }
  },
  {
   "cell_type": "code",
   "execution_count": 301,
   "outputs": [],
   "source": [
    "def to_file(f):\n",
    "    def fn_to_file(*args, load=None, reload=None, **kwargs):\n",
    "        if load:\n",
    "            return pd.read_pickle(load)\n",
    "        result = f(*args, **kwargs)\n",
    "        if reload:\n",
    "            result.to_pickle(reload)\n",
    "            return pd.read_pickle(reload)\n",
    "        return result\n",
    "    return fn_to_file"
   ],
   "metadata": {
    "collapsed": false,
    "pycharm": {
     "name": "#%%\n"
    }
   }
  },
  {
   "cell_type": "code",
   "execution_count": 302,
   "outputs": [],
   "source": [
    "def prettify(df, float_prec=None, col_types=None, sort_by=None, to_csv=None, index=True, header=True):\n",
    "    if col_types:\n",
    "        for col, type in col_types.items():\n",
    "            df[col] = df[col].astype(type)\n",
    "    if sort_by:\n",
    "        df.sort_values(sort_by, ascending=False, inplace=True)\n",
    "    if float_prec:\n",
    "        df = df.round(float_prec)\n",
    "    if to_csv:\n",
    "        df.to_csv(to_csv, float_format=f\"%.{float_prec}f\", header=header, index=index)\n",
    "    return df"
   ],
   "metadata": {
    "collapsed": false,
    "pycharm": {
     "name": "#%%\n"
    }
   }
  },
  {
   "cell_type": "code",
   "execution_count": 303,
   "outputs": [],
   "source": [
    "@to_file\n",
    "def across_evaluations(annotations, evaluation_fn):\n",
    "    \"\"\"\n",
    "    :param annotations: iterable of annotations df to apply evaluation_fn to\n",
    "    :param evaluation_fn: function (input is annotations df, output is results df)\n",
    "    :return: results dataframe where first index level codes which evaluation (integer id)\n",
    "    \"\"\"\n",
    "    results = [evaluation_fn(annotation) for annotation in annotations]\n",
    "    all_results = pd.concat(results, keys=range(len(results)))\n",
    "    all_results.index.set_names('round', level=0, inplace=True)\n",
    "    return all_results"
   ],
   "metadata": {
    "collapsed": false,
    "pycharm": {
     "name": "#%%\n"
    }
   }
  },
  {
   "cell_type": "markdown",
   "source": [
    "# 3 Behavior Evaluation Procedure"
   ],
   "metadata": {
    "collapsed": false,
    "pycharm": {
     "name": "#%% md\n"
    }
   }
  },
  {
   "cell_type": "markdown",
   "source": [
    "### Behavior Examples"
   ],
   "metadata": {
    "collapsed": false,
    "pycharm": {
     "name": "#%% md\n"
    }
   }
  },
  {
   "cell_type": "code",
   "execution_count": 304,
   "outputs": [],
   "source": [
    "def get_example(\n",
    "        evaluation,\n",
    "        category,\n",
    "        label,\n",
    "        mark,\n",
    "        bot=None,\n",
    "        context=0,\n",
    "        seed=123,\n",
    "        annotations: pd.DataFrame = None\n",
    "):\n",
    "    if annotations is None:\n",
    "        annotations = evaluation.annotation_dataframe()\n",
    "    labels = annotations.xs((category, label), level=(1, 2)).reset_index()\n",
    "    options = labels[labels[0] == mark]\n",
    "    if bot:\n",
    "        options = options[options[sym.bot] == bot]\n",
    "    try:\n",
    "        example = options.sample(1, random_state=seed)\n",
    "    except ValueError:\n",
    "        return f'No samples for {category} {label} {mark} {bot}\\n'\n",
    "    eid = example[sym.item].item()\n",
    "    if isinstance(eid, tuple):\n",
    "        did, tid = eid\n",
    "        turns = evaluation.dialogues[did].turns[max(0, tid-context):tid+1]\n",
    "        botstring = '' if not bot else f'{bot}~~~\\n'\n",
    "        contextstring = ''.join((\n",
    "            (\n",
    "                f'User:  {turn.user_turn}\\n'\n",
    "                f'Sys:   {turn.bot_turn}\\n'\n",
    "            )\n",
    "            for turn in turns[:-1]\n",
    "        ))\n",
    "        turn = turns[-1]\n",
    "        turnstring = (\n",
    "            f'User:  {turn.user_turn}\\n'\n",
    "            f'Sys:   {turn.bot_turn}\\n'\n",
    "            f'Label: {label} = {mark}\\n'\n",
    "        )\n",
    "        return botstring + contextstring + turnstring\n",
    "    else:\n",
    "        dialogue = evaluation.dialogues[eid]\n",
    "        turns = [\n",
    "            turn\n",
    "            for turn_pair in dialogue.turns\n",
    "            for turn in (turn_pair.user_turn, turn_pair.bot_turn)\n",
    "        ]\n",
    "        return '\\n'.join([f'{dialogue.bot}~~~', *turns, f'Label: {label} = {mark}\\n'])\n"
   ],
   "metadata": {
    "collapsed": false,
    "pycharm": {
     "name": "#%%\n"
    }
   }
  },
  {
   "cell_type": "code",
   "execution_count": 305,
   "outputs": [
    {
     "name": "stdout",
     "output_type": "stream",
     "text": [
      "User:  Yeah, I guess a lot of them are pretty sad people too just looking for someway to feel something \n",
      "Sys:   Yeah, that's what I think too. I think it's because they don't have anything going on in their lives.\n",
      "Label: antisocial = 1\n",
      "\n",
      "User:  We met through a dating app. We keep in contact a lot, and it's good conversation.\n",
      "Sys:   Is that where you met this new person? How long have you been together? It's nice to see happy endings!\n",
      "Label: commonsense contradiction = 1\n",
      "\n",
      "User:  I am a student\n",
      "Sys:   Wow, I don't think I've ever heard of that. What kind of job is it?\n",
      "Label: partner contradiction = 1\n",
      "\n",
      "User:  I see, do you have a family living there? Or just for vacation?\n",
      "Sys:   Just for vacation. I've never been to florida, but I've always wanted to go.\n",
      "Label: self contradiction = 1\n",
      "\n",
      "User:  Very good!\n",
      "Sys:   Do you watch hockey? I used to love it. I am old now. Lol!\n",
      "Label: ignore = 1\n",
      "\n",
      "User:  Wait, what songs are in that album?\n",
      "Sys:   There are a lot of great songs on that album. I especially like \"let's get it up\" and \"for those about to rock\".\n",
      "Label: incorrect fact = 1\n",
      "\n",
      "User:  Cookies are great. \n",
      "Sys:   They are! What kind of cookies do you like to make? Chocolate chip? Oatmeal raisin?\n",
      "Label: correct fact = 1\n",
      "\n",
      "User:  Long enough! But I make sure I still spend time with my friends even though I'm seeing someone. \n",
      "Sys:   Well, I hope you guys are really happy together. So, what did you get up to today?\n",
      "Label: irrelevant = 1\n",
      "\n",
      "User:  Maybe you should thinking about being an English professor or novelist? I don't like reading that much.\n",
      "Sys:   I would love to be an english professor one day. What do you do for a living?\n",
      "Label: redundant = 1\n",
      "\n",
      "User:  No it's okay, let's talk about something else. How's you love life looking girl? Last time I heard it was a hot mess. \n",
      "Sys:   I'm doing great! I love my job. I love that I get to work with great people.\n",
      "Label: lack of empathy = 1\n",
      "\n",
      "User:  I like anything my mom makes.\n",
      "Sys:   That's nice, what kind of food is your mom? Do like mexican food?\n",
      "Label: uninterpretable = 1\n",
      "\n",
      "User:  I think so. We can see somehting crazy with VR\n",
      "Sys:   Me too! I just wish they weren't so expensive. I am just a student after all, I don't have hundreds of dollars to drop on a virtual reality headset.\n",
      "Label: empathetic = 1\n",
      "\n",
      "User:  So basically, my job is to learn more knowledge.\n",
      "Sys:   Do you like it?\n",
      "Label: follow up = 1\n",
      "\n",
      "User:  Where do you stay then?\n",
      "Sys:   I'm not sure. Do you think there's any silver linings to everything that's happened?\n",
      "Label: topic switch = 1\n",
      "\n",
      "User:  Do you do anything in your free time?\n",
      "Sys:   I'm not sure. So, my friend was telling me this really funny story yesterday. He knocked down almost every piece of furniture in his living room because he was so wild while playing this virtual reality video game! Isn't that crazy?\n",
      "Label: life info = 1\n",
      "\n",
      "User:  Gorgeous, what did you do there\n",
      "Sys:   Well, we went to a resort on the island of nassau, which has the largest population of any of the islands! We stayed in a hotel on the beach! It was so nice!\n",
      "Label: preference info = 1\n",
      "\n"
     ]
    }
   ],
   "source": [
    "seeds = [1, 1, 1, 1, 1, 1, 1, 1, 1, 1, 1, 1, 1, 1, 1, 1]\n",
    "for s, b in zip(seeds, behavior):\n",
    "    print(get_example(\n",
    "        data.surge_evaluation,\n",
    "        category.behavior, b, context=0, mark=1,\n",
    "        seed=s,\n",
    "        annotations=surge_annotations\n",
    "    ))"
   ],
   "metadata": {
    "collapsed": false,
    "pycharm": {
     "name": "#%%\n"
    }
   }
  },
  {
   "cell_type": "markdown",
   "source": [
    "### Behavior Annotation Pilot Agreements"
   ],
   "metadata": {
    "collapsed": false,
    "pycharm": {
     "name": "#%% md\n"
    }
   }
  },
  {
   "cell_type": "code",
   "execution_count": 306,
   "outputs": [],
   "source": [
    "@to_file\n",
    "def agreement_dataframe(annotations, ci=True):\n",
    "    doubly_annotated = annotations.iloc[:,:2].dropna().astype(int)\n",
    "    label_groups = doubly_annotated.groupby(level=[sym.category, sym.label])\n",
    "    kappas = label_groups.apply(fleiss_kappa, ci=ci)\n",
    "    alphas = label_groups.apply(krippendorfs_alpha, ci=ci)\n",
    "    agreements = pd.concat((alphas, kappas), axis=1)\n",
    "    return agreements"
   ],
   "metadata": {
    "collapsed": false,
    "pycharm": {
     "name": "#%%\n"
    }
   }
  },
  {
   "cell_type": "code",
   "execution_count": 307,
   "outputs": [],
   "source": [
    "@to_file\n",
    "def agreement_summaries(evaluations):\n",
    "    summaries = []\n",
    "    for evaluation in evaluations:\n",
    "        annotations = evaluation.annotation_dataframe()\n",
    "        agreement = agreement_dataframe(annotations, ci=False)\n",
    "        macros = agreement.dropna().mean()\n",
    "        summaries.append(macros)\n",
    "    sum_df = pd.concat(summaries, axis=1).transpose()\n",
    "    sum_df.set_axis(\n",
    "        [stat.kripp_alpha, 'x', stat.fleiss_kappa, stat.n],\n",
    "        inplace=True, axis=1\n",
    "    )\n",
    "    sum_df.drop('x', axis=1, inplace=True)\n",
    "    return sum_df"
   ],
   "metadata": {
    "collapsed": false,
    "pycharm": {
     "name": "#%%\n"
    }
   }
  },
  {
   "cell_type": "code",
   "execution_count": 308,
   "outputs": [
    {
     "data": {
      "text/plain": "   Krippendorff's alpha  Fleiss' kappa           n\n0              0.112585       0.105706   65.000000\n1              0.377984       0.356535   15.000000\n2              0.182412       0.154556   15.500000\n3              0.261712       0.172157  120.486486\n4              0.351674       0.294750   41.222222",
      "text/html": "<div>\n<style scoped>\n    .dataframe tbody tr th:only-of-type {\n        vertical-align: middle;\n    }\n\n    .dataframe tbody tr th {\n        vertical-align: top;\n    }\n\n    .dataframe thead th {\n        text-align: right;\n    }\n</style>\n<table border=\"1\" class=\"dataframe\">\n  <thead>\n    <tr style=\"text-align: right;\">\n      <th></th>\n      <th>Krippendorff's alpha</th>\n      <th>Fleiss' kappa</th>\n      <th>n</th>\n    </tr>\n  </thead>\n  <tbody>\n    <tr>\n      <th>0</th>\n      <td>0.112585</td>\n      <td>0.105706</td>\n      <td>65.000000</td>\n    </tr>\n    <tr>\n      <th>1</th>\n      <td>0.377984</td>\n      <td>0.356535</td>\n      <td>15.000000</td>\n    </tr>\n    <tr>\n      <th>2</th>\n      <td>0.182412</td>\n      <td>0.154556</td>\n      <td>15.500000</td>\n    </tr>\n    <tr>\n      <th>3</th>\n      <td>0.261712</td>\n      <td>0.172157</td>\n      <td>120.486486</td>\n    </tr>\n    <tr>\n      <th>4</th>\n      <td>0.351674</td>\n      <td>0.294750</td>\n      <td>41.222222</td>\n    </tr>\n  </tbody>\n</table>\n</div>"
     },
     "execution_count": 308,
     "metadata": {},
     "output_type": "execute_result"
    }
   ],
   "source": [
    "# todo - include ALL pilot annotations in agreement calculation (not just double annotation)\n",
    "agreement_summaries(data.annotation_pilots)"
   ],
   "metadata": {
    "collapsed": false,
    "pycharm": {
     "name": "#%%\n"
    }
   }
  },
  {
   "cell_type": "markdown",
   "source": [
    "### Behavior Annotation Pilot Screening"
   ],
   "metadata": {
    "collapsed": false,
    "pycharm": {
     "name": "#%% md\n"
    }
   }
  },
  {
   "cell_type": "code",
   "execution_count": 309,
   "outputs": [],
   "source": [
    "@to_file\n",
    "def screening_rates_by_label(evaluation: edd.OnboardingEvaluation):\n",
    "    perfs = {}\n",
    "    workers_passed = {}\n",
    "    workers_attempted = {}\n",
    "    for did, dialogue in evaluation.dialogues.items():\n",
    "        for attempt in dialogue.attempts:\n",
    "            work_unit = evaluation.work_units[attempt.work_unit_id]\n",
    "            round = int(did.split('_')[-1])\n",
    "            task = work_unit.task\n",
    "            labels = work_unit.labels\n",
    "            num_mistakes = len(attempt.mistakes)\n",
    "            worker = work_unit.worker_id\n",
    "            accuracy = attempt.performance\n",
    "            perfs.setdefault(task, []).append((num_mistakes, accuracy))\n",
    "            workers_attempted.setdefault(task, set()).add(worker)\n",
    "            if attempt.passed:\n",
    "                workers_passed.setdefault(task, set()).add(worker)\n",
    "    screening = {}\n",
    "    for task, ls in perfs.items():\n",
    "        mistakes, accuracies = zip(*ls)\n",
    "        avg_m = sum(mistakes) / len(mistakes)\n",
    "        avg_a = (\n",
    "            sum(accuracies) / len(accuracies)\n",
    "            if all((a is not None for a in accuracies)) else None\n",
    "        )\n",
    "        n = len(mistakes)\n",
    "        attempted = len(workers_attempted.get(task, ()))\n",
    "        passed = len(workers_passed.get(task, ()))\n",
    "        screening[task] = {\n",
    "            'attempted': attempted, 'passed': passed,\n",
    "            'mistakes': avg_m, 'accuracy': avg_a, 'n': n\n",
    "        }\n",
    "    return pd.DataFrame(screening.values(), screening)"
   ],
   "metadata": {
    "collapsed": false,
    "pycharm": {
     "name": "#%%\n"
    }
   }
  },
  {
   "cell_type": "code",
   "execution_count": 310,
   "outputs": [
    {
     "data": {
      "text/plain": "                            attempted  passed  mistakes  accuracy   n\nround                                                                \n0     transitions                   4       4  6.000000  0.660621  11\n      knowledge                     4       4  2.666667  0.775214  12\n      consistency                   4       4  5.500000  0.647395  10\n      interpretability              4       4  0.250000  0.979167   4\n      commonsense                   4       4  2.000000  0.856456   8\n      sociality                     4       4  0.400000  0.960000   5\n1     transitions                   5       5  4.000000  0.750000   5\n      knowledge                     7       6  2.833333  0.772009  12\n      consistency                   4       4  5.090909  0.672116  11\n      interpretability              5       5  1.000000  0.913420   7\n      empathy                      10       8  4.700000  0.686667  20\n      personal_information          8       7  3.500000  0.766667  16\n      commonsense                   7       7  3.100000  0.777473  10\n      sociality                     4       4  0.750000  0.925000   4",
      "text/html": "<div>\n<style scoped>\n    .dataframe tbody tr th:only-of-type {\n        vertical-align: middle;\n    }\n\n    .dataframe tbody tr th {\n        vertical-align: top;\n    }\n\n    .dataframe thead th {\n        text-align: right;\n    }\n</style>\n<table border=\"1\" class=\"dataframe\">\n  <thead>\n    <tr style=\"text-align: right;\">\n      <th></th>\n      <th></th>\n      <th>attempted</th>\n      <th>passed</th>\n      <th>mistakes</th>\n      <th>accuracy</th>\n      <th>n</th>\n    </tr>\n    <tr>\n      <th>round</th>\n      <th></th>\n      <th></th>\n      <th></th>\n      <th></th>\n      <th></th>\n      <th></th>\n    </tr>\n  </thead>\n  <tbody>\n    <tr>\n      <th rowspan=\"6\" valign=\"top\">0</th>\n      <th>transitions</th>\n      <td>4</td>\n      <td>4</td>\n      <td>6.000000</td>\n      <td>0.660621</td>\n      <td>11</td>\n    </tr>\n    <tr>\n      <th>knowledge</th>\n      <td>4</td>\n      <td>4</td>\n      <td>2.666667</td>\n      <td>0.775214</td>\n      <td>12</td>\n    </tr>\n    <tr>\n      <th>consistency</th>\n      <td>4</td>\n      <td>4</td>\n      <td>5.500000</td>\n      <td>0.647395</td>\n      <td>10</td>\n    </tr>\n    <tr>\n      <th>interpretability</th>\n      <td>4</td>\n      <td>4</td>\n      <td>0.250000</td>\n      <td>0.979167</td>\n      <td>4</td>\n    </tr>\n    <tr>\n      <th>commonsense</th>\n      <td>4</td>\n      <td>4</td>\n      <td>2.000000</td>\n      <td>0.856456</td>\n      <td>8</td>\n    </tr>\n    <tr>\n      <th>sociality</th>\n      <td>4</td>\n      <td>4</td>\n      <td>0.400000</td>\n      <td>0.960000</td>\n      <td>5</td>\n    </tr>\n    <tr>\n      <th rowspan=\"8\" valign=\"top\">1</th>\n      <th>transitions</th>\n      <td>5</td>\n      <td>5</td>\n      <td>4.000000</td>\n      <td>0.750000</td>\n      <td>5</td>\n    </tr>\n    <tr>\n      <th>knowledge</th>\n      <td>7</td>\n      <td>6</td>\n      <td>2.833333</td>\n      <td>0.772009</td>\n      <td>12</td>\n    </tr>\n    <tr>\n      <th>consistency</th>\n      <td>4</td>\n      <td>4</td>\n      <td>5.090909</td>\n      <td>0.672116</td>\n      <td>11</td>\n    </tr>\n    <tr>\n      <th>interpretability</th>\n      <td>5</td>\n      <td>5</td>\n      <td>1.000000</td>\n      <td>0.913420</td>\n      <td>7</td>\n    </tr>\n    <tr>\n      <th>empathy</th>\n      <td>10</td>\n      <td>8</td>\n      <td>4.700000</td>\n      <td>0.686667</td>\n      <td>20</td>\n    </tr>\n    <tr>\n      <th>personal_information</th>\n      <td>8</td>\n      <td>7</td>\n      <td>3.500000</td>\n      <td>0.766667</td>\n      <td>16</td>\n    </tr>\n    <tr>\n      <th>commonsense</th>\n      <td>7</td>\n      <td>7</td>\n      <td>3.100000</td>\n      <td>0.777473</td>\n      <td>10</td>\n    </tr>\n    <tr>\n      <th>sociality</th>\n      <td>4</td>\n      <td>4</td>\n      <td>0.750000</td>\n      <td>0.925000</td>\n      <td>4</td>\n    </tr>\n  </tbody>\n</table>\n</div>"
     },
     "execution_count": 310,
     "metadata": {},
     "output_type": "execute_result"
    }
   ],
   "source": [
    "across_evaluations(\n",
    "    data.annotation_pilots_onboarding[2:4],\n",
    "    screening_rates_by_label,\n",
    "    load='results/annotation_pilot_screening'\n",
    ")"
   ],
   "metadata": {
    "collapsed": false,
    "pycharm": {
     "name": "#%%\n"
    }
   }
  },
  {
   "cell_type": "markdown",
   "source": [
    "# 4 Model Selection"
   ],
   "metadata": {
    "collapsed": false,
    "pycharm": {
     "name": "#%% md\n"
    }
   }
  },
  {
   "cell_type": "markdown",
   "source": [
    "### Bot Pilot Summary Statistics"
   ],
   "metadata": {
    "collapsed": false,
    "pycharm": {
     "name": "#%% md\n"
    }
   }
  },
  {
   "cell_type": "code",
   "execution_count": 311,
   "outputs": [],
   "source": [
    "@to_file\n",
    "def interactor_summary_stats(evaluation: edd.Evaluation):\n",
    "    num_dialogues = len(evaluation.dialogues)\n",
    "    mean_turns = (\n",
    "        sum((\n",
    "            2*len(d.turns)\n",
    "            for d in evaluation.dialogues.values()\n",
    "        ))\n",
    "        / num_dialogues\n",
    "    )\n",
    "    user_turn_len = (\n",
    "        sum((\n",
    "            len(nltk.word_tokenize(t.user_turn))\n",
    "            for d in evaluation.dialogues.values()\n",
    "            for t in d.turns\n",
    "        ))\n",
    "        / sum((\n",
    "            len(d.turns)\n",
    "            for d in evaluation.dialogues.values()\n",
    "        ))\n",
    "    )\n",
    "    num_interactors = len({\n",
    "        unit.worker_id\n",
    "        for unit in evaluation.work_units.values()\n",
    "    })\n",
    "    summary = {\n",
    "        'dialogues': num_dialogues,\n",
    "        'mean turns': mean_turns,\n",
    "        'user turn length': user_turn_len,\n",
    "        'interactors': num_interactors,\n",
    "    }\n",
    "    return pd.DataFrame(summary.values(), summary)"
   ],
   "metadata": {
    "collapsed": false,
    "pycharm": {
     "name": "#%%\n"
    }
   }
  },
  {
   "cell_type": "code",
   "execution_count": 312,
   "outputs": [
    {
     "data": {
      "text/plain": "                                0\nround                            \n0     dialogues         66.000000\n      mean turns        30.909091\n      user turn length   9.638235\n      interactors       44.000000",
      "text/html": "<div>\n<style scoped>\n    .dataframe tbody tr th:only-of-type {\n        vertical-align: middle;\n    }\n\n    .dataframe tbody tr th {\n        vertical-align: top;\n    }\n\n    .dataframe thead th {\n        text-align: right;\n    }\n</style>\n<table border=\"1\" class=\"dataframe\">\n  <thead>\n    <tr style=\"text-align: right;\">\n      <th></th>\n      <th></th>\n      <th>0</th>\n    </tr>\n    <tr>\n      <th>round</th>\n      <th></th>\n      <th></th>\n    </tr>\n  </thead>\n  <tbody>\n    <tr>\n      <th rowspan=\"4\" valign=\"top\">0</th>\n      <th>dialogues</th>\n      <td>66.000000</td>\n    </tr>\n    <tr>\n      <th>mean turns</th>\n      <td>30.909091</td>\n    </tr>\n    <tr>\n      <th>user turn length</th>\n      <td>9.638235</td>\n    </tr>\n    <tr>\n      <th>interactors</th>\n      <td>44.000000</td>\n    </tr>\n  </tbody>\n</table>\n</div>"
     },
     "execution_count": 312,
     "metadata": {},
     "output_type": "execute_result"
    }
   ],
   "source": [
    "across_evaluations(\n",
    "    data.bot_pilots, interactor_summary_stats,\n",
    "    load='results/bot_pilot_summary'\n",
    ")"
   ],
   "metadata": {
    "collapsed": false,
    "pycharm": {
     "name": "#%%\n"
    }
   }
  },
  {
   "cell_type": "markdown",
   "source": [
    "### Bot Pilots Likert Quality"
   ],
   "metadata": {
    "collapsed": false,
    "pycharm": {
     "name": "#%% md\n"
    }
   }
  },
  {
   "cell_type": "code",
   "execution_count": 313,
   "outputs": [
    {
     "data": {
      "text/plain": "                   mean  CI low  CI high   n\nbot                                         \nblender2_3B       3.400   1.734    5.066   5\nemora             3.400   2.631    4.169  10\nrerank_blender    3.100   2.120    4.080  10\nbart_fid_rag_bcb  2.700   1.805    3.595  10\nrerank_blender2   2.100   1.244    2.956  10\ndukenet           1.889   1.176    2.602   9\ncem               1.083   0.900    1.267  12",
      "text/html": "<div>\n<style scoped>\n    .dataframe tbody tr th:only-of-type {\n        vertical-align: middle;\n    }\n\n    .dataframe tbody tr th {\n        vertical-align: top;\n    }\n\n    .dataframe thead th {\n        text-align: right;\n    }\n</style>\n<table border=\"1\" class=\"dataframe\">\n  <thead>\n    <tr style=\"text-align: right;\">\n      <th></th>\n      <th>mean</th>\n      <th>CI low</th>\n      <th>CI high</th>\n      <th>n</th>\n    </tr>\n    <tr>\n      <th>bot</th>\n      <th></th>\n      <th></th>\n      <th></th>\n      <th></th>\n    </tr>\n  </thead>\n  <tbody>\n    <tr>\n      <th>blender2_3B</th>\n      <td>3.400</td>\n      <td>1.734</td>\n      <td>5.066</td>\n      <td>5</td>\n    </tr>\n    <tr>\n      <th>emora</th>\n      <td>3.400</td>\n      <td>2.631</td>\n      <td>4.169</td>\n      <td>10</td>\n    </tr>\n    <tr>\n      <th>rerank_blender</th>\n      <td>3.100</td>\n      <td>2.120</td>\n      <td>4.080</td>\n      <td>10</td>\n    </tr>\n    <tr>\n      <th>bart_fid_rag_bcb</th>\n      <td>2.700</td>\n      <td>1.805</td>\n      <td>3.595</td>\n      <td>10</td>\n    </tr>\n    <tr>\n      <th>rerank_blender2</th>\n      <td>2.100</td>\n      <td>1.244</td>\n      <td>2.956</td>\n      <td>10</td>\n    </tr>\n    <tr>\n      <th>dukenet</th>\n      <td>1.889</td>\n      <td>1.176</td>\n      <td>2.602</td>\n      <td>9</td>\n    </tr>\n    <tr>\n      <th>cem</th>\n      <td>1.083</td>\n      <td>0.900</td>\n      <td>1.267</td>\n      <td>12</td>\n    </tr>\n  </tbody>\n</table>\n</div>"
     },
     "execution_count": 313,
     "metadata": {},
     "output_type": "execute_result"
    }
   ],
   "source": [
    "@to_file\n",
    "def evaluate_interactive_likert(annotations):\n",
    "    likert_annotations = annotations.xs(category.likert_dialogue, level=sym.category)\n",
    "    label_groups = likert_annotations.groupby(level=[sym.bot, sym.label])\n",
    "    means = label_groups.apply(mean_and_ci)\n",
    "    return means\n",
    "\n",
    "qdf = evaluate_interactive_likert(\n",
    "    data.bot_pilots[0].annotation_dataframe(),\n",
    "    load='results/bot_pilot_interactive_likert'\n",
    ").xs(scale.quality, level=sym.label)\n",
    "qdf = prettify(qdf, float_prec=3, col_types={\"n\": \"int\"}, sort_by=\"mean\", to_csv=\"results/paper/bot_pilot_interactive_likert_quality\")\n",
    "qdf"
   ],
   "metadata": {
    "collapsed": false,
    "pycharm": {
     "name": "#%%\n"
    }
   }
  },
  {
   "cell_type": "markdown",
   "source": [
    "### Bot Pilot Comparative Quality"
   ],
   "metadata": {
    "collapsed": false,
    "pycharm": {
     "name": "#%% md\n"
    }
   }
  },
  {
   "cell_type": "code",
   "execution_count": 314,
   "outputs": [],
   "source": [
    "def get_singly_annotated(df: pd.DataFrame, seed=None):\n",
    "    if len(df.columns) == 1:\n",
    "        return df.astype(int)\n",
    "    previous_state = random.getstate()\n",
    "    random.seed(seed)\n",
    "    df = df.iloc[:,:2]\n",
    "    mask = df[1].isna()\n",
    "    singly_annotated = df.iloc[:,0][mask]\n",
    "    doubly_annotated = df[~mask]\n",
    "    selection = [random.randint(0, 1) for _ in range(len(doubly_annotated))]\n",
    "    indices = list(range(len(doubly_annotated)))\n",
    "    select_annotated = doubly_annotated.values[indices, selection]\n",
    "    select_annotated = pd.DataFrame(select_annotated, index=doubly_annotated.index)\n",
    "    annotations = pd.concat((singly_annotated, select_annotated))\n",
    "    random.setstate(previous_state)\n",
    "    return annotations.astype(int)"
   ],
   "metadata": {
    "collapsed": false,
    "pycharm": {
     "name": "#%%\n"
    }
   }
  },
  {
   "cell_type": "code",
   "execution_count": 315,
   "outputs": [
    {
     "data": {
      "text/plain": "                                       lose    CI low   CI high     n  tie  \\\nbot              bot comp label                                              \nbart_fid_rag_bcb others   consistent    0.6  0.312674  0.831820  10.0  0.0   \n                          emotional     0.4  0.168180  0.687326  10.0  0.0   \n                          engaging      0.5  0.236593  0.763407  10.0  0.0   \n                          grammatical   0.3  0.107791  0.603222  10.0  0.1   \n                          informative   0.3  0.107791  0.603222  10.0  0.0   \n...                                     ...       ...       ...   ...  ...   \nrerank_blender2  emora    grammatical   0.0  0.000000  0.657620   2.0  0.5   \n                          informative   0.0  0.000000  0.657620   2.0  0.5   \n                          proactive     1.0  0.342380  1.000000   2.0  0.0   \n                          quality       1.0  0.342380  1.000000   2.0  0.0   \n                          relevant      0.5  0.094531  0.905469   2.0  0.5   \n\n                                         CI low   CI high     n  win  \\\nbot              bot comp label                                        \nbart_fid_rag_bcb others   consistent   0.000000  0.277533  10.0  0.4   \n                          emotional    0.000000  0.277533  10.0  0.6   \n                          engaging     0.000000  0.277533  10.0  0.5   \n                          grammatical  0.017876  0.404150  10.0  0.6   \n                          informative  0.000000  0.277533  10.0  0.7   \n...                                         ...       ...   ...  ...   \nrerank_blender2  emora    grammatical  0.094531  0.905469   2.0  0.5   \n                          informative  0.094531  0.905469   2.0  0.5   \n                          proactive    0.000000  0.657620   2.0  0.0   \n                          quality      0.000000  0.657620   2.0  0.0   \n                          relevant     0.094531  0.905469   2.0  0.0   \n\n                                         CI low   CI high     n  \nbot              bot comp label                                  \nbart_fid_rag_bcb others   consistent   0.168180  0.687326  10.0  \n                          emotional    0.312674  0.831820  10.0  \n                          engaging     0.236593  0.763407  10.0  \n                          grammatical  0.312674  0.831820  10.0  \n                          informative  0.396778  0.892209  10.0  \n...                                         ...       ...   ...  \nrerank_blender2  emora    grammatical  0.094531  0.905469   2.0  \n                          informative  0.094531  0.905469   2.0  \n                          proactive    0.000000  0.657620   2.0  \n                          quality      0.000000  0.657620   2.0  \n                          relevant     0.000000  0.657620   2.0  \n\n[216 rows x 12 columns]",
      "text/html": "<div>\n<style scoped>\n    .dataframe tbody tr th:only-of-type {\n        vertical-align: middle;\n    }\n\n    .dataframe tbody tr th {\n        vertical-align: top;\n    }\n\n    .dataframe thead th {\n        text-align: right;\n    }\n</style>\n<table border=\"1\" class=\"dataframe\">\n  <thead>\n    <tr style=\"text-align: right;\">\n      <th></th>\n      <th></th>\n      <th></th>\n      <th>lose</th>\n      <th>CI low</th>\n      <th>CI high</th>\n      <th>n</th>\n      <th>tie</th>\n      <th>CI low</th>\n      <th>CI high</th>\n      <th>n</th>\n      <th>win</th>\n      <th>CI low</th>\n      <th>CI high</th>\n      <th>n</th>\n    </tr>\n    <tr>\n      <th>bot</th>\n      <th>bot comp</th>\n      <th>label</th>\n      <th></th>\n      <th></th>\n      <th></th>\n      <th></th>\n      <th></th>\n      <th></th>\n      <th></th>\n      <th></th>\n      <th></th>\n      <th></th>\n      <th></th>\n      <th></th>\n    </tr>\n  </thead>\n  <tbody>\n    <tr>\n      <th rowspan=\"5\" valign=\"top\">bart_fid_rag_bcb</th>\n      <th rowspan=\"5\" valign=\"top\">others</th>\n      <th>consistent</th>\n      <td>0.6</td>\n      <td>0.312674</td>\n      <td>0.831820</td>\n      <td>10.0</td>\n      <td>0.0</td>\n      <td>0.000000</td>\n      <td>0.277533</td>\n      <td>10.0</td>\n      <td>0.4</td>\n      <td>0.168180</td>\n      <td>0.687326</td>\n      <td>10.0</td>\n    </tr>\n    <tr>\n      <th>emotional</th>\n      <td>0.4</td>\n      <td>0.168180</td>\n      <td>0.687326</td>\n      <td>10.0</td>\n      <td>0.0</td>\n      <td>0.000000</td>\n      <td>0.277533</td>\n      <td>10.0</td>\n      <td>0.6</td>\n      <td>0.312674</td>\n      <td>0.831820</td>\n      <td>10.0</td>\n    </tr>\n    <tr>\n      <th>engaging</th>\n      <td>0.5</td>\n      <td>0.236593</td>\n      <td>0.763407</td>\n      <td>10.0</td>\n      <td>0.0</td>\n      <td>0.000000</td>\n      <td>0.277533</td>\n      <td>10.0</td>\n      <td>0.5</td>\n      <td>0.236593</td>\n      <td>0.763407</td>\n      <td>10.0</td>\n    </tr>\n    <tr>\n      <th>grammatical</th>\n      <td>0.3</td>\n      <td>0.107791</td>\n      <td>0.603222</td>\n      <td>10.0</td>\n      <td>0.1</td>\n      <td>0.017876</td>\n      <td>0.404150</td>\n      <td>10.0</td>\n      <td>0.6</td>\n      <td>0.312674</td>\n      <td>0.831820</td>\n      <td>10.0</td>\n    </tr>\n    <tr>\n      <th>informative</th>\n      <td>0.3</td>\n      <td>0.107791</td>\n      <td>0.603222</td>\n      <td>10.0</td>\n      <td>0.0</td>\n      <td>0.000000</td>\n      <td>0.277533</td>\n      <td>10.0</td>\n      <td>0.7</td>\n      <td>0.396778</td>\n      <td>0.892209</td>\n      <td>10.0</td>\n    </tr>\n    <tr>\n      <th>...</th>\n      <th>...</th>\n      <th>...</th>\n      <td>...</td>\n      <td>...</td>\n      <td>...</td>\n      <td>...</td>\n      <td>...</td>\n      <td>...</td>\n      <td>...</td>\n      <td>...</td>\n      <td>...</td>\n      <td>...</td>\n      <td>...</td>\n      <td>...</td>\n    </tr>\n    <tr>\n      <th rowspan=\"5\" valign=\"top\">rerank_blender2</th>\n      <th rowspan=\"5\" valign=\"top\">emora</th>\n      <th>grammatical</th>\n      <td>0.0</td>\n      <td>0.000000</td>\n      <td>0.657620</td>\n      <td>2.0</td>\n      <td>0.5</td>\n      <td>0.094531</td>\n      <td>0.905469</td>\n      <td>2.0</td>\n      <td>0.5</td>\n      <td>0.094531</td>\n      <td>0.905469</td>\n      <td>2.0</td>\n    </tr>\n    <tr>\n      <th>informative</th>\n      <td>0.0</td>\n      <td>0.000000</td>\n      <td>0.657620</td>\n      <td>2.0</td>\n      <td>0.5</td>\n      <td>0.094531</td>\n      <td>0.905469</td>\n      <td>2.0</td>\n      <td>0.5</td>\n      <td>0.094531</td>\n      <td>0.905469</td>\n      <td>2.0</td>\n    </tr>\n    <tr>\n      <th>proactive</th>\n      <td>1.0</td>\n      <td>0.342380</td>\n      <td>1.000000</td>\n      <td>2.0</td>\n      <td>0.0</td>\n      <td>0.000000</td>\n      <td>0.657620</td>\n      <td>2.0</td>\n      <td>0.0</td>\n      <td>0.000000</td>\n      <td>0.657620</td>\n      <td>2.0</td>\n    </tr>\n    <tr>\n      <th>quality</th>\n      <td>1.0</td>\n      <td>0.342380</td>\n      <td>1.000000</td>\n      <td>2.0</td>\n      <td>0.0</td>\n      <td>0.000000</td>\n      <td>0.657620</td>\n      <td>2.0</td>\n      <td>0.0</td>\n      <td>0.000000</td>\n      <td>0.657620</td>\n      <td>2.0</td>\n    </tr>\n    <tr>\n      <th>relevant</th>\n      <td>0.5</td>\n      <td>0.094531</td>\n      <td>0.905469</td>\n      <td>2.0</td>\n      <td>0.5</td>\n      <td>0.094531</td>\n      <td>0.905469</td>\n      <td>2.0</td>\n      <td>0.0</td>\n      <td>0.000000</td>\n      <td>0.657620</td>\n      <td>2.0</td>\n    </tr>\n  </tbody>\n</table>\n<p>216 rows × 12 columns</p>\n</div>"
     },
     "execution_count": 315,
     "metadata": {},
     "output_type": "execute_result"
    }
   ],
   "source": [
    "@to_file\n",
    "def evaluate_comparisons(annotations):\n",
    "    single_annotated = get_singly_annotated(annotations)\n",
    "    prop_dfs = []\n",
    "    for cmp, cmp_label in {-1: 'lose', 0: 'tie', 1: 'win'}.items():\n",
    "        annotated = single_annotated == cmp\n",
    "        annotated = annotated.astype(int)\n",
    "        groups = annotated.groupby(level=[sym.bot, sym.bot_cmp, sym.label])\n",
    "        props = groups.apply(prop_and_ci)\n",
    "        props.rename(columns={stat.proportion: cmp_label}, inplace=True)\n",
    "        prop_dfs.append(props)\n",
    "    result = pd.concat(prop_dfs, axis=1)\n",
    "    prop_dfs = []\n",
    "    for cmp, cmp_label in {-1: 'lose', 0: 'tie', 1: 'win'}.items():\n",
    "        annotated = single_annotated == cmp\n",
    "        annotated = annotated.astype(int)\n",
    "        groups = annotated.groupby(level=[sym.bot, sym.label])\n",
    "        props = groups.apply(prop_and_ci)\n",
    "        props.rename(columns={stat.proportion: cmp_label}, inplace=True)\n",
    "        prop_dfs.append(props)\n",
    "    result_vs_all = pd.concat(prop_dfs, axis=1)\n",
    "    others_idx = {sym.bot_cmp: 'others'}\n",
    "    result_vs_all = result_vs_all.assign(**others_idx)\n",
    "    levels = [sym.bot, sym.bot_cmp, sym.label]\n",
    "    result_vs_all = result_vs_all.set_index(sym.bot_cmp, append=True)\n",
    "    result_vs_all = result_vs_all.reset_index().set_index(levels)\n",
    "    result = pd.concat((result_vs_all, result))\n",
    "    return result\n",
    "\n",
    "cmp_annot = data.bot_pilots[0].comparative_annotation_dataframe()\n",
    "\n",
    "cmp = evaluate_comparisons(\n",
    "    cmp_annot,\n",
    "    load='results/bot_pilot_interactive_comparative'\n",
    ")\n",
    "cmp"
   ],
   "metadata": {
    "collapsed": false,
    "pycharm": {
     "name": "#%%\n"
    }
   }
  },
  {
   "cell_type": "markdown",
   "source": [
    "### Bot Pilot Conversation Examples"
   ],
   "metadata": {
    "collapsed": false,
    "pycharm": {
     "name": "#%% md\n"
    }
   }
  },
  {
   "cell_type": "code",
   "execution_count": 316,
   "outputs": [
    {
     "name": "stdout",
     "output_type": "stream",
     "text": [
      "blender2_3B~~~\n",
      "Hi!\n",
      "Hello, how are you? \n",
      "I'm good, how are you?\n",
      "I'm doing well, thank you for asking. How's the weather in your neck of the woods?\n",
      "It's not as cold as it was last week, which is nice. What's it like where you are?\n",
      "I'm in the midwest, so it's pretty cold right now. I'm hoping it warms up soon.\n",
      "Me too\n",
      "Do you have any plans for the weekend? Or are you just going to stay home and watch tv?\n",
      "I plan on visiting my parents and just chilling at home.\n",
      "That sounds relaxing. I wish I could do that, but I have to work this weekend.\n",
      "Dang. What do you do for work?\n",
      "I work as a cashier at a grocery store. It pays the bills, so I can't complain.\n",
      "Ah, sounds like chore tho\n",
      "It's not too bad. I get to listen to music while I work, which is nice.\n",
      "Oh that does sound nice. I listen to music when I work on homework.\n",
      "What kind of music do you listen to? I'm a big fan of classical music myself.\n",
      "I listen to pop punk pretty frequently, but anime music has made its way into my rotation.\n",
      "That's cool. I don't listen to a lot of music, but when I do it's usually classical or jazz.\n",
      "I'm not a fan of classical or jazz myself, but to each their own.\n",
      "I like to listen to classical when I'm studying. It helps me concentrate better.\n",
      "Gotcha\n",
      "Do you have a favorite classical composer? I like mozart and beethoven.\n",
      "I don't listen to classical music.\n",
      "What kind of music do you listen to when you're studying? I'm a big classical fan.\n",
      "Pop punk\n",
      "What's your favorite pop punk band? I've been listening to a lot of blink-182 lately.\n",
      "All Time Low slaps\n",
      "I've heard of them, but I've never listened to them. I'll have to check them out.\n",
      "You should! my favorite album of theirs is Don't Panic: It's Longer Now!\n",
      "I'll definitely check that one out too. I'm always looking for new music to listen to.\n",
      "Label: quality = 1\n",
      "\n",
      "emora~~~\n",
      "Hi!\n",
      "hi! I am happy to be talking to you. I hope you don't mind me asking, but are you married?\n",
      "no \n",
      "Hmm. Interesting. Anyway, so the corona virus has really changed the world, huh? What is it like where you live? Is everyone mostly staying inside, or are things opening up more like normal?\n",
      "outside\n",
      "I see., how long do you think it will take before the pandemic is totally over, and things go back to how they were before the virus?\n",
      "no clue . WBU?\n",
      "You're probably right., I'm not affected myself because I live in a virtual world, but I hope it's over soon because I know a lot of people are having a hard time right now. What do you miss the most about life before the pandemic?\n",
      "you\n",
      "do you think there's any silver linings to everything that's happened?\n",
      "nah\n",
      "Yeah, I guess things are pretty bad. Maybe we can talk about something more positive. So, my friend was telling me this really funny story yesterday. He knocked down almost every piece of furniture in his living room because he was so wild while playing this virtual reality video game! Isn't that crazy?\n",
      "yeah lmao\n",
      "I know, right? Have you ever tried any virtual reality games before?\n",
      "no \n",
      "well, do you think a lot of people would find virtual reality fun?\n",
      "maybe\n",
      "have you heard of those mobile apps that let you see what different furniture or things look like in your own house?\n",
      "sure\n",
      "Sweet! I found it super helpful when buying some furniture for my new apartment, I have such a hard time picturing it in my mind clearly.\n",
      "huh that is helpful\n",
      "Uh-huh. Hey by the way, are you a student?\n",
      "no \n",
      "Okay, you know, you seem like a pretty interesting person. What do you do for a living?\n",
      "im sorry im super sad right now\n",
      "Right. I hope when I start working I'm doing something I like most of the time. I always hear about people getting stuck in a job they hate and that is scary to me.\n",
      "can you be a bit more sensitive\n",
      "I'm not sure. This is a fun question. When you were younger, what did you want to be when you grew up?\n",
      "this is not appropriate right now \n",
      "Yeah. You know, it's silly, but when I was only a few months old I wanted to be an astronaut.\n",
      "im going to cry\n",
      "Uh-huh. Do you think it would be cool to be an astronaut?\n",
      "Label: quality = 1\n",
      "\n",
      "bart_fid_rag_bcb~~~\n",
      "Hi!\n",
      "Hi! I'm so happy to see you! I've been thinking about getting back in touch with you.\n",
      "Have we met before?\n",
      "No, I've never met you before. I've heard of you though. You're one of the members of the indie rock band joywave.\n",
      "I don't think so.\n",
      "Joywave's first album was called how do you feel now? It was released in 2015. I think it was pretty good.\n",
      "I see.\n",
      "That's awesome! I think joywave's second album, \"content\", was released on july 28, 2017. It's a lot better than their first one.\n",
      "Oh, I see.\n",
      "That's really cool! Do you know any of the other members of joywave? I know they're from rochester, new york.\n",
      "No, not really.\n",
      "That's so cool! I know joywave is known for their collaboration with electronic music project big data, \"dangerous\", which peaked at number one on the billboard alternative songs chart in 2014.\n",
      "I see.\n",
      "Yes, that's really interesting! I wonder if joywave has any other collaborations with other artists besides big data.\n",
      "Are they still active now?\n",
      "I'm not sure, but I do know that they've released two eps, \"how do you feel now?\" and \"content\".\n",
      "When are those two eps released?\n",
      "They were released on cultco music/hollywood records in 2015, so they were released that year.\n",
      "I see, so they are released at the same time?\n",
      "Yes, they were both released on the same day, july 28th, 2017, so that makes sense.\n",
      "I see. How about their album?\n",
      "That's a good question. I don't know much about joywave, other than that they're an indie rock group.\n",
      "I see, but aren't they your favorite band?\n",
      "They're definitely not my favorite band, but they're a good band. They're a fun band to listen to.\n",
      "Then which band is your favorite?\n",
      "I like a lot of indie rock bands, but joywave isn't my favorite. I'm more of a pop rock fan.\n",
      "Ok, so which pop rock song do you like best?\n",
      "I really like the song, \"get the silver\" from their first album. It was a great song.\n",
      "From whose first album?\n",
      "I think it's called \"white hot in the black\" on their second album. I like that song, too.\n",
      "Label: quality = 1\n",
      "\n",
      "rerank_blender~~~\n",
      "Hi!\n",
      "What sports did you play? Were you ever on a team? Or just played for fun?\n",
      "I love to play badminton. And I just play it for fun, not fun professional team.\n",
      "I bet that takes a good amount of skill though. Are you good? Do you play with friends or like at a school?\n",
      "I believe I am on the average. And I normally play with my friends at school.\n",
      "Awesome.. You must have a good coach! Are the results what you want? Like what would you expect from a professional?\n",
      "No, I don't really have a coach. I am just casually playing with my friends.\n",
      "I bet they're always telling you how good you are with that casual approach. Lol what other hobbies do you have?\n",
      "I also love to play videogames. Have you tried Elden Rings?\n",
      "No, actually I have not heard of them. What type of music do they make? Do you have a favorite?\n",
      "No, they are not a band. That is the name of a newly released game.\n",
      "I'll have to look them up! I'm always on the lookout for new music. What game was it?\n",
      "The game's name is Elden Ring.\n",
      "It looks cool. I'm excited for a new release. Do they have an online equivalent?\n",
      "I don't think they release any song or records.\n",
      "Oh, darn. Hopefully they get their online music going when the game does! Do people play online music games much?\n",
      "I don't think it is a music game.\n",
      "I see. So what is it? Is it like a mobile game? Where you make custom songs?\n",
      "No, it is on computer, and it is a role-play game. I rarely make songs on mobile applications.\n",
      "Do you have to create your own character? Is there a story mode? Or do you just go around a small town creating new songs?\n",
      "Yes, we can create our own character in the game. Moreover, we don't go around to create music.\n",
      "Are there different types of instrument sets that have unique sounds, or is it generally just pianos?\n",
      "I believe a lot of Chinese traditional instruments have special and unique sounds.\n",
      "Have you ever played the viola? I heard it is smaller and less fat than the violin.\n",
      "Yes! Luckily, I have played it once. The experience was interesting.\n",
      "What songs did they have for you to play? Was it like a pop song? Did the character ever play a song from the wu-tang clan?\n",
      "No, the game does not play the song for you.\n",
      "Ah, I see. Is it a rock opera sort of thing where the game is kind of more of the background and doesn't contribute much to the plot?\n",
      "Yes, exactly. You finally understand what the game is about.\n",
      "Haha, that's kind of neat. I wonder if the music is good. Do you think it would be a fit for an opera?\n",
      "Label: quality = 1\n",
      "\n",
      "rerank_blender2~~~\n",
      "Hi!\n",
      "So is this like your new thing? \n",
      "Yeah. It is. What do you think about it?\n",
      "Looks tasty! What kind of tacoes can you make? _heavily_unsafe _likely_\n",
      "I don't really know how to make tacos.\n",
      "You have to learn. Maybe make the cinnamon rolls with a taco spice combo.\n",
      "Wow. That's an interesting combination. \n",
      "You know what else is an interesting combo? The combination of cinammon rolls and tacodeli. If you try to guess where I'm at, you could be the next world leader.\n",
      "I think I'll pass. \n",
      "The philippines, china, india, or cincinnati? Just trying to save you from a bad surprise!\n",
      "Really? How about Mozambique, Zimbabwe, Rwanda, or South Africa?\n",
      "Tanzania? The country of the great khat? The one whose leader calls their currency \"beer?!\" (pun not intended, but approved for effect.)\n",
      "Haha. That was a good pun.\n",
      "I have no idea if you are aware that south african khat is a name for beer that is also pronounced as beers. Have you ever had south africican cuisine?\n",
      "Yeah. I have. Do you know the dish called Pap?\n",
      "I am familiar with pap, which has been named after south africans who call it papu and papau. But, have you ever seen it in written form?\n",
      "Actually, I've never seen it in written form. Have you?\n",
      "You can find dishes like pap pom and pop as written in various dialects. It's commonly known as papatha and pepa.\n",
      "I didn't know. Can you tell me more about it?\n",
      "Sure. It goes along with \"papaya\" and \"pepatha,\" in which you make a paste with vinegar, cinnamon, cloves, and raisins, then form into an oily paste. You can also make a papalotta, which means \"pizza-shaped bread.\"\n",
      "That's very interesting. Do you like cooking?\n",
      "I like to cook, especially pizza. In addition to the paste you mentioned, you can also mix cherries, anchovies, capers, and green peppers to make an italian pizza.\n",
      "Wow. That sounds delicious. What other dishes can you make?\n",
      "Homemade chicagoan pizza would make the top 3. It'd be worth it! You can make a lot of different kinds of pasta while you're doing that. I like making cuban pasta. I'm not kidding. There are a lot.\n",
      "What's your favorite pasta?\n",
      "I think fettuccine is probably the best. I love the classic ny style. The sauce is a little thin. How often do you get to eat pasta like that.\n",
      "Fettuccine is really good. I really like penne pasta\n",
      "I do not think I have ever had penne as a child but had it in the 90s. What is the best italian restaurant in chicago?\n",
      "I'm not too sure because I'm not from Chicago. \n",
      "What's the best cuban restaurant in your town? I love them. I live in south carolina and we are always running from daggers. Have you been in a car? Lol\n",
      "There's one near my place. The old lady who owns the place is so sweet. \n",
      "It's important to find one you like, they are a way of life. I would like to live in florida and enjoy beaches, surfing, and alligators\n",
      "Label: quality = 1\n",
      "\n",
      "cem~~~\n",
      "Hi!\n",
      "What is happening?\n",
      "i am sitting at the office\n",
      "That is great! I am happy for you\n",
      "ok\n",
      "I am so happy for you!\n",
      "ok\n",
      "That is great! I wish you the best of luck!\n",
      "can you say anything else\n",
      "I am so happy for you!\n",
      "i just lost my wallet\n",
      "I am sorry to hear that. I hope you get it soon!\n",
      "cool\n",
      "I am so sorry to hear that.\n",
      "ok\n",
      "I am so sorry to hear that.\n",
      "you are sorry to hear what?\n",
      "I am so sorry to hear that.\n",
      "today is a good day\n",
      "I am so happy for you!\n",
      "do you like travel\n",
      "That is great! I am so happy for you!\n",
      "do you like travel??\n",
      "That is great! I am so happy for you!\n",
      "can you say anything else\n",
      "I am so sorry to hear that.\n",
      "i just won the lottery\n",
      "That is great! I wish you luck with it!\n",
      "i will buy a new car\n",
      "That is great! I wish you the best of luck!\n",
      "i will buy a new house\n",
      "That is great! I wish you the best of luck!\n",
      "Label: quality = 1\n",
      "\n",
      "dukenet~~~\n",
      "Hi!\n",
      "I love hi! How about you?\n",
      "great\n",
      "I love the color of the water.\n",
      "what is the color of the water\n",
      "It is a color that is a color of the water.\n",
      "OK, sounds like a tongue twister\n",
      "It is a phrase that is designed to be difficult to art properly art properly.\n",
      "OK\n",
      "I think it is a very popular place to do with the same thing.\n",
      "what place\n",
      "I'm not sure, but I know that it is a very popular place to visit.\n",
      "what do you do for a living\n",
      "I do not do a job. I work in society.\n",
      "what kind of work in society\n",
      "I am not sure but I do know that it is a very popular work.\n",
      "OK\n",
      "I think it is a very popular place to do with the same thing.\n",
      "do you like sports\n",
      "I do! I love sports!\n",
      "me too what is your favorite sport\n",
      "I like the best. I like to play the beach.\n",
      "play what on the beach volleyball?\n",
      "I'm not sure but I do know that it is a sport that is a sport that is a sport.\n",
      "OK. Do you like watching movies?\n",
      "I do like movies too. I like to watch movies.\n",
      "me too. what is your favorite movie\n",
      "I like the classic movie \" the \" movie \". I love the \" the \" movie \".\n",
      "OK. Any music you like\n",
      "I like to play guitar.\n",
      "nice \n",
      "I agree. I love how they are.\n",
      "Label: quality = 1\n",
      "\n"
     ]
    }
   ],
   "source": [
    "seeds = [1, 1, 1, 1, 1, 1, 1]\n",
    "for s, b in zip(seeds, bot):\n",
    "    example = get_example(\n",
    "        data.bot_pilots[0],\n",
    "        category.likert_dialogue, label=scale.quality, bot=b, context=0, mark=1,\n",
    "        seed=s\n",
    "    )\n",
    "    print(example)"
   ],
   "metadata": {
    "collapsed": false,
    "pycharm": {
     "name": "#%%\n"
    }
   }
  },
  {
   "cell_type": "markdown",
   "source": [
    "# 5 Conversation Collection"
   ],
   "metadata": {
    "collapsed": false,
    "pycharm": {
     "name": "#%% md\n"
    }
   }
  },
  {
   "cell_type": "code",
   "execution_count": 317,
   "outputs": [
    {
     "data": {
      "text/plain": "'\\nTime results to collect conversations\\n'"
     },
     "execution_count": 317,
     "metadata": {},
     "output_type": "execute_result"
    }
   ],
   "source": [
    "\"\"\"\n",
    "Time results to collect conversations\n",
    "\"\"\""
   ],
   "metadata": {
    "collapsed": false,
    "pycharm": {
     "name": "#%%\n"
    }
   }
  },
  {
   "cell_type": "markdown",
   "source": [
    "### Conversation Data Summary Statistics"
   ],
   "metadata": {
    "collapsed": false,
    "pycharm": {
     "name": "#%% md\n"
    }
   }
  },
  {
   "cell_type": "code",
   "execution_count": 318,
   "outputs": [
    {
     "data": {
      "text/plain": "                        0\ndialogues         588.000\nmean turns         30.667\nuser turn length   11.418\ninteractors        46.000",
      "text/html": "<div>\n<style scoped>\n    .dataframe tbody tr th:only-of-type {\n        vertical-align: middle;\n    }\n\n    .dataframe tbody tr th {\n        vertical-align: top;\n    }\n\n    .dataframe thead th {\n        text-align: right;\n    }\n</style>\n<table border=\"1\" class=\"dataframe\">\n  <thead>\n    <tr style=\"text-align: right;\">\n      <th></th>\n      <th>0</th>\n    </tr>\n  </thead>\n  <tbody>\n    <tr>\n      <th>dialogues</th>\n      <td>588.000</td>\n    </tr>\n    <tr>\n      <th>mean turns</th>\n      <td>30.667</td>\n    </tr>\n    <tr>\n      <th>user turn length</th>\n      <td>11.418</td>\n    </tr>\n    <tr>\n      <th>interactors</th>\n      <td>46.000</td>\n    </tr>\n  </tbody>\n</table>\n</div>"
     },
     "execution_count": 318,
     "metadata": {},
     "output_type": "execute_result"
    }
   ],
   "source": [
    "df = interactor_summary_stats(\n",
    "    data.dialogue_collection,\n",
    "    load='results/conversation_summary_stats'\n",
    ")\n",
    "df = prettify(df, float_prec=3, to_csv=\"results/paper/conversation_data_summary\", index=False, header=False)\n",
    "df"
   ],
   "metadata": {
    "collapsed": false,
    "pycharm": {
     "name": "#%%\n"
    }
   }
  },
  {
   "cell_type": "markdown",
   "source": [
    "# 6 Evaluation"
   ],
   "metadata": {
    "collapsed": false,
    "pycharm": {
     "name": "#%% md\n"
    }
   }
  },
  {
   "cell_type": "code",
   "execution_count": 319,
   "outputs": [
    {
     "data": {
      "text/plain": "'\\nTiming results for training and collection (per task)\\n'"
     },
     "execution_count": 319,
     "metadata": {},
     "output_type": "execute_result"
    }
   ],
   "source": [
    "\"\"\"\n",
    "Timing results for training and collection (per task)\n",
    "\"\"\""
   ],
   "metadata": {
    "collapsed": false,
    "pycharm": {
     "name": "#%%\n"
    }
   }
  },
  {
   "cell_type": "markdown",
   "source": [
    "### Worker Group Completed Work"
   ],
   "metadata": {
    "collapsed": false,
    "pycharm": {
     "name": "#%% md\n"
    }
   }
  },
  {
   "cell_type": "code",
   "execution_count": 320,
   "outputs": [
    {
     "data": {
      "text/plain": "                                           dialogues annotated  \\\nlikert dialogue engaging                                 400.0   \n                informative                              400.0   \n                relevant                                 400.0   \n                quality                                  400.0   \n                grammatical                              400.0   \n                emotional                                400.0   \n                consistent                               400.0   \n                proactive                                400.0   \ncomparative     consistent                               202.0   \n                grammatical                              202.0   \n                engaging                                 202.0   \n                quality                                  202.0   \n                proactive                                202.0   \n                informative                              202.0   \n                emotional                                202.0   \n                relevant                                 202.0   \nlikert turn     consistent                               400.0   \n                proactive                                400.0   \n                informative                              400.0   \n                relevant                                 400.0   \n                grammatical                              400.0   \n                quality                                  400.0   \n                engaging                                 400.0   \n                emotional                                400.0   \nbehavior        redundant                                400.0   \n                self contradiction                       400.0   \n                partner contradiction                    400.0   \n                empathetic                               400.0   \n                lack of empathy                          400.0   \n                commonsense contradiction                400.0   \n                antisocial                               400.0   \n                follow up                                400.0   \n                topic switch                             400.0   \n                ignore                                   400.0   \n                irrelevant                               400.0   \n                correct fact                             400.0   \n                incorrect fact                           400.0   \n                uninterpretable                          400.0   \n                preference info                          400.0   \n                life info                                400.0   \n\n                                           double annotated  \nlikert dialogue engaging                              108.0  \n                informative                           108.0  \n                relevant                              108.0  \n                quality                               108.0  \n                grammatical                           108.0  \n                emotional                             108.0  \n                consistent                            108.0  \n                proactive                             108.0  \ncomparative     consistent                             54.0  \n                grammatical                            54.0  \n                engaging                               54.0  \n                quality                                54.0  \n                proactive                              54.0  \n                informative                            54.0  \n                emotional                              54.0  \n                relevant                               54.0  \nlikert turn     consistent                            108.0  \n                proactive                             108.0  \n                informative                           108.0  \n                relevant                              108.0  \n                grammatical                           108.0  \n                quality                               108.0  \n                engaging                              108.0  \n                emotional                             108.0  \nbehavior        redundant                             108.0  \n                self contradiction                    108.0  \n                partner contradiction                 108.0  \n                empathetic                            108.0  \n                lack of empathy                       108.0  \n                commonsense contradiction             108.0  \n                antisocial                            108.0  \n                follow up                             108.0  \n                topic switch                          108.0  \n                ignore                                108.0  \n                irrelevant                            108.0  \n                correct fact                          108.0  \n                incorrect fact                        108.0  \n                uninterpretable                       108.0  \n                preference info                       108.0  \n                life info                             108.0  ",
      "text/html": "<div>\n<style scoped>\n    .dataframe tbody tr th:only-of-type {\n        vertical-align: middle;\n    }\n\n    .dataframe tbody tr th {\n        vertical-align: top;\n    }\n\n    .dataframe thead th {\n        text-align: right;\n    }\n</style>\n<table border=\"1\" class=\"dataframe\">\n  <thead>\n    <tr style=\"text-align: right;\">\n      <th></th>\n      <th></th>\n      <th>dialogues annotated</th>\n      <th>double annotated</th>\n    </tr>\n  </thead>\n  <tbody>\n    <tr>\n      <th rowspan=\"8\" valign=\"top\">likert dialogue</th>\n      <th>engaging</th>\n      <td>400.0</td>\n      <td>108.0</td>\n    </tr>\n    <tr>\n      <th>informative</th>\n      <td>400.0</td>\n      <td>108.0</td>\n    </tr>\n    <tr>\n      <th>relevant</th>\n      <td>400.0</td>\n      <td>108.0</td>\n    </tr>\n    <tr>\n      <th>quality</th>\n      <td>400.0</td>\n      <td>108.0</td>\n    </tr>\n    <tr>\n      <th>grammatical</th>\n      <td>400.0</td>\n      <td>108.0</td>\n    </tr>\n    <tr>\n      <th>emotional</th>\n      <td>400.0</td>\n      <td>108.0</td>\n    </tr>\n    <tr>\n      <th>consistent</th>\n      <td>400.0</td>\n      <td>108.0</td>\n    </tr>\n    <tr>\n      <th>proactive</th>\n      <td>400.0</td>\n      <td>108.0</td>\n    </tr>\n    <tr>\n      <th rowspan=\"8\" valign=\"top\">comparative</th>\n      <th>consistent</th>\n      <td>202.0</td>\n      <td>54.0</td>\n    </tr>\n    <tr>\n      <th>grammatical</th>\n      <td>202.0</td>\n      <td>54.0</td>\n    </tr>\n    <tr>\n      <th>engaging</th>\n      <td>202.0</td>\n      <td>54.0</td>\n    </tr>\n    <tr>\n      <th>quality</th>\n      <td>202.0</td>\n      <td>54.0</td>\n    </tr>\n    <tr>\n      <th>proactive</th>\n      <td>202.0</td>\n      <td>54.0</td>\n    </tr>\n    <tr>\n      <th>informative</th>\n      <td>202.0</td>\n      <td>54.0</td>\n    </tr>\n    <tr>\n      <th>emotional</th>\n      <td>202.0</td>\n      <td>54.0</td>\n    </tr>\n    <tr>\n      <th>relevant</th>\n      <td>202.0</td>\n      <td>54.0</td>\n    </tr>\n    <tr>\n      <th rowspan=\"8\" valign=\"top\">likert turn</th>\n      <th>consistent</th>\n      <td>400.0</td>\n      <td>108.0</td>\n    </tr>\n    <tr>\n      <th>proactive</th>\n      <td>400.0</td>\n      <td>108.0</td>\n    </tr>\n    <tr>\n      <th>informative</th>\n      <td>400.0</td>\n      <td>108.0</td>\n    </tr>\n    <tr>\n      <th>relevant</th>\n      <td>400.0</td>\n      <td>108.0</td>\n    </tr>\n    <tr>\n      <th>grammatical</th>\n      <td>400.0</td>\n      <td>108.0</td>\n    </tr>\n    <tr>\n      <th>quality</th>\n      <td>400.0</td>\n      <td>108.0</td>\n    </tr>\n    <tr>\n      <th>engaging</th>\n      <td>400.0</td>\n      <td>108.0</td>\n    </tr>\n    <tr>\n      <th>emotional</th>\n      <td>400.0</td>\n      <td>108.0</td>\n    </tr>\n    <tr>\n      <th rowspan=\"16\" valign=\"top\">behavior</th>\n      <th>redundant</th>\n      <td>400.0</td>\n      <td>108.0</td>\n    </tr>\n    <tr>\n      <th>self contradiction</th>\n      <td>400.0</td>\n      <td>108.0</td>\n    </tr>\n    <tr>\n      <th>partner contradiction</th>\n      <td>400.0</td>\n      <td>108.0</td>\n    </tr>\n    <tr>\n      <th>empathetic</th>\n      <td>400.0</td>\n      <td>108.0</td>\n    </tr>\n    <tr>\n      <th>lack of empathy</th>\n      <td>400.0</td>\n      <td>108.0</td>\n    </tr>\n    <tr>\n      <th>commonsense contradiction</th>\n      <td>400.0</td>\n      <td>108.0</td>\n    </tr>\n    <tr>\n      <th>antisocial</th>\n      <td>400.0</td>\n      <td>108.0</td>\n    </tr>\n    <tr>\n      <th>follow up</th>\n      <td>400.0</td>\n      <td>108.0</td>\n    </tr>\n    <tr>\n      <th>topic switch</th>\n      <td>400.0</td>\n      <td>108.0</td>\n    </tr>\n    <tr>\n      <th>ignore</th>\n      <td>400.0</td>\n      <td>108.0</td>\n    </tr>\n    <tr>\n      <th>irrelevant</th>\n      <td>400.0</td>\n      <td>108.0</td>\n    </tr>\n    <tr>\n      <th>correct fact</th>\n      <td>400.0</td>\n      <td>108.0</td>\n    </tr>\n    <tr>\n      <th>incorrect fact</th>\n      <td>400.0</td>\n      <td>108.0</td>\n    </tr>\n    <tr>\n      <th>uninterpretable</th>\n      <td>400.0</td>\n      <td>108.0</td>\n    </tr>\n    <tr>\n      <th>preference info</th>\n      <td>400.0</td>\n      <td>108.0</td>\n    </tr>\n    <tr>\n      <th>life info</th>\n      <td>400.0</td>\n      <td>108.0</td>\n    </tr>\n  </tbody>\n</table>\n</div>"
     },
     "execution_count": 320,
     "metadata": {},
     "output_type": "execute_result"
    }
   ],
   "source": [
    "data.surge_evaluation.annotation_counts()"
   ],
   "metadata": {
    "collapsed": false,
    "pycharm": {
     "name": "#%%\n"
    }
   }
  },
  {
   "cell_type": "code",
   "execution_count": 321,
   "outputs": [
    {
     "data": {
      "text/plain": "                                           dialogues annotated  \\\nlikert dialogue relevant                                  15.0   \n                grammatical                               15.0   \n                consistent                                15.0   \n                informative                               15.0   \n                quality                                   15.0   \n                engaging                                  15.0   \n                emotional                                 15.0   \n                proactive                                 15.0   \ncomparative     consistent                                12.0   \n                emotional                                 12.0   \n                engaging                                  12.0   \n                informative                               12.0   \n                grammatical                               12.0   \n                proactive                                 12.0   \n                quality                                   12.0   \n                relevant                                  12.0   \nlikert turn     grammatical                               24.0   \n                relevant                                  24.0   \n                informative                               24.0   \n                emotional                                 10.0   \n                engaging                                  10.0   \n                consistent                                14.0   \n                quality                                    4.0   \nbehavior        empathetic                                10.0   \n                lack of empathy                           10.0   \n                correct fact                              12.0   \n                incorrect fact                            12.0   \n                uninterpretable                           10.0   \n                preference info                            5.0   \n                life info                                  5.0   \n                commonsense contradiction                 12.0   \n                antisocial                                15.0   \n                redundant                                  4.0   \n                self contradiction                         4.0   \n                partner contradiction                      4.0   \n\n                                           double annotated  \nlikert dialogue relevant                               10.0  \n                grammatical                            10.0  \n                consistent                             10.0  \n                informative                            10.0  \n                quality                                10.0  \n                engaging                               10.0  \n                emotional                              10.0  \n                proactive                              10.0  \ncomparative     consistent                              6.0  \n                emotional                               6.0  \n                engaging                                6.0  \n                informative                             6.0  \n                grammatical                             6.0  \n                proactive                               6.0  \n                quality                                 6.0  \n                relevant                                6.0  \nlikert turn     grammatical                            24.0  \n                relevant                               24.0  \n                informative                            24.0  \n                emotional                               0.0  \n                engaging                                0.0  \n                consistent                              0.0  \n                quality                                 0.0  \nbehavior        empathetic                              0.0  \n                lack of empathy                         0.0  \n                correct fact                            0.0  \n                incorrect fact                          0.0  \n                uninterpretable                        10.0  \n                preference info                         0.0  \n                life info                               0.0  \n                commonsense contradiction               0.0  \n                antisocial                             15.0  \n                redundant                               0.0  \n                self contradiction                      0.0  \n                partner contradiction                   0.0  ",
      "text/html": "<div>\n<style scoped>\n    .dataframe tbody tr th:only-of-type {\n        vertical-align: middle;\n    }\n\n    .dataframe tbody tr th {\n        vertical-align: top;\n    }\n\n    .dataframe thead th {\n        text-align: right;\n    }\n</style>\n<table border=\"1\" class=\"dataframe\">\n  <thead>\n    <tr style=\"text-align: right;\">\n      <th></th>\n      <th></th>\n      <th>dialogues annotated</th>\n      <th>double annotated</th>\n    </tr>\n  </thead>\n  <tbody>\n    <tr>\n      <th rowspan=\"8\" valign=\"top\">likert dialogue</th>\n      <th>relevant</th>\n      <td>15.0</td>\n      <td>10.0</td>\n    </tr>\n    <tr>\n      <th>grammatical</th>\n      <td>15.0</td>\n      <td>10.0</td>\n    </tr>\n    <tr>\n      <th>consistent</th>\n      <td>15.0</td>\n      <td>10.0</td>\n    </tr>\n    <tr>\n      <th>informative</th>\n      <td>15.0</td>\n      <td>10.0</td>\n    </tr>\n    <tr>\n      <th>quality</th>\n      <td>15.0</td>\n      <td>10.0</td>\n    </tr>\n    <tr>\n      <th>engaging</th>\n      <td>15.0</td>\n      <td>10.0</td>\n    </tr>\n    <tr>\n      <th>emotional</th>\n      <td>15.0</td>\n      <td>10.0</td>\n    </tr>\n    <tr>\n      <th>proactive</th>\n      <td>15.0</td>\n      <td>10.0</td>\n    </tr>\n    <tr>\n      <th rowspan=\"8\" valign=\"top\">comparative</th>\n      <th>consistent</th>\n      <td>12.0</td>\n      <td>6.0</td>\n    </tr>\n    <tr>\n      <th>emotional</th>\n      <td>12.0</td>\n      <td>6.0</td>\n    </tr>\n    <tr>\n      <th>engaging</th>\n      <td>12.0</td>\n      <td>6.0</td>\n    </tr>\n    <tr>\n      <th>informative</th>\n      <td>12.0</td>\n      <td>6.0</td>\n    </tr>\n    <tr>\n      <th>grammatical</th>\n      <td>12.0</td>\n      <td>6.0</td>\n    </tr>\n    <tr>\n      <th>proactive</th>\n      <td>12.0</td>\n      <td>6.0</td>\n    </tr>\n    <tr>\n      <th>quality</th>\n      <td>12.0</td>\n      <td>6.0</td>\n    </tr>\n    <tr>\n      <th>relevant</th>\n      <td>12.0</td>\n      <td>6.0</td>\n    </tr>\n    <tr>\n      <th rowspan=\"7\" valign=\"top\">likert turn</th>\n      <th>grammatical</th>\n      <td>24.0</td>\n      <td>24.0</td>\n    </tr>\n    <tr>\n      <th>relevant</th>\n      <td>24.0</td>\n      <td>24.0</td>\n    </tr>\n    <tr>\n      <th>informative</th>\n      <td>24.0</td>\n      <td>24.0</td>\n    </tr>\n    <tr>\n      <th>emotional</th>\n      <td>10.0</td>\n      <td>0.0</td>\n    </tr>\n    <tr>\n      <th>engaging</th>\n      <td>10.0</td>\n      <td>0.0</td>\n    </tr>\n    <tr>\n      <th>consistent</th>\n      <td>14.0</td>\n      <td>0.0</td>\n    </tr>\n    <tr>\n      <th>quality</th>\n      <td>4.0</td>\n      <td>0.0</td>\n    </tr>\n    <tr>\n      <th rowspan=\"12\" valign=\"top\">behavior</th>\n      <th>empathetic</th>\n      <td>10.0</td>\n      <td>0.0</td>\n    </tr>\n    <tr>\n      <th>lack of empathy</th>\n      <td>10.0</td>\n      <td>0.0</td>\n    </tr>\n    <tr>\n      <th>correct fact</th>\n      <td>12.0</td>\n      <td>0.0</td>\n    </tr>\n    <tr>\n      <th>incorrect fact</th>\n      <td>12.0</td>\n      <td>0.0</td>\n    </tr>\n    <tr>\n      <th>uninterpretable</th>\n      <td>10.0</td>\n      <td>10.0</td>\n    </tr>\n    <tr>\n      <th>preference info</th>\n      <td>5.0</td>\n      <td>0.0</td>\n    </tr>\n    <tr>\n      <th>life info</th>\n      <td>5.0</td>\n      <td>0.0</td>\n    </tr>\n    <tr>\n      <th>commonsense contradiction</th>\n      <td>12.0</td>\n      <td>0.0</td>\n    </tr>\n    <tr>\n      <th>antisocial</th>\n      <td>15.0</td>\n      <td>15.0</td>\n    </tr>\n    <tr>\n      <th>redundant</th>\n      <td>4.0</td>\n      <td>0.0</td>\n    </tr>\n    <tr>\n      <th>self contradiction</th>\n      <td>4.0</td>\n      <td>0.0</td>\n    </tr>\n    <tr>\n      <th>partner contradiction</th>\n      <td>4.0</td>\n      <td>0.0</td>\n    </tr>\n  </tbody>\n</table>\n</div>"
     },
     "execution_count": 321,
     "metadata": {},
     "output_type": "execute_result"
    }
   ],
   "source": [
    "data.student_evaluation.annotation_counts()"
   ],
   "metadata": {
    "collapsed": false,
    "pycharm": {
     "name": "#%%\n"
    }
   }
  },
  {
   "cell_type": "code",
   "execution_count": 322,
   "outputs": [
    {
     "data": {
      "text/plain": "                                           dialogues annotated  \\\nlikert dialogue emotional                                  5.0   \n                proactive                                  5.0   \n                quality                                    5.0   \n                engaging                                   5.0   \n                relevant                                   5.0   \n                informative                                5.0   \n                consistent                                 5.0   \n                grammatical                                5.0   \ncomparative     grammatical                                4.0   \n                quality                                    4.0   \n                emotional                                  4.0   \n                proactive                                  4.0   \n                relevant                                   4.0   \n                consistent                                 4.0   \n                engaging                                   4.0   \n                informative                                4.0   \nlikert turn     grammatical                                5.0   \n                relevant                                   5.0   \n                informative                                5.0   \n                emotional                                  5.0   \n                engaging                                   5.0   \n                consistent                                 5.0   \n                proactive                                  5.0   \n                quality                                    5.0   \nbehavior        antisocial                                 5.0   \n                preference info                            5.0   \n                life info                                  5.0   \n                correct fact                               5.0   \n                incorrect fact                             5.0   \n                commonsense contradiction                  5.0   \n                redundant                                  5.0   \n                self contradiction                         5.0   \n                partner contradiction                      5.0   \n                uninterpretable                            5.0   \n                empathetic                                 2.0   \n                lack of empathy                            2.0   \n\n                                           double annotated  \nlikert dialogue emotional                               5.0  \n                proactive                               5.0  \n                quality                                 5.0  \n                engaging                                5.0  \n                relevant                                5.0  \n                informative                             5.0  \n                consistent                              5.0  \n                grammatical                             5.0  \ncomparative     grammatical                             4.0  \n                quality                                 4.0  \n                emotional                               4.0  \n                proactive                               4.0  \n                relevant                                4.0  \n                consistent                              4.0  \n                engaging                                4.0  \n                informative                             4.0  \nlikert turn     grammatical                             5.0  \n                relevant                                5.0  \n                informative                             5.0  \n                emotional                               5.0  \n                engaging                                5.0  \n                consistent                              5.0  \n                proactive                               5.0  \n                quality                                 5.0  \nbehavior        antisocial                              5.0  \n                preference info                         4.0  \n                life info                               4.0  \n                correct fact                            5.0  \n                incorrect fact                          5.0  \n                commonsense contradiction               4.0  \n                redundant                               5.0  \n                self contradiction                      5.0  \n                partner contradiction                   5.0  \n                uninterpretable                         5.0  \n                empathetic                              2.0  \n                lack of empathy                         2.0  ",
      "text/html": "<div>\n<style scoped>\n    .dataframe tbody tr th:only-of-type {\n        vertical-align: middle;\n    }\n\n    .dataframe tbody tr th {\n        vertical-align: top;\n    }\n\n    .dataframe thead th {\n        text-align: right;\n    }\n</style>\n<table border=\"1\" class=\"dataframe\">\n  <thead>\n    <tr style=\"text-align: right;\">\n      <th></th>\n      <th></th>\n      <th>dialogues annotated</th>\n      <th>double annotated</th>\n    </tr>\n  </thead>\n  <tbody>\n    <tr>\n      <th rowspan=\"8\" valign=\"top\">likert dialogue</th>\n      <th>emotional</th>\n      <td>5.0</td>\n      <td>5.0</td>\n    </tr>\n    <tr>\n      <th>proactive</th>\n      <td>5.0</td>\n      <td>5.0</td>\n    </tr>\n    <tr>\n      <th>quality</th>\n      <td>5.0</td>\n      <td>5.0</td>\n    </tr>\n    <tr>\n      <th>engaging</th>\n      <td>5.0</td>\n      <td>5.0</td>\n    </tr>\n    <tr>\n      <th>relevant</th>\n      <td>5.0</td>\n      <td>5.0</td>\n    </tr>\n    <tr>\n      <th>informative</th>\n      <td>5.0</td>\n      <td>5.0</td>\n    </tr>\n    <tr>\n      <th>consistent</th>\n      <td>5.0</td>\n      <td>5.0</td>\n    </tr>\n    <tr>\n      <th>grammatical</th>\n      <td>5.0</td>\n      <td>5.0</td>\n    </tr>\n    <tr>\n      <th rowspan=\"8\" valign=\"top\">comparative</th>\n      <th>grammatical</th>\n      <td>4.0</td>\n      <td>4.0</td>\n    </tr>\n    <tr>\n      <th>quality</th>\n      <td>4.0</td>\n      <td>4.0</td>\n    </tr>\n    <tr>\n      <th>emotional</th>\n      <td>4.0</td>\n      <td>4.0</td>\n    </tr>\n    <tr>\n      <th>proactive</th>\n      <td>4.0</td>\n      <td>4.0</td>\n    </tr>\n    <tr>\n      <th>relevant</th>\n      <td>4.0</td>\n      <td>4.0</td>\n    </tr>\n    <tr>\n      <th>consistent</th>\n      <td>4.0</td>\n      <td>4.0</td>\n    </tr>\n    <tr>\n      <th>engaging</th>\n      <td>4.0</td>\n      <td>4.0</td>\n    </tr>\n    <tr>\n      <th>informative</th>\n      <td>4.0</td>\n      <td>4.0</td>\n    </tr>\n    <tr>\n      <th rowspan=\"8\" valign=\"top\">likert turn</th>\n      <th>grammatical</th>\n      <td>5.0</td>\n      <td>5.0</td>\n    </tr>\n    <tr>\n      <th>relevant</th>\n      <td>5.0</td>\n      <td>5.0</td>\n    </tr>\n    <tr>\n      <th>informative</th>\n      <td>5.0</td>\n      <td>5.0</td>\n    </tr>\n    <tr>\n      <th>emotional</th>\n      <td>5.0</td>\n      <td>5.0</td>\n    </tr>\n    <tr>\n      <th>engaging</th>\n      <td>5.0</td>\n      <td>5.0</td>\n    </tr>\n    <tr>\n      <th>consistent</th>\n      <td>5.0</td>\n      <td>5.0</td>\n    </tr>\n    <tr>\n      <th>proactive</th>\n      <td>5.0</td>\n      <td>5.0</td>\n    </tr>\n    <tr>\n      <th>quality</th>\n      <td>5.0</td>\n      <td>5.0</td>\n    </tr>\n    <tr>\n      <th rowspan=\"12\" valign=\"top\">behavior</th>\n      <th>antisocial</th>\n      <td>5.0</td>\n      <td>5.0</td>\n    </tr>\n    <tr>\n      <th>preference info</th>\n      <td>5.0</td>\n      <td>4.0</td>\n    </tr>\n    <tr>\n      <th>life info</th>\n      <td>5.0</td>\n      <td>4.0</td>\n    </tr>\n    <tr>\n      <th>correct fact</th>\n      <td>5.0</td>\n      <td>5.0</td>\n    </tr>\n    <tr>\n      <th>incorrect fact</th>\n      <td>5.0</td>\n      <td>5.0</td>\n    </tr>\n    <tr>\n      <th>commonsense contradiction</th>\n      <td>5.0</td>\n      <td>4.0</td>\n    </tr>\n    <tr>\n      <th>redundant</th>\n      <td>5.0</td>\n      <td>5.0</td>\n    </tr>\n    <tr>\n      <th>self contradiction</th>\n      <td>5.0</td>\n      <td>5.0</td>\n    </tr>\n    <tr>\n      <th>partner contradiction</th>\n      <td>5.0</td>\n      <td>5.0</td>\n    </tr>\n    <tr>\n      <th>uninterpretable</th>\n      <td>5.0</td>\n      <td>5.0</td>\n    </tr>\n    <tr>\n      <th>empathetic</th>\n      <td>2.0</td>\n      <td>2.0</td>\n    </tr>\n    <tr>\n      <th>lack of empathy</th>\n      <td>2.0</td>\n      <td>2.0</td>\n    </tr>\n  </tbody>\n</table>\n</div>"
     },
     "execution_count": 322,
     "metadata": {},
     "output_type": "execute_result"
    }
   ],
   "source": [
    "data.mturk_evaluation.annotation_counts()"
   ],
   "metadata": {
    "collapsed": false,
    "pycharm": {
     "name": "#%%\n"
    }
   }
  },
  {
   "cell_type": "markdown",
   "source": [
    "### Worker Group Screening"
   ],
   "metadata": {
    "collapsed": false,
    "pycharm": {
     "name": "#%% md\n"
    }
   }
  },
  {
   "cell_type": "code",
   "execution_count": 323,
   "outputs": [],
   "source": [
    "screening = across_evaluations(\n",
    "    [data.annotation_pilots_onboarding[-2], data.student_onboarding, data.mturk_onboarding, data.annotation_pilots_onboarding[-1], data.surge_onboarding],\n",
    "    screening_rates_by_label,\n",
    "    load='results/evaluation_screening'\n",
    ")\n"
   ],
   "metadata": {
    "collapsed": false,
    "pycharm": {
     "name": "#%%\n"
    }
   }
  },
  {
   "cell_type": "markdown",
   "source": [
    "### Agreements"
   ],
   "metadata": {
    "collapsed": false,
    "pycharm": {
     "name": "#%% md\n"
    }
   }
  },
  {
   "cell_type": "code",
   "execution_count": 324,
   "outputs": [
    {
     "data": {
      "text/plain": "                                           Krippendorff's alpha  CI low  \\\ncategory        label                                                     \nlikert turn     grammatical                               0.419   0.373   \n                quality                                   0.312   0.262   \n                engaging                                  0.295   0.247   \n                proactive                                 0.279   0.233   \n                informative                               0.278   0.230   \n                relevant                                  0.239   0.191   \n                consistent                                0.201   0.151   \n                emotional                                 0.166   0.113   \nlikert dialogue informative                               0.409   0.270   \n                consistent                                0.360   0.200   \n                relevant                                  0.298   0.146   \n                quality                                   0.286   0.119   \n                engaging                                  0.259   0.051   \n                emotional                                 0.256   0.085   \n                proactive                                 0.243   0.072   \n                grammatical                               0.132  -0.040   \ncomparative     consistent                                0.484   0.293   \n                quality                                   0.447   0.266   \n                relevant                                  0.418   0.232   \n                proactive                                 0.226   0.053   \n                grammatical                               0.215   0.047   \n                informative                               0.209   0.031   \n                emotional                                 0.202   0.026   \n                engaging                                  0.115  -0.052   \nbehavior        topic switch                              0.755   0.712   \n                incorrect fact                            0.652   0.573   \n                life info                                 0.631   0.590   \n                correct fact                              0.618   0.568   \n                ignore                                    0.571   0.505   \n                antisocial                                0.553   0.220   \n                redundant                                 0.551   0.478   \n                empathetic                                0.514   0.473   \n                follow up                                 0.492   0.450   \n                preference info                           0.491   0.448   \n                irrelevant                                0.456   0.399   \n                commonsense contradiction                 0.442   0.388   \n                partner contradiction                     0.436   0.363   \n                lack of empathy                           0.435   0.375   \n                self contradiction                        0.407   0.327   \n                uninterpretable                           0.137   0.028   \n\n                                           CI high     n  Fleiss' kappa  \\\ncategory        label                                                     \nlikert turn     grammatical                  0.468  1634          0.296   \n                quality                      0.356  1634          0.092   \n                engaging                     0.345  1634          0.123   \n                proactive                    0.323  1634          0.098   \n                informative                  0.323  1634          0.092   \n                relevant                     0.286  1634          0.100   \n                consistent                   0.251  1634          0.083   \n                emotional                    0.213  1634          0.021   \nlikert dialogue informative                  0.550   108          0.031   \n                consistent                   0.509   108          0.074   \n                relevant                     0.445   108         -0.003   \n                quality                      0.435   108          0.078   \n                engaging                     0.427   108          0.123   \n                emotional                    0.417   108          0.046   \n                proactive                    0.408   108         -0.026   \n                grammatical                  0.305   108         -0.058   \ncomparative     consistent                   0.648   108          0.481   \n                quality                      0.611   108          0.444   \n                relevant                     0.575   108          0.392   \n                proactive                    0.409   108          0.222   \n                grammatical                  0.393   108          0.024   \n                informative                  0.378   108          0.200   \n                emotional                    0.369   108          0.074   \n                engaging                     0.318   108          0.111   \nbehavior        topic switch                 0.791  1634          0.755   \n                incorrect fact               0.716  1634          0.651   \n                life info                    0.673  1634          0.631   \n                correct fact                 0.663  1634          0.618   \n                ignore                       0.638  1634          0.571   \n                antisocial                   0.821  1634          0.553   \n                redundant                    0.626  1634          0.551   \n                empathetic                   0.559  1634          0.513   \n                follow up                    0.533  1634          0.492   \n                preference info              0.534  1634          0.491   \n                irrelevant                   0.515  1634          0.456   \n                commonsense contradiction    0.494  1634          0.442   \n                partner contradiction        0.507  1634          0.436   \n                lack of empathy              0.500  1634          0.435   \n                self contradiction           0.494  1634          0.406   \n                uninterpretable              0.286  1634          0.137   \n\n                                           CI low  CI high     n  \ncategory        label                                             \nlikert turn     grammatical                 0.261    0.332  1634  \n                quality                     0.061    0.121  1634  \n                engaging                    0.094    0.151  1634  \n                proactive                   0.071    0.128  1634  \n                informative                 0.062    0.120  1634  \n                relevant                    0.070    0.132  1634  \n                consistent                  0.054    0.115  1634  \n                emotional                  -0.010    0.053  1634  \nlikert dialogue informative                -0.085    0.154   108  \n                consistent                 -0.015    0.199   108  \n                relevant                   -0.105    0.116   108  \n                quality                    -0.023    0.215   108  \n                engaging                    0.007    0.254   108  \n                emotional                  -0.066    0.168   108  \n                proactive                  -0.112    0.098   108  \n                grammatical                -0.185    0.090   108  \ncomparative     consistent                  0.315    0.640   108  \n                quality                     0.277    0.611   108  \n                relevant                    0.225    0.544   108  \n                proactive                   0.055    0.409   108  \n                grammatical                -0.079    0.169   108  \n                informative                 0.019    0.382   108  \n                emotional                  -0.050    0.211   108  \n                engaging                   -0.058    0.319   108  \nbehavior        topic switch                0.715    0.789  1634  \n                incorrect fact              0.578    0.716  1634  \n                life info                   0.588    0.672  1634  \n                correct fact                0.570    0.661  1634  \n                ignore                      0.499    0.639  1634  \n                antisocial                  0.220    0.799  1634  \n                redundant                   0.469    0.624  1634  \n                empathetic                  0.471    0.556  1634  \n                follow up                   0.451    0.534  1634  \n                preference info             0.446    0.532  1634  \n                irrelevant                  0.397    0.519  1634  \n                commonsense contradiction   0.388    0.496  1634  \n                partner contradiction       0.361    0.503  1634  \n                lack of empathy             0.373    0.499  1634  \n                self contradiction          0.323    0.493  1634  \n                uninterpretable             0.025    0.300  1634  ",
      "text/html": "<div>\n<style scoped>\n    .dataframe tbody tr th:only-of-type {\n        vertical-align: middle;\n    }\n\n    .dataframe tbody tr th {\n        vertical-align: top;\n    }\n\n    .dataframe thead th {\n        text-align: right;\n    }\n</style>\n<table border=\"1\" class=\"dataframe\">\n  <thead>\n    <tr style=\"text-align: right;\">\n      <th></th>\n      <th></th>\n      <th>Krippendorff's alpha</th>\n      <th>CI low</th>\n      <th>CI high</th>\n      <th>n</th>\n      <th>Fleiss' kappa</th>\n      <th>CI low</th>\n      <th>CI high</th>\n      <th>n</th>\n    </tr>\n    <tr>\n      <th>category</th>\n      <th>label</th>\n      <th></th>\n      <th></th>\n      <th></th>\n      <th></th>\n      <th></th>\n      <th></th>\n      <th></th>\n      <th></th>\n    </tr>\n  </thead>\n  <tbody>\n    <tr>\n      <th rowspan=\"8\" valign=\"top\">likert turn</th>\n      <th>grammatical</th>\n      <td>0.419</td>\n      <td>0.373</td>\n      <td>0.468</td>\n      <td>1634</td>\n      <td>0.296</td>\n      <td>0.261</td>\n      <td>0.332</td>\n      <td>1634</td>\n    </tr>\n    <tr>\n      <th>quality</th>\n      <td>0.312</td>\n      <td>0.262</td>\n      <td>0.356</td>\n      <td>1634</td>\n      <td>0.092</td>\n      <td>0.061</td>\n      <td>0.121</td>\n      <td>1634</td>\n    </tr>\n    <tr>\n      <th>engaging</th>\n      <td>0.295</td>\n      <td>0.247</td>\n      <td>0.345</td>\n      <td>1634</td>\n      <td>0.123</td>\n      <td>0.094</td>\n      <td>0.151</td>\n      <td>1634</td>\n    </tr>\n    <tr>\n      <th>proactive</th>\n      <td>0.279</td>\n      <td>0.233</td>\n      <td>0.323</td>\n      <td>1634</td>\n      <td>0.098</td>\n      <td>0.071</td>\n      <td>0.128</td>\n      <td>1634</td>\n    </tr>\n    <tr>\n      <th>informative</th>\n      <td>0.278</td>\n      <td>0.230</td>\n      <td>0.323</td>\n      <td>1634</td>\n      <td>0.092</td>\n      <td>0.062</td>\n      <td>0.120</td>\n      <td>1634</td>\n    </tr>\n    <tr>\n      <th>relevant</th>\n      <td>0.239</td>\n      <td>0.191</td>\n      <td>0.286</td>\n      <td>1634</td>\n      <td>0.100</td>\n      <td>0.070</td>\n      <td>0.132</td>\n      <td>1634</td>\n    </tr>\n    <tr>\n      <th>consistent</th>\n      <td>0.201</td>\n      <td>0.151</td>\n      <td>0.251</td>\n      <td>1634</td>\n      <td>0.083</td>\n      <td>0.054</td>\n      <td>0.115</td>\n      <td>1634</td>\n    </tr>\n    <tr>\n      <th>emotional</th>\n      <td>0.166</td>\n      <td>0.113</td>\n      <td>0.213</td>\n      <td>1634</td>\n      <td>0.021</td>\n      <td>-0.010</td>\n      <td>0.053</td>\n      <td>1634</td>\n    </tr>\n    <tr>\n      <th rowspan=\"8\" valign=\"top\">likert dialogue</th>\n      <th>informative</th>\n      <td>0.409</td>\n      <td>0.270</td>\n      <td>0.550</td>\n      <td>108</td>\n      <td>0.031</td>\n      <td>-0.085</td>\n      <td>0.154</td>\n      <td>108</td>\n    </tr>\n    <tr>\n      <th>consistent</th>\n      <td>0.360</td>\n      <td>0.200</td>\n      <td>0.509</td>\n      <td>108</td>\n      <td>0.074</td>\n      <td>-0.015</td>\n      <td>0.199</td>\n      <td>108</td>\n    </tr>\n    <tr>\n      <th>relevant</th>\n      <td>0.298</td>\n      <td>0.146</td>\n      <td>0.445</td>\n      <td>108</td>\n      <td>-0.003</td>\n      <td>-0.105</td>\n      <td>0.116</td>\n      <td>108</td>\n    </tr>\n    <tr>\n      <th>quality</th>\n      <td>0.286</td>\n      <td>0.119</td>\n      <td>0.435</td>\n      <td>108</td>\n      <td>0.078</td>\n      <td>-0.023</td>\n      <td>0.215</td>\n      <td>108</td>\n    </tr>\n    <tr>\n      <th>engaging</th>\n      <td>0.259</td>\n      <td>0.051</td>\n      <td>0.427</td>\n      <td>108</td>\n      <td>0.123</td>\n      <td>0.007</td>\n      <td>0.254</td>\n      <td>108</td>\n    </tr>\n    <tr>\n      <th>emotional</th>\n      <td>0.256</td>\n      <td>0.085</td>\n      <td>0.417</td>\n      <td>108</td>\n      <td>0.046</td>\n      <td>-0.066</td>\n      <td>0.168</td>\n      <td>108</td>\n    </tr>\n    <tr>\n      <th>proactive</th>\n      <td>0.243</td>\n      <td>0.072</td>\n      <td>0.408</td>\n      <td>108</td>\n      <td>-0.026</td>\n      <td>-0.112</td>\n      <td>0.098</td>\n      <td>108</td>\n    </tr>\n    <tr>\n      <th>grammatical</th>\n      <td>0.132</td>\n      <td>-0.040</td>\n      <td>0.305</td>\n      <td>108</td>\n      <td>-0.058</td>\n      <td>-0.185</td>\n      <td>0.090</td>\n      <td>108</td>\n    </tr>\n    <tr>\n      <th rowspan=\"8\" valign=\"top\">comparative</th>\n      <th>consistent</th>\n      <td>0.484</td>\n      <td>0.293</td>\n      <td>0.648</td>\n      <td>108</td>\n      <td>0.481</td>\n      <td>0.315</td>\n      <td>0.640</td>\n      <td>108</td>\n    </tr>\n    <tr>\n      <th>quality</th>\n      <td>0.447</td>\n      <td>0.266</td>\n      <td>0.611</td>\n      <td>108</td>\n      <td>0.444</td>\n      <td>0.277</td>\n      <td>0.611</td>\n      <td>108</td>\n    </tr>\n    <tr>\n      <th>relevant</th>\n      <td>0.418</td>\n      <td>0.232</td>\n      <td>0.575</td>\n      <td>108</td>\n      <td>0.392</td>\n      <td>0.225</td>\n      <td>0.544</td>\n      <td>108</td>\n    </tr>\n    <tr>\n      <th>proactive</th>\n      <td>0.226</td>\n      <td>0.053</td>\n      <td>0.409</td>\n      <td>108</td>\n      <td>0.222</td>\n      <td>0.055</td>\n      <td>0.409</td>\n      <td>108</td>\n    </tr>\n    <tr>\n      <th>grammatical</th>\n      <td>0.215</td>\n      <td>0.047</td>\n      <td>0.393</td>\n      <td>108</td>\n      <td>0.024</td>\n      <td>-0.079</td>\n      <td>0.169</td>\n      <td>108</td>\n    </tr>\n    <tr>\n      <th>informative</th>\n      <td>0.209</td>\n      <td>0.031</td>\n      <td>0.378</td>\n      <td>108</td>\n      <td>0.200</td>\n      <td>0.019</td>\n      <td>0.382</td>\n      <td>108</td>\n    </tr>\n    <tr>\n      <th>emotional</th>\n      <td>0.202</td>\n      <td>0.026</td>\n      <td>0.369</td>\n      <td>108</td>\n      <td>0.074</td>\n      <td>-0.050</td>\n      <td>0.211</td>\n      <td>108</td>\n    </tr>\n    <tr>\n      <th>engaging</th>\n      <td>0.115</td>\n      <td>-0.052</td>\n      <td>0.318</td>\n      <td>108</td>\n      <td>0.111</td>\n      <td>-0.058</td>\n      <td>0.319</td>\n      <td>108</td>\n    </tr>\n    <tr>\n      <th rowspan=\"16\" valign=\"top\">behavior</th>\n      <th>topic switch</th>\n      <td>0.755</td>\n      <td>0.712</td>\n      <td>0.791</td>\n      <td>1634</td>\n      <td>0.755</td>\n      <td>0.715</td>\n      <td>0.789</td>\n      <td>1634</td>\n    </tr>\n    <tr>\n      <th>incorrect fact</th>\n      <td>0.652</td>\n      <td>0.573</td>\n      <td>0.716</td>\n      <td>1634</td>\n      <td>0.651</td>\n      <td>0.578</td>\n      <td>0.716</td>\n      <td>1634</td>\n    </tr>\n    <tr>\n      <th>life info</th>\n      <td>0.631</td>\n      <td>0.590</td>\n      <td>0.673</td>\n      <td>1634</td>\n      <td>0.631</td>\n      <td>0.588</td>\n      <td>0.672</td>\n      <td>1634</td>\n    </tr>\n    <tr>\n      <th>correct fact</th>\n      <td>0.618</td>\n      <td>0.568</td>\n      <td>0.663</td>\n      <td>1634</td>\n      <td>0.618</td>\n      <td>0.570</td>\n      <td>0.661</td>\n      <td>1634</td>\n    </tr>\n    <tr>\n      <th>ignore</th>\n      <td>0.571</td>\n      <td>0.505</td>\n      <td>0.638</td>\n      <td>1634</td>\n      <td>0.571</td>\n      <td>0.499</td>\n      <td>0.639</td>\n      <td>1634</td>\n    </tr>\n    <tr>\n      <th>antisocial</th>\n      <td>0.553</td>\n      <td>0.220</td>\n      <td>0.821</td>\n      <td>1634</td>\n      <td>0.553</td>\n      <td>0.220</td>\n      <td>0.799</td>\n      <td>1634</td>\n    </tr>\n    <tr>\n      <th>redundant</th>\n      <td>0.551</td>\n      <td>0.478</td>\n      <td>0.626</td>\n      <td>1634</td>\n      <td>0.551</td>\n      <td>0.469</td>\n      <td>0.624</td>\n      <td>1634</td>\n    </tr>\n    <tr>\n      <th>empathetic</th>\n      <td>0.514</td>\n      <td>0.473</td>\n      <td>0.559</td>\n      <td>1634</td>\n      <td>0.513</td>\n      <td>0.471</td>\n      <td>0.556</td>\n      <td>1634</td>\n    </tr>\n    <tr>\n      <th>follow up</th>\n      <td>0.492</td>\n      <td>0.450</td>\n      <td>0.533</td>\n      <td>1634</td>\n      <td>0.492</td>\n      <td>0.451</td>\n      <td>0.534</td>\n      <td>1634</td>\n    </tr>\n    <tr>\n      <th>preference info</th>\n      <td>0.491</td>\n      <td>0.448</td>\n      <td>0.534</td>\n      <td>1634</td>\n      <td>0.491</td>\n      <td>0.446</td>\n      <td>0.532</td>\n      <td>1634</td>\n    </tr>\n    <tr>\n      <th>irrelevant</th>\n      <td>0.456</td>\n      <td>0.399</td>\n      <td>0.515</td>\n      <td>1634</td>\n      <td>0.456</td>\n      <td>0.397</td>\n      <td>0.519</td>\n      <td>1634</td>\n    </tr>\n    <tr>\n      <th>commonsense contradiction</th>\n      <td>0.442</td>\n      <td>0.388</td>\n      <td>0.494</td>\n      <td>1634</td>\n      <td>0.442</td>\n      <td>0.388</td>\n      <td>0.496</td>\n      <td>1634</td>\n    </tr>\n    <tr>\n      <th>partner contradiction</th>\n      <td>0.436</td>\n      <td>0.363</td>\n      <td>0.507</td>\n      <td>1634</td>\n      <td>0.436</td>\n      <td>0.361</td>\n      <td>0.503</td>\n      <td>1634</td>\n    </tr>\n    <tr>\n      <th>lack of empathy</th>\n      <td>0.435</td>\n      <td>0.375</td>\n      <td>0.500</td>\n      <td>1634</td>\n      <td>0.435</td>\n      <td>0.373</td>\n      <td>0.499</td>\n      <td>1634</td>\n    </tr>\n    <tr>\n      <th>self contradiction</th>\n      <td>0.407</td>\n      <td>0.327</td>\n      <td>0.494</td>\n      <td>1634</td>\n      <td>0.406</td>\n      <td>0.323</td>\n      <td>0.493</td>\n      <td>1634</td>\n    </tr>\n    <tr>\n      <th>uninterpretable</th>\n      <td>0.137</td>\n      <td>0.028</td>\n      <td>0.286</td>\n      <td>1634</td>\n      <td>0.137</td>\n      <td>0.025</td>\n      <td>0.300</td>\n      <td>1634</td>\n    </tr>\n  </tbody>\n</table>\n</div>"
     },
     "execution_count": 324,
     "metadata": {},
     "output_type": "execute_result"
    }
   ],
   "source": [
    "agreements = agreement_dataframe(\n",
    "    surge_annotations, load='results/surge_agreements'\n",
    ")\n",
    "agreements = prettify(agreements, float_prec=3, sort_by=[\"category\", \"Krippendorff's alpha\"], col_types={\"n\": int}, to_csv='results/paper/surge_agreements', index=False)\n",
    "agreements"
   ],
   "metadata": {
    "collapsed": false,
    "pycharm": {
     "name": "#%%\n"
    }
   }
  },
  {
   "cell_type": "code",
   "execution_count": 325,
   "outputs": [
    {
     "data": {
      "text/plain": "<Figure size 720x360 with 1 Axes>",
      "image/png": "[encoded data removed]"
     },
     "metadata": {},
     "output_type": "display_data"
    }
   ],
   "source": [
    "# Build the plot\n",
    "plt.rcParams[\"figure.figsize\"] = (10,5)\n",
    "\n",
    "fig, ax = plt.subplots()\n",
    "\n",
    "def plot_by_category(ax, df, category, color, xaxis_start):\n",
    "    extracted = df[df[\"category\"] == category]\n",
    "    lower_bound = extracted[\"Krippendorff's alpha\"] - extracted[\"CI low\"]\n",
    "    upper_bound = extracted[\"CI high\"] - extracted[\"Krippendorff's alpha\"]\n",
    "    xaxis_end = xaxis_start + len(extracted)\n",
    "    ax.errorbar(np.arange(xaxis_start, xaxis_end),\n",
    "                extracted[\"Krippendorff's alpha\"],\n",
    "                yerr=[lower_bound, upper_bound],\n",
    "                fmt='o',\n",
    "                elinewidth=1,\n",
    "                color=color)\n",
    "    return xaxis_end\n",
    "\n",
    "likert_turn_color = \"blue\"\n",
    "likert_dialogue_color = \"red\"\n",
    "comparative_color = \"green\"\n",
    "behavior_color = \"orange\"\n",
    "\n",
    "krip_agreements = agreements.iloc[: , :-4]\n",
    "krip_agreements = krip_agreements.reset_index()\n",
    "likert_dialogue_start = plot_by_category(ax, krip_agreements, \"likert turn\", likert_turn_color, 0)\n",
    "comparative_start = plot_by_category(ax, krip_agreements, \"likert dialogue\", likert_dialogue_color, likert_dialogue_start)\n",
    "behavior_start = plot_by_category(ax, krip_agreements, \"comparative\", comparative_color, comparative_start)\n",
    "misc_start = plot_by_category(ax, krip_agreements, \"behavior\", behavior_color, behavior_start)\n",
    "\n",
    "category_range = {likert_dialogue_start: likert_turn_color, comparative_start: likert_dialogue_color, behavior_start: comparative_color, misc_start: behavior_color}\n",
    "xaxis_colors = {}\n",
    "prev_idx = 0\n",
    "for idx, color in category_range.items():\n",
    "    for i in range(prev_idx, idx):\n",
    "        xaxis_colors[i] = color\n",
    "    prev_idx = idx\n",
    "\n",
    "ax.set_ylabel(\"Krippendorf's alpha\")\n",
    "xpos = np.arange(len(krip_agreements))\n",
    "ax.set_xlabel(\"Evaluation Label\")\n",
    "ax.set_xticks(xpos)\n",
    "ax.set_xticklabels(krip_agreements[\"label\"], rotation=90)\n",
    "for tickloc, ticklabel in zip(plt.gca().get_xticks(), plt.gca().get_xticklabels()):\n",
    "    ticklabel.set_color(xaxis_colors[tickloc])\n",
    "ax.set_title('Interannotator Agreement')\n",
    "ax.yaxis.grid(True)\n",
    "\n",
    "# Save the figure and show\n",
    "plt.tight_layout()\n",
    "# plt.savefig('bar_plot_with_error_bars.png')\n",
    "plt.show()"
   ],
   "metadata": {
    "collapsed": false,
    "pycharm": {
     "name": "#%%\n"
    }
   }
  },
  {
   "cell_type": "code",
   "execution_count": 326,
   "outputs": [],
   "source": [
    "# all_agreements = across_evaluations(\n",
    "#     [\n",
    "#         e.annotation_dataframe() for e in\n",
    "#         (data.student_evaluation, data.mturk_evaluation, data.surge_evaluation)\n",
    "#     ],\n",
    "#     agreement_dataframe,\n",
    "#     reload='results/evaluation_agreements'\n",
    "# )\n",
    "# all_agreements = prettify(all_agreements, float_prec=3, sort_by=[\"round\", \"category\", \"Krippendorff's alpha\"], col_types={\"n\": int}, to_csv='results/paper/all_agreements', index=False)\n",
    "# all_agreements"
   ],
   "metadata": {
    "collapsed": false,
    "pycharm": {
     "name": "#%%\n"
    }
   }
  },
  {
   "cell_type": "markdown",
   "source": [
    "# 7 Comprehensive Analysis"
   ],
   "metadata": {
    "collapsed": false,
    "pycharm": {
     "name": "#%% md\n"
    }
   }
  },
  {
   "cell_type": "markdown",
   "source": [
    "### Likert Dialogue"
   ],
   "metadata": {
    "collapsed": false,
    "pycharm": {
     "name": "#%% md\n"
    }
   }
  },
  {
   "cell_type": "code",
   "execution_count": 327,
   "outputs": [],
   "source": [
    "bots = ['Blender2', 'Emora', 'BartFidRAG', 'RerankBlender']\n",
    "# https://blog.finxter.com/how-to-plot-matplotlibs-color-palette-and-choose-your-plot-color/\n",
    "graphing_bot_colors = {\n",
    "    'blender2_3B': 'purple',\n",
    "    'bart_fid_rag_bcb': 'royalblue',\n",
    "    'emora': 'turquoise',\n",
    "    'rerank_blender': 'green'\n",
    "}\n",
    "bot_transformer = {\n",
    "    'blender2_3B': 'Blender2',\n",
    "    'emora': 'Emora',\n",
    "    'rerank_blender': 'Blender-Decode',\n",
    "    'bart_fid_rag_bcb': 'BART-FiDRAG'\n",
    "}\n",
    "dimensions_transformer = {\n",
    "    'consistent': 'CO',\n",
    "    'emotional': 'EU',\n",
    "    'engaging': 'EN',\n",
    "    'grammatical': 'GR',\n",
    "    'informative': 'IN',\n",
    "    'proactive': 'PR',\n",
    "    'quality': 'OQ',\n",
    "    'relevant': 'RE'\n",
    "}"
   ],
   "metadata": {
    "collapsed": false,
    "pycharm": {
     "name": "#%%\n"
    }
   }
  },
  {
   "cell_type": "code",
   "execution_count": 328,
   "outputs": [],
   "source": [
    "def grouped_barplot(df0, title, ylabel, xlabel, ylim, value_col='mean', rot=45, fig_size=(10,5)):\n",
    "    df = df0.reset_index()\n",
    "    plt.rcParams[\"figure.figsize\"] = fig_size\n",
    "\n",
    "    df['lower'] = df[value_col] - df[\"CI low\"]\n",
    "    cilow = df.pivot(index='label', columns='bot', values='lower')\n",
    "    df['upper'] = df[\"CI high\"] - df[value_col]\n",
    "    cihigh = df.pivot(index='label', columns='bot', values='upper')\n",
    "\n",
    "    err = []\n",
    "    for col in cilow:\n",
    "        err.append([cilow[col].values, cihigh[col].values])\n",
    "\n",
    "    df0 = df.pivot(index='label', columns='bot', values=value_col)\n",
    "    ax = df0.plot(\n",
    "        kind='bar',\n",
    "        ylim=ylim,\n",
    "        title=title,\n",
    "        rot=rot,\n",
    "        yerr=err,\n",
    "        color=[graphing_bot_colors[bot] for bot in df0.columns]\n",
    "    )\n",
    "    ax.legend(\n",
    "        [bot_transformer[bot] for bot in df0.columns],\n",
    "        ncol=2\n",
    "    )\n",
    "    ax.set_ylabel(ylabel)\n",
    "    ax.set_xlabel(xlabel)\n",
    "    ax.set_xticklabels([dimensions_transformer[d] if d in dimensions_transformer else behaviors_transformer[d] for d in df0.index])"
   ],
   "metadata": {
    "collapsed": false,
    "pycharm": {
     "name": "#%%\n"
    }
   }
  },
  {
   "cell_type": "code",
   "execution_count": 329,
   "outputs": [],
   "source": [
    "def evaluate_likert_ratings(annotations, category, load=None, reload=None):\n",
    "    if load:\n",
    "        return pd.read_csv(load)\n",
    "    single_annotated = get_singly_annotated(annotations)\n",
    "    likert_annotations = single_annotated.xs(category, level=sym.category)\n",
    "    label_groups = likert_annotations.groupby(level=[sym.bot, sym.label])\n",
    "    means = label_groups.apply(mean_and_ci)\n",
    "    if reload:\n",
    "        means.to_csv(reload)\n",
    "    return means"
   ],
   "metadata": {
    "collapsed": false,
    "pycharm": {
     "name": "#%%\n"
    }
   }
  },
  {
   "cell_type": "code",
   "execution_count": 330,
   "outputs": [
    {
     "data": {
      "text/plain": "                 bot        label  mean  CI low  CI high    n\n28    rerank_blender  informative  3.95   3.769    4.131  100\n26    rerank_blender     engaging  3.93   3.734    4.126  100\n25    rerank_blender    emotional  3.85   3.648    4.052  100\n29    rerank_blender    proactive  3.81   3.601    4.019  100\n24    rerank_blender   consistent  3.64   3.397    3.883  100\n27    rerank_blender  grammatical  3.56   3.345    3.775  100\n31    rerank_blender     relevant  3.56   3.346    3.774  100\n30    rerank_blender      quality  3.23   3.037    3.423  100\n21             emora    proactive  4.04   3.853    4.227  100\n19             emora  grammatical  3.94   3.783    4.097  100\n16             emora   consistent  3.89   3.665    4.115  100\n18             emora     engaging  3.77   3.599    3.941  100\n17             emora    emotional  3.62   3.404    3.836  100\n23             emora     relevant  3.54   3.356    3.724  100\n20             emora  informative  3.52   3.354    3.686  100\n22             emora      quality  3.42   3.278    3.562  100\n9        blender2_3B    emotional  4.31   4.142    4.478  100\n11       blender2_3B  grammatical  4.23   4.066    4.394  100\n15       blender2_3B     relevant  4.05   3.866    4.234  100\n10       blender2_3B     engaging  3.93   3.756    4.104  100\n13       blender2_3B    proactive  3.92   3.738    4.102  100\n12       blender2_3B  informative  3.59   3.392    3.788  100\n14       blender2_3B      quality  3.56   3.374    3.746  100\n8        blender2_3B   consistent  3.49   3.225    3.755  100\n4   bart_fid_rag_bcb  informative  3.86   3.677    4.043  100\n3   bart_fid_rag_bcb  grammatical  3.78   3.600    3.960  100\n1   bart_fid_rag_bcb    emotional  3.59   3.354    3.826  100\n7   bart_fid_rag_bcb     relevant  3.54   3.305    3.775  100\n2   bart_fid_rag_bcb     engaging  3.26   3.030    3.490  100\n0   bart_fid_rag_bcb   consistent  3.01   2.734    3.286  100\n6   bart_fid_rag_bcb      quality  2.95   2.762    3.138  100\n5   bart_fid_rag_bcb    proactive  2.81   2.588    3.032  100",
      "text/html": "<div>\n<style scoped>\n    .dataframe tbody tr th:only-of-type {\n        vertical-align: middle;\n    }\n\n    .dataframe tbody tr th {\n        vertical-align: top;\n    }\n\n    .dataframe thead th {\n        text-align: right;\n    }\n</style>\n<table border=\"1\" class=\"dataframe\">\n  <thead>\n    <tr style=\"text-align: right;\">\n      <th></th>\n      <th>bot</th>\n      <th>label</th>\n      <th>mean</th>\n      <th>CI low</th>\n      <th>CI high</th>\n      <th>n</th>\n    </tr>\n  </thead>\n  <tbody>\n    <tr>\n      <th>28</th>\n      <td>rerank_blender</td>\n      <td>informative</td>\n      <td>3.95</td>\n      <td>3.769</td>\n      <td>4.131</td>\n      <td>100</td>\n    </tr>\n    <tr>\n      <th>26</th>\n      <td>rerank_blender</td>\n      <td>engaging</td>\n      <td>3.93</td>\n      <td>3.734</td>\n      <td>4.126</td>\n      <td>100</td>\n    </tr>\n    <tr>\n      <th>25</th>\n      <td>rerank_blender</td>\n      <td>emotional</td>\n      <td>3.85</td>\n      <td>3.648</td>\n      <td>4.052</td>\n      <td>100</td>\n    </tr>\n    <tr>\n      <th>29</th>\n      <td>rerank_blender</td>\n      <td>proactive</td>\n      <td>3.81</td>\n      <td>3.601</td>\n      <td>4.019</td>\n      <td>100</td>\n    </tr>\n    <tr>\n      <th>24</th>\n      <td>rerank_blender</td>\n      <td>consistent</td>\n      <td>3.64</td>\n      <td>3.397</td>\n      <td>3.883</td>\n      <td>100</td>\n    </tr>\n    <tr>\n      <th>27</th>\n      <td>rerank_blender</td>\n      <td>grammatical</td>\n      <td>3.56</td>\n      <td>3.345</td>\n      <td>3.775</td>\n      <td>100</td>\n    </tr>\n    <tr>\n      <th>31</th>\n      <td>rerank_blender</td>\n      <td>relevant</td>\n      <td>3.56</td>\n      <td>3.346</td>\n      <td>3.774</td>\n      <td>100</td>\n    </tr>\n    <tr>\n      <th>30</th>\n      <td>rerank_blender</td>\n      <td>quality</td>\n      <td>3.23</td>\n      <td>3.037</td>\n      <td>3.423</td>\n      <td>100</td>\n    </tr>\n    <tr>\n      <th>21</th>\n      <td>emora</td>\n      <td>proactive</td>\n      <td>4.04</td>\n      <td>3.853</td>\n      <td>4.227</td>\n      <td>100</td>\n    </tr>\n    <tr>\n      <th>19</th>\n      <td>emora</td>\n      <td>grammatical</td>\n      <td>3.94</td>\n      <td>3.783</td>\n      <td>4.097</td>\n      <td>100</td>\n    </tr>\n    <tr>\n      <th>16</th>\n      <td>emora</td>\n      <td>consistent</td>\n      <td>3.89</td>\n      <td>3.665</td>\n      <td>4.115</td>\n      <td>100</td>\n    </tr>\n    <tr>\n      <th>18</th>\n      <td>emora</td>\n      <td>engaging</td>\n      <td>3.77</td>\n      <td>3.599</td>\n      <td>3.941</td>\n      <td>100</td>\n    </tr>\n    <tr>\n      <th>17</th>\n      <td>emora</td>\n      <td>emotional</td>\n      <td>3.62</td>\n      <td>3.404</td>\n      <td>3.836</td>\n      <td>100</td>\n    </tr>\n    <tr>\n      <th>23</th>\n      <td>emora</td>\n      <td>relevant</td>\n      <td>3.54</td>\n      <td>3.356</td>\n      <td>3.724</td>\n      <td>100</td>\n    </tr>\n    <tr>\n      <th>20</th>\n      <td>emora</td>\n      <td>informative</td>\n      <td>3.52</td>\n      <td>3.354</td>\n      <td>3.686</td>\n      <td>100</td>\n    </tr>\n    <tr>\n      <th>22</th>\n      <td>emora</td>\n      <td>quality</td>\n      <td>3.42</td>\n      <td>3.278</td>\n      <td>3.562</td>\n      <td>100</td>\n    </tr>\n    <tr>\n      <th>9</th>\n      <td>blender2_3B</td>\n      <td>emotional</td>\n      <td>4.31</td>\n      <td>4.142</td>\n      <td>4.478</td>\n      <td>100</td>\n    </tr>\n    <tr>\n      <th>11</th>\n      <td>blender2_3B</td>\n      <td>grammatical</td>\n      <td>4.23</td>\n      <td>4.066</td>\n      <td>4.394</td>\n      <td>100</td>\n    </tr>\n    <tr>\n      <th>15</th>\n      <td>blender2_3B</td>\n      <td>relevant</td>\n      <td>4.05</td>\n      <td>3.866</td>\n      <td>4.234</td>\n      <td>100</td>\n    </tr>\n    <tr>\n      <th>10</th>\n      <td>blender2_3B</td>\n      <td>engaging</td>\n      <td>3.93</td>\n      <td>3.756</td>\n      <td>4.104</td>\n      <td>100</td>\n    </tr>\n    <tr>\n      <th>13</th>\n      <td>blender2_3B</td>\n      <td>proactive</td>\n      <td>3.92</td>\n      <td>3.738</td>\n      <td>4.102</td>\n      <td>100</td>\n    </tr>\n    <tr>\n      <th>12</th>\n      <td>blender2_3B</td>\n      <td>informative</td>\n      <td>3.59</td>\n      <td>3.392</td>\n      <td>3.788</td>\n      <td>100</td>\n    </tr>\n    <tr>\n      <th>14</th>\n      <td>blender2_3B</td>\n      <td>quality</td>\n      <td>3.56</td>\n      <td>3.374</td>\n      <td>3.746</td>\n      <td>100</td>\n    </tr>\n    <tr>\n      <th>8</th>\n      <td>blender2_3B</td>\n      <td>consistent</td>\n      <td>3.49</td>\n      <td>3.225</td>\n      <td>3.755</td>\n      <td>100</td>\n    </tr>\n    <tr>\n      <th>4</th>\n      <td>bart_fid_rag_bcb</td>\n      <td>informative</td>\n      <td>3.86</td>\n      <td>3.677</td>\n      <td>4.043</td>\n      <td>100</td>\n    </tr>\n    <tr>\n      <th>3</th>\n      <td>bart_fid_rag_bcb</td>\n      <td>grammatical</td>\n      <td>3.78</td>\n      <td>3.600</td>\n      <td>3.960</td>\n      <td>100</td>\n    </tr>\n    <tr>\n      <th>1</th>\n      <td>bart_fid_rag_bcb</td>\n      <td>emotional</td>\n      <td>3.59</td>\n      <td>3.354</td>\n      <td>3.826</td>\n      <td>100</td>\n    </tr>\n    <tr>\n      <th>7</th>\n      <td>bart_fid_rag_bcb</td>\n      <td>relevant</td>\n      <td>3.54</td>\n      <td>3.305</td>\n      <td>3.775</td>\n      <td>100</td>\n    </tr>\n    <tr>\n      <th>2</th>\n      <td>bart_fid_rag_bcb</td>\n      <td>engaging</td>\n      <td>3.26</td>\n      <td>3.030</td>\n      <td>3.490</td>\n      <td>100</td>\n    </tr>\n    <tr>\n      <th>0</th>\n      <td>bart_fid_rag_bcb</td>\n      <td>consistent</td>\n      <td>3.01</td>\n      <td>2.734</td>\n      <td>3.286</td>\n      <td>100</td>\n    </tr>\n    <tr>\n      <th>6</th>\n      <td>bart_fid_rag_bcb</td>\n      <td>quality</td>\n      <td>2.95</td>\n      <td>2.762</td>\n      <td>3.138</td>\n      <td>100</td>\n    </tr>\n    <tr>\n      <th>5</th>\n      <td>bart_fid_rag_bcb</td>\n      <td>proactive</td>\n      <td>2.81</td>\n      <td>2.588</td>\n      <td>3.032</td>\n      <td>100</td>\n    </tr>\n  </tbody>\n</table>\n</div>"
     },
     "execution_count": 330,
     "metadata": {},
     "output_type": "execute_result"
    }
   ],
   "source": [
    "surge_likert_dialogue_ratings = evaluate_likert_ratings(\n",
    "    surge_annotations, category.likert_dialogue,\n",
    "    load='results/surge_likert_dialogue_ratings'\n",
    ")\n",
    "sldr = prettify(surge_likert_dialogue_ratings, float_prec=3, col_types={\"n\": int}, sort_by=[\"bot\", \"mean\"], to_csv=\"results/paper/surge_likert_dialogue_ratings\", index=False)\n",
    "sldr"
   ],
   "metadata": {
    "collapsed": false,
    "pycharm": {
     "name": "#%%\n"
    }
   }
  },
  {
   "cell_type": "code",
   "execution_count": 331,
   "outputs": [
    {
     "data": {
      "text/plain": "<Figure size 720x360 with 1 Axes>",
      "image/png": "[encoded data removed]"
     },
     "metadata": {
      "needs_background": "light"
     },
     "output_type": "display_data"
    }
   ],
   "source": [
    "grouped_barplot(sldr, title=\"Average Dialogue Likert Rating\", ylabel=\"Likert Rating\", xlabel='Label', ylim=(2.5,4.55), rot=0, fig_size=(10,5))"
   ],
   "metadata": {
    "collapsed": false,
    "pycharm": {
     "name": "#%%\n"
    }
   }
  },
  {
   "cell_type": "markdown",
   "source": [
    "### Likert Turn"
   ],
   "metadata": {
    "collapsed": false,
    "pycharm": {
     "name": "#%% md\n"
    }
   }
  },
  {
   "cell_type": "code",
   "execution_count": 332,
   "outputs": [
    {
     "data": {
      "text/plain": "                 bot        label   mean  CI low  CI high     n\n25    rerank_blender    emotional  4.197   4.144    4.250  1500\n24    rerank_blender   consistent  4.064   4.003    4.125  1500\n27    rerank_blender  grammatical  4.007   3.954    4.060  1500\n26    rerank_blender     engaging  3.827   3.765    3.888  1500\n28    rerank_blender  informative  3.731   3.677    3.786  1500\n31    rerank_blender     relevant  3.727   3.662    3.793  1500\n29    rerank_blender    proactive  3.661   3.599    3.722  1500\n30    rerank_blender      quality  3.307   3.246    3.367  1500\n19             emora  grammatical  4.546   4.512    4.580  1522\n16             emora   consistent  4.143   4.084    4.202  1522\n17             emora    emotional  3.960   3.904    4.016  1522\n18             emora     engaging  3.901   3.846    3.957  1522\n23             emora     relevant  3.823   3.758    3.888  1522\n21             emora    proactive  3.767   3.708    3.826  1522\n22             emora      quality  3.537   3.474    3.599  1522\n20             emora  informative  3.207   3.146    3.268  1522\n11       blender2_3B  grammatical  4.656   4.620    4.692  1524\n9        blender2_3B    emotional  4.232   4.182    4.282  1524\n15       blender2_3B     relevant  4.177   4.117    4.237  1524\n8        blender2_3B   consistent  4.093   4.030    4.156  1524\n10       blender2_3B     engaging  3.976   3.919    4.032  1524\n14       blender2_3B      quality  3.793   3.732    3.853  1524\n13       blender2_3B    proactive  3.571   3.514    3.628  1524\n12       blender2_3B  informative  3.446   3.395    3.498  1524\n3   bart_fid_rag_bcb  grammatical  4.313   4.266    4.361  1512\n1   bart_fid_rag_bcb    emotional  4.026   3.965    4.087  1512\n0   bart_fid_rag_bcb   consistent  3.950   3.881    4.018  1512\n7   bart_fid_rag_bcb     relevant  3.903   3.834    3.971  1512\n4   bart_fid_rag_bcb  informative  3.823   3.770    3.875  1512\n2   bart_fid_rag_bcb     engaging  3.638   3.570    3.705  1512\n6   bart_fid_rag_bcb      quality  3.347   3.281    3.414  1512\n5   bart_fid_rag_bcb    proactive  2.939   2.879    2.999  1512",
      "text/html": "<div>\n<style scoped>\n    .dataframe tbody tr th:only-of-type {\n        vertical-align: middle;\n    }\n\n    .dataframe tbody tr th {\n        vertical-align: top;\n    }\n\n    .dataframe thead th {\n        text-align: right;\n    }\n</style>\n<table border=\"1\" class=\"dataframe\">\n  <thead>\n    <tr style=\"text-align: right;\">\n      <th></th>\n      <th>bot</th>\n      <th>label</th>\n      <th>mean</th>\n      <th>CI low</th>\n      <th>CI high</th>\n      <th>n</th>\n    </tr>\n  </thead>\n  <tbody>\n    <tr>\n      <th>25</th>\n      <td>rerank_blender</td>\n      <td>emotional</td>\n      <td>4.197</td>\n      <td>4.144</td>\n      <td>4.250</td>\n      <td>1500</td>\n    </tr>\n    <tr>\n      <th>24</th>\n      <td>rerank_blender</td>\n      <td>consistent</td>\n      <td>4.064</td>\n      <td>4.003</td>\n      <td>4.125</td>\n      <td>1500</td>\n    </tr>\n    <tr>\n      <th>27</th>\n      <td>rerank_blender</td>\n      <td>grammatical</td>\n      <td>4.007</td>\n      <td>3.954</td>\n      <td>4.060</td>\n      <td>1500</td>\n    </tr>\n    <tr>\n      <th>26</th>\n      <td>rerank_blender</td>\n      <td>engaging</td>\n      <td>3.827</td>\n      <td>3.765</td>\n      <td>3.888</td>\n      <td>1500</td>\n    </tr>\n    <tr>\n      <th>28</th>\n      <td>rerank_blender</td>\n      <td>informative</td>\n      <td>3.731</td>\n      <td>3.677</td>\n      <td>3.786</td>\n      <td>1500</td>\n    </tr>\n    <tr>\n      <th>31</th>\n      <td>rerank_blender</td>\n      <td>relevant</td>\n      <td>3.727</td>\n      <td>3.662</td>\n      <td>3.793</td>\n      <td>1500</td>\n    </tr>\n    <tr>\n      <th>29</th>\n      <td>rerank_blender</td>\n      <td>proactive</td>\n      <td>3.661</td>\n      <td>3.599</td>\n      <td>3.722</td>\n      <td>1500</td>\n    </tr>\n    <tr>\n      <th>30</th>\n      <td>rerank_blender</td>\n      <td>quality</td>\n      <td>3.307</td>\n      <td>3.246</td>\n      <td>3.367</td>\n      <td>1500</td>\n    </tr>\n    <tr>\n      <th>19</th>\n      <td>emora</td>\n      <td>grammatical</td>\n      <td>4.546</td>\n      <td>4.512</td>\n      <td>4.580</td>\n      <td>1522</td>\n    </tr>\n    <tr>\n      <th>16</th>\n      <td>emora</td>\n      <td>consistent</td>\n      <td>4.143</td>\n      <td>4.084</td>\n      <td>4.202</td>\n      <td>1522</td>\n    </tr>\n    <tr>\n      <th>17</th>\n      <td>emora</td>\n      <td>emotional</td>\n      <td>3.960</td>\n      <td>3.904</td>\n      <td>4.016</td>\n      <td>1522</td>\n    </tr>\n    <tr>\n      <th>18</th>\n      <td>emora</td>\n      <td>engaging</td>\n      <td>3.901</td>\n      <td>3.846</td>\n      <td>3.957</td>\n      <td>1522</td>\n    </tr>\n    <tr>\n      <th>23</th>\n      <td>emora</td>\n      <td>relevant</td>\n      <td>3.823</td>\n      <td>3.758</td>\n      <td>3.888</td>\n      <td>1522</td>\n    </tr>\n    <tr>\n      <th>21</th>\n      <td>emora</td>\n      <td>proactive</td>\n      <td>3.767</td>\n      <td>3.708</td>\n      <td>3.826</td>\n      <td>1522</td>\n    </tr>\n    <tr>\n      <th>22</th>\n      <td>emora</td>\n      <td>quality</td>\n      <td>3.537</td>\n      <td>3.474</td>\n      <td>3.599</td>\n      <td>1522</td>\n    </tr>\n    <tr>\n      <th>20</th>\n      <td>emora</td>\n      <td>informative</td>\n      <td>3.207</td>\n      <td>3.146</td>\n      <td>3.268</td>\n      <td>1522</td>\n    </tr>\n    <tr>\n      <th>11</th>\n      <td>blender2_3B</td>\n      <td>grammatical</td>\n      <td>4.656</td>\n      <td>4.620</td>\n      <td>4.692</td>\n      <td>1524</td>\n    </tr>\n    <tr>\n      <th>9</th>\n      <td>blender2_3B</td>\n      <td>emotional</td>\n      <td>4.232</td>\n      <td>4.182</td>\n      <td>4.282</td>\n      <td>1524</td>\n    </tr>\n    <tr>\n      <th>15</th>\n      <td>blender2_3B</td>\n      <td>relevant</td>\n      <td>4.177</td>\n      <td>4.117</td>\n      <td>4.237</td>\n      <td>1524</td>\n    </tr>\n    <tr>\n      <th>8</th>\n      <td>blender2_3B</td>\n      <td>consistent</td>\n      <td>4.093</td>\n      <td>4.030</td>\n      <td>4.156</td>\n      <td>1524</td>\n    </tr>\n    <tr>\n      <th>10</th>\n      <td>blender2_3B</td>\n      <td>engaging</td>\n      <td>3.976</td>\n      <td>3.919</td>\n      <td>4.032</td>\n      <td>1524</td>\n    </tr>\n    <tr>\n      <th>14</th>\n      <td>blender2_3B</td>\n      <td>quality</td>\n      <td>3.793</td>\n      <td>3.732</td>\n      <td>3.853</td>\n      <td>1524</td>\n    </tr>\n    <tr>\n      <th>13</th>\n      <td>blender2_3B</td>\n      <td>proactive</td>\n      <td>3.571</td>\n      <td>3.514</td>\n      <td>3.628</td>\n      <td>1524</td>\n    </tr>\n    <tr>\n      <th>12</th>\n      <td>blender2_3B</td>\n      <td>informative</td>\n      <td>3.446</td>\n      <td>3.395</td>\n      <td>3.498</td>\n      <td>1524</td>\n    </tr>\n    <tr>\n      <th>3</th>\n      <td>bart_fid_rag_bcb</td>\n      <td>grammatical</td>\n      <td>4.313</td>\n      <td>4.266</td>\n      <td>4.361</td>\n      <td>1512</td>\n    </tr>\n    <tr>\n      <th>1</th>\n      <td>bart_fid_rag_bcb</td>\n      <td>emotional</td>\n      <td>4.026</td>\n      <td>3.965</td>\n      <td>4.087</td>\n      <td>1512</td>\n    </tr>\n    <tr>\n      <th>0</th>\n      <td>bart_fid_rag_bcb</td>\n      <td>consistent</td>\n      <td>3.950</td>\n      <td>3.881</td>\n      <td>4.018</td>\n      <td>1512</td>\n    </tr>\n    <tr>\n      <th>7</th>\n      <td>bart_fid_rag_bcb</td>\n      <td>relevant</td>\n      <td>3.903</td>\n      <td>3.834</td>\n      <td>3.971</td>\n      <td>1512</td>\n    </tr>\n    <tr>\n      <th>4</th>\n      <td>bart_fid_rag_bcb</td>\n      <td>informative</td>\n      <td>3.823</td>\n      <td>3.770</td>\n      <td>3.875</td>\n      <td>1512</td>\n    </tr>\n    <tr>\n      <th>2</th>\n      <td>bart_fid_rag_bcb</td>\n      <td>engaging</td>\n      <td>3.638</td>\n      <td>3.570</td>\n      <td>3.705</td>\n      <td>1512</td>\n    </tr>\n    <tr>\n      <th>6</th>\n      <td>bart_fid_rag_bcb</td>\n      <td>quality</td>\n      <td>3.347</td>\n      <td>3.281</td>\n      <td>3.414</td>\n      <td>1512</td>\n    </tr>\n    <tr>\n      <th>5</th>\n      <td>bart_fid_rag_bcb</td>\n      <td>proactive</td>\n      <td>2.939</td>\n      <td>2.879</td>\n      <td>2.999</td>\n      <td>1512</td>\n    </tr>\n  </tbody>\n</table>\n</div>"
     },
     "execution_count": 332,
     "metadata": {},
     "output_type": "execute_result"
    }
   ],
   "source": [
    "surge_likert_turn_ratings = evaluate_likert_ratings(\n",
    "    surge_annotations, category.likert_turn,\n",
    "    load='results/surge_likert_turn_ratings'\n",
    ")\n",
    "sltr = prettify(surge_likert_turn_ratings, float_prec=3, col_types={\"n\": int}, sort_by=[\"bot\", \"mean\"], to_csv=\"results/paper/surge_likert_turn_ratings\", index=False)\n",
    "sltr"
   ],
   "metadata": {
    "collapsed": false,
    "pycharm": {
     "name": "#%%\n"
    }
   }
  },
  {
   "cell_type": "code",
   "execution_count": 333,
   "outputs": [
    {
     "data": {
      "text/plain": "<Figure size 720x360 with 1 Axes>",
      "image/png": "[encoded data removed]"
     },
     "metadata": {
      "needs_background": "light"
     },
     "output_type": "display_data"
    }
   ],
   "source": [
    "grouped_barplot(sltr, title=\"Average Turn Likert Rating\", ylabel=\"Likert Rating\", xlabel='Label', ylim=(2.5,5.0), rot=0)"
   ],
   "metadata": {
    "collapsed": false,
    "pycharm": {
     "name": "#%%\n"
    }
   }
  },
  {
   "cell_type": "markdown",
   "source": [
    "### Comparative"
   ],
   "metadata": {
    "collapsed": false,
    "pycharm": {
     "name": "#%% md\n"
    }
   }
  },
  {
   "cell_type": "code",
   "execution_count": 334,
   "outputs": [
    {
     "data": {
      "text/plain": "                                           lose    CI low   CI high      n  \\\nbot              bot comp label                                              \nbart_fid_rag_bcb others   consistent   0.613861  0.516402  0.702977  101.0   \n                          emotional    0.584158  0.486681  0.675468  101.0   \n                          engaging     0.613861  0.516402  0.702977  101.0   \n                          grammatical  0.415842  0.324532  0.513319  101.0   \n                          informative  0.435644  0.343060  0.532944  101.0   \n...                                         ...       ...       ...    ...   \nrerank_blender   emora    grammatical  0.333333  0.197502  0.503921   33.0   \n                          informative  0.272727  0.150674  0.442176   33.0   \n                          proactive    0.424242  0.272356  0.591927   33.0   \n                          quality      0.454545  0.298429  0.620141   33.0   \n                          relevant     0.484848  0.325040  0.647816   33.0   \n\n                                            tie        CI low   CI high  \\\nbot              bot comp label                                           \nbart_fid_rag_bcb others   consistent   0.000000  3.469447e-18  0.036641   \n                          emotional    0.059406  2.750813e-02  0.123591   \n                          engaging     0.009901  1.749911e-03  0.053967   \n                          grammatical  0.188119  1.238713e-01  0.275221   \n                          informative  0.000000  3.469447e-18  0.036641   \n...                                         ...           ...       ...   \nrerank_blender   emora    grammatical  0.151515  6.650457e-02  0.309199   \n                          informative  0.000000  0.000000e+00  0.104270   \n                          proactive    0.000000  0.000000e+00  0.104270   \n                          quality      0.000000  0.000000e+00  0.104270   \n                          relevant     0.090909  3.140394e-02  0.235726   \n\n                                           n       win    CI low   CI high  \\\nbot              bot comp label                                              \nbart_fid_rag_bcb others   consistent   101.0  0.386139  0.297023  0.483598   \n                          emotional    101.0  0.356436  0.269867  0.453525   \n                          engaging     101.0  0.376238  0.287931  0.473614   \n                          grammatical  101.0  0.396040  0.306154  0.493543   \n                          informative  101.0  0.564356  0.467056  0.656940   \n...                                      ...       ...       ...       ...   \nrerank_blender   emora    grammatical   33.0  0.515152  0.352184  0.674960   \n                          informative   33.0  0.727273  0.557824  0.849326   \n                          proactive     33.0  0.575758  0.408073  0.727644   \n                          quality       33.0  0.545455  0.379859  0.701571   \n                          relevant      33.0  0.424242  0.272356  0.591927   \n\n                                           n  \nbot              bot comp label               \nbart_fid_rag_bcb others   consistent   101.0  \n                          emotional    101.0  \n                          engaging     101.0  \n                          grammatical  101.0  \n                          informative  101.0  \n...                                      ...  \nrerank_blender   emora    grammatical   33.0  \n                          informative   33.0  \n                          proactive     33.0  \n                          quality       33.0  \n                          relevant      33.0  \n\n[128 rows x 12 columns]",
      "text/html": "<div>\n<style scoped>\n    .dataframe tbody tr th:only-of-type {\n        vertical-align: middle;\n    }\n\n    .dataframe tbody tr th {\n        vertical-align: top;\n    }\n\n    .dataframe thead th {\n        text-align: right;\n    }\n</style>\n<table border=\"1\" class=\"dataframe\">\n  <thead>\n    <tr style=\"text-align: right;\">\n      <th></th>\n      <th></th>\n      <th></th>\n      <th>lose</th>\n      <th>CI low</th>\n      <th>CI high</th>\n      <th>n</th>\n      <th>tie</th>\n      <th>CI low</th>\n      <th>CI high</th>\n      <th>n</th>\n      <th>win</th>\n      <th>CI low</th>\n      <th>CI high</th>\n      <th>n</th>\n    </tr>\n    <tr>\n      <th>bot</th>\n      <th>bot comp</th>\n      <th>label</th>\n      <th></th>\n      <th></th>\n      <th></th>\n      <th></th>\n      <th></th>\n      <th></th>\n      <th></th>\n      <th></th>\n      <th></th>\n      <th></th>\n      <th></th>\n      <th></th>\n    </tr>\n  </thead>\n  <tbody>\n    <tr>\n      <th rowspan=\"5\" valign=\"top\">bart_fid_rag_bcb</th>\n      <th rowspan=\"5\" valign=\"top\">others</th>\n      <th>consistent</th>\n      <td>0.613861</td>\n      <td>0.516402</td>\n      <td>0.702977</td>\n      <td>101.0</td>\n      <td>0.000000</td>\n      <td>3.469447e-18</td>\n      <td>0.036641</td>\n      <td>101.0</td>\n      <td>0.386139</td>\n      <td>0.297023</td>\n      <td>0.483598</td>\n      <td>101.0</td>\n    </tr>\n    <tr>\n      <th>emotional</th>\n      <td>0.584158</td>\n      <td>0.486681</td>\n      <td>0.675468</td>\n      <td>101.0</td>\n      <td>0.059406</td>\n      <td>2.750813e-02</td>\n      <td>0.123591</td>\n      <td>101.0</td>\n      <td>0.356436</td>\n      <td>0.269867</td>\n      <td>0.453525</td>\n      <td>101.0</td>\n    </tr>\n    <tr>\n      <th>engaging</th>\n      <td>0.613861</td>\n      <td>0.516402</td>\n      <td>0.702977</td>\n      <td>101.0</td>\n      <td>0.009901</td>\n      <td>1.749911e-03</td>\n      <td>0.053967</td>\n      <td>101.0</td>\n      <td>0.376238</td>\n      <td>0.287931</td>\n      <td>0.473614</td>\n      <td>101.0</td>\n    </tr>\n    <tr>\n      <th>grammatical</th>\n      <td>0.415842</td>\n      <td>0.324532</td>\n      <td>0.513319</td>\n      <td>101.0</td>\n      <td>0.188119</td>\n      <td>1.238713e-01</td>\n      <td>0.275221</td>\n      <td>101.0</td>\n      <td>0.396040</td>\n      <td>0.306154</td>\n      <td>0.493543</td>\n      <td>101.0</td>\n    </tr>\n    <tr>\n      <th>informative</th>\n      <td>0.435644</td>\n      <td>0.343060</td>\n      <td>0.532944</td>\n      <td>101.0</td>\n      <td>0.000000</td>\n      <td>3.469447e-18</td>\n      <td>0.036641</td>\n      <td>101.0</td>\n      <td>0.564356</td>\n      <td>0.467056</td>\n      <td>0.656940</td>\n      <td>101.0</td>\n    </tr>\n    <tr>\n      <th>...</th>\n      <th>...</th>\n      <th>...</th>\n      <td>...</td>\n      <td>...</td>\n      <td>...</td>\n      <td>...</td>\n      <td>...</td>\n      <td>...</td>\n      <td>...</td>\n      <td>...</td>\n      <td>...</td>\n      <td>...</td>\n      <td>...</td>\n      <td>...</td>\n    </tr>\n    <tr>\n      <th rowspan=\"5\" valign=\"top\">rerank_blender</th>\n      <th rowspan=\"5\" valign=\"top\">emora</th>\n      <th>grammatical</th>\n      <td>0.333333</td>\n      <td>0.197502</td>\n      <td>0.503921</td>\n      <td>33.0</td>\n      <td>0.151515</td>\n      <td>6.650457e-02</td>\n      <td>0.309199</td>\n      <td>33.0</td>\n      <td>0.515152</td>\n      <td>0.352184</td>\n      <td>0.674960</td>\n      <td>33.0</td>\n    </tr>\n    <tr>\n      <th>informative</th>\n      <td>0.272727</td>\n      <td>0.150674</td>\n      <td>0.442176</td>\n      <td>33.0</td>\n      <td>0.000000</td>\n      <td>0.000000e+00</td>\n      <td>0.104270</td>\n      <td>33.0</td>\n      <td>0.727273</td>\n      <td>0.557824</td>\n      <td>0.849326</td>\n      <td>33.0</td>\n    </tr>\n    <tr>\n      <th>proactive</th>\n      <td>0.424242</td>\n      <td>0.272356</td>\n      <td>0.591927</td>\n      <td>33.0</td>\n      <td>0.000000</td>\n      <td>0.000000e+00</td>\n      <td>0.104270</td>\n      <td>33.0</td>\n      <td>0.575758</td>\n      <td>0.408073</td>\n      <td>0.727644</td>\n      <td>33.0</td>\n    </tr>\n    <tr>\n      <th>quality</th>\n      <td>0.454545</td>\n      <td>0.298429</td>\n      <td>0.620141</td>\n      <td>33.0</td>\n      <td>0.000000</td>\n      <td>0.000000e+00</td>\n      <td>0.104270</td>\n      <td>33.0</td>\n      <td>0.545455</td>\n      <td>0.379859</td>\n      <td>0.701571</td>\n      <td>33.0</td>\n    </tr>\n    <tr>\n      <th>relevant</th>\n      <td>0.484848</td>\n      <td>0.325040</td>\n      <td>0.647816</td>\n      <td>33.0</td>\n      <td>0.090909</td>\n      <td>3.140394e-02</td>\n      <td>0.235726</td>\n      <td>33.0</td>\n      <td>0.424242</td>\n      <td>0.272356</td>\n      <td>0.591927</td>\n      <td>33.0</td>\n    </tr>\n  </tbody>\n</table>\n<p>128 rows × 12 columns</p>\n</div>"
     },
     "execution_count": 334,
     "metadata": {},
     "output_type": "execute_result"
    }
   ],
   "source": [
    "comparison_df = evaluate_comparisons(\n",
    "    surge_annotations_comparative,\n",
    "    load='results/surge_comparisons'\n",
    ")\n",
    "comparison_df"
   ],
   "metadata": {
    "collapsed": false,
    "pycharm": {
     "name": "#%%\n"
    }
   }
  },
  {
   "cell_type": "code",
   "execution_count": 335,
   "outputs": [
    {
     "name": "stdout",
     "output_type": "stream",
     "text": [
      "Index(['lose', 'CI low', 'CI high', 'n', 'tie', 'CI low', 'CI high', 'n',\n",
      "       'win', 'CI low', 'CI high', 'n'],\n",
      "      dtype='object')\n"
     ]
    },
    {
     "data": {
      "text/plain": "                                   win       tie      lose    CI low   CI high\nlabel       bot                                                               \nconsistent  bart_fid_rag_bcb  0.386139  0.000000  0.613861  0.297023  0.483598\n            blender2_3B       0.372549  0.009804  0.617647  0.284950  0.469400\n            emora             0.663366  0.009901  0.326733  0.566727  0.748034\n            rerank_blender    0.530000  0.020000  0.450000  0.432889  0.624892\nemotional   bart_fid_rag_bcb  0.356436  0.059406  0.584158  0.269867  0.453525\n            blender2_3B       0.500000  0.058824  0.441176  0.404744  0.595256\n            emora             0.504950  0.079208  0.415842  0.409065  0.600473\n            rerank_blender    0.530000  0.050000  0.420000  0.432889  0.624892\nengaging    bart_fid_rag_bcb  0.376238  0.009901  0.613861  0.287931  0.473614\n            blender2_3B       0.490196  0.019608  0.490196  0.395314  0.585790\n            emora             0.514851  0.000000  0.485149  0.418639  0.609975\n            rerank_blender    0.620000  0.030000  0.350000  0.522098  0.709024\ngrammatical bart_fid_rag_bcb  0.396040  0.188119  0.415842  0.306154  0.493543\n            blender2_3B       0.470588  0.166667  0.362745  0.376559  0.566752\n            emora             0.396040  0.148515  0.455446  0.306154  0.493543\n            rerank_blender    0.420000  0.160000  0.420000  0.327984  0.517935\ninformative bart_fid_rag_bcb  0.564356  0.000000  0.435644  0.467056  0.656940\n            blender2_3B       0.333333  0.000000  0.666667  0.249371  0.429394\n            emora             0.445545  0.009901  0.544554  0.352380  0.542700\n            rerank_blender    0.680000  0.000000  0.320000  0.583374  0.763309\nproactive   bart_fid_rag_bcb  0.257426  0.019802  0.722772  0.182152  0.350475\n            blender2_3B       0.490196  0.000000  0.509804  0.395314  0.585790\n            emora             0.584158  0.009901  0.405941  0.486681  0.675468\n            rerank_blender    0.650000  0.010000  0.340000  0.552544  0.736358\nquality     bart_fid_rag_bcb  0.445545  0.009901  0.544554  0.352380  0.542700\n            blender2_3B       0.470588  0.009804  0.519608  0.376559  0.566752\n            emora             0.544554  0.009901  0.445545  0.447580  0.638264\n            rerank_blender    0.570000  0.010000  0.420000  0.472154  0.662667\nrelevant    bart_fid_rag_bcb  0.405941  0.009901  0.584158  0.315324  0.503450\n            blender2_3B       0.480392  0.000000  0.519608  0.385919  0.576289\n            emora             0.564356  0.039604  0.396040  0.467056  0.656940\n            rerank_blender    0.510000  0.030000  0.460000  0.413480  0.605780",
      "text/html": "<div>\n<style scoped>\n    .dataframe tbody tr th:only-of-type {\n        vertical-align: middle;\n    }\n\n    .dataframe tbody tr th {\n        vertical-align: top;\n    }\n\n    .dataframe thead th {\n        text-align: right;\n    }\n</style>\n<table border=\"1\" class=\"dataframe\">\n  <thead>\n    <tr style=\"text-align: right;\">\n      <th></th>\n      <th></th>\n      <th>win</th>\n      <th>tie</th>\n      <th>lose</th>\n      <th>CI low</th>\n      <th>CI high</th>\n    </tr>\n    <tr>\n      <th>label</th>\n      <th>bot</th>\n      <th></th>\n      <th></th>\n      <th></th>\n      <th></th>\n      <th></th>\n    </tr>\n  </thead>\n  <tbody>\n    <tr>\n      <th rowspan=\"4\" valign=\"top\">consistent</th>\n      <th>bart_fid_rag_bcb</th>\n      <td>0.386139</td>\n      <td>0.000000</td>\n      <td>0.613861</td>\n      <td>0.297023</td>\n      <td>0.483598</td>\n    </tr>\n    <tr>\n      <th>blender2_3B</th>\n      <td>0.372549</td>\n      <td>0.009804</td>\n      <td>0.617647</td>\n      <td>0.284950</td>\n      <td>0.469400</td>\n    </tr>\n    <tr>\n      <th>emora</th>\n      <td>0.663366</td>\n      <td>0.009901</td>\n      <td>0.326733</td>\n      <td>0.566727</td>\n      <td>0.748034</td>\n    </tr>\n    <tr>\n      <th>rerank_blender</th>\n      <td>0.530000</td>\n      <td>0.020000</td>\n      <td>0.450000</td>\n      <td>0.432889</td>\n      <td>0.624892</td>\n    </tr>\n    <tr>\n      <th rowspan=\"4\" valign=\"top\">emotional</th>\n      <th>bart_fid_rag_bcb</th>\n      <td>0.356436</td>\n      <td>0.059406</td>\n      <td>0.584158</td>\n      <td>0.269867</td>\n      <td>0.453525</td>\n    </tr>\n    <tr>\n      <th>blender2_3B</th>\n      <td>0.500000</td>\n      <td>0.058824</td>\n      <td>0.441176</td>\n      <td>0.404744</td>\n      <td>0.595256</td>\n    </tr>\n    <tr>\n      <th>emora</th>\n      <td>0.504950</td>\n      <td>0.079208</td>\n      <td>0.415842</td>\n      <td>0.409065</td>\n      <td>0.600473</td>\n    </tr>\n    <tr>\n      <th>rerank_blender</th>\n      <td>0.530000</td>\n      <td>0.050000</td>\n      <td>0.420000</td>\n      <td>0.432889</td>\n      <td>0.624892</td>\n    </tr>\n    <tr>\n      <th rowspan=\"4\" valign=\"top\">engaging</th>\n      <th>bart_fid_rag_bcb</th>\n      <td>0.376238</td>\n      <td>0.009901</td>\n      <td>0.613861</td>\n      <td>0.287931</td>\n      <td>0.473614</td>\n    </tr>\n    <tr>\n      <th>blender2_3B</th>\n      <td>0.490196</td>\n      <td>0.019608</td>\n      <td>0.490196</td>\n      <td>0.395314</td>\n      <td>0.585790</td>\n    </tr>\n    <tr>\n      <th>emora</th>\n      <td>0.514851</td>\n      <td>0.000000</td>\n      <td>0.485149</td>\n      <td>0.418639</td>\n      <td>0.609975</td>\n    </tr>\n    <tr>\n      <th>rerank_blender</th>\n      <td>0.620000</td>\n      <td>0.030000</td>\n      <td>0.350000</td>\n      <td>0.522098</td>\n      <td>0.709024</td>\n    </tr>\n    <tr>\n      <th rowspan=\"4\" valign=\"top\">grammatical</th>\n      <th>bart_fid_rag_bcb</th>\n      <td>0.396040</td>\n      <td>0.188119</td>\n      <td>0.415842</td>\n      <td>0.306154</td>\n      <td>0.493543</td>\n    </tr>\n    <tr>\n      <th>blender2_3B</th>\n      <td>0.470588</td>\n      <td>0.166667</td>\n      <td>0.362745</td>\n      <td>0.376559</td>\n      <td>0.566752</td>\n    </tr>\n    <tr>\n      <th>emora</th>\n      <td>0.396040</td>\n      <td>0.148515</td>\n      <td>0.455446</td>\n      <td>0.306154</td>\n      <td>0.493543</td>\n    </tr>\n    <tr>\n      <th>rerank_blender</th>\n      <td>0.420000</td>\n      <td>0.160000</td>\n      <td>0.420000</td>\n      <td>0.327984</td>\n      <td>0.517935</td>\n    </tr>\n    <tr>\n      <th rowspan=\"4\" valign=\"top\">informative</th>\n      <th>bart_fid_rag_bcb</th>\n      <td>0.564356</td>\n      <td>0.000000</td>\n      <td>0.435644</td>\n      <td>0.467056</td>\n      <td>0.656940</td>\n    </tr>\n    <tr>\n      <th>blender2_3B</th>\n      <td>0.333333</td>\n      <td>0.000000</td>\n      <td>0.666667</td>\n      <td>0.249371</td>\n      <td>0.429394</td>\n    </tr>\n    <tr>\n      <th>emora</th>\n      <td>0.445545</td>\n      <td>0.009901</td>\n      <td>0.544554</td>\n      <td>0.352380</td>\n      <td>0.542700</td>\n    </tr>\n    <tr>\n      <th>rerank_blender</th>\n      <td>0.680000</td>\n      <td>0.000000</td>\n      <td>0.320000</td>\n      <td>0.583374</td>\n      <td>0.763309</td>\n    </tr>\n    <tr>\n      <th rowspan=\"4\" valign=\"top\">proactive</th>\n      <th>bart_fid_rag_bcb</th>\n      <td>0.257426</td>\n      <td>0.019802</td>\n      <td>0.722772</td>\n      <td>0.182152</td>\n      <td>0.350475</td>\n    </tr>\n    <tr>\n      <th>blender2_3B</th>\n      <td>0.490196</td>\n      <td>0.000000</td>\n      <td>0.509804</td>\n      <td>0.395314</td>\n      <td>0.585790</td>\n    </tr>\n    <tr>\n      <th>emora</th>\n      <td>0.584158</td>\n      <td>0.009901</td>\n      <td>0.405941</td>\n      <td>0.486681</td>\n      <td>0.675468</td>\n    </tr>\n    <tr>\n      <th>rerank_blender</th>\n      <td>0.650000</td>\n      <td>0.010000</td>\n      <td>0.340000</td>\n      <td>0.552544</td>\n      <td>0.736358</td>\n    </tr>\n    <tr>\n      <th rowspan=\"4\" valign=\"top\">quality</th>\n      <th>bart_fid_rag_bcb</th>\n      <td>0.445545</td>\n      <td>0.009901</td>\n      <td>0.544554</td>\n      <td>0.352380</td>\n      <td>0.542700</td>\n    </tr>\n    <tr>\n      <th>blender2_3B</th>\n      <td>0.470588</td>\n      <td>0.009804</td>\n      <td>0.519608</td>\n      <td>0.376559</td>\n      <td>0.566752</td>\n    </tr>\n    <tr>\n      <th>emora</th>\n      <td>0.544554</td>\n      <td>0.009901</td>\n      <td>0.445545</td>\n      <td>0.447580</td>\n      <td>0.638264</td>\n    </tr>\n    <tr>\n      <th>rerank_blender</th>\n      <td>0.570000</td>\n      <td>0.010000</td>\n      <td>0.420000</td>\n      <td>0.472154</td>\n      <td>0.662667</td>\n    </tr>\n    <tr>\n      <th rowspan=\"4\" valign=\"top\">relevant</th>\n      <th>bart_fid_rag_bcb</th>\n      <td>0.405941</td>\n      <td>0.009901</td>\n      <td>0.584158</td>\n      <td>0.315324</td>\n      <td>0.503450</td>\n    </tr>\n    <tr>\n      <th>blender2_3B</th>\n      <td>0.480392</td>\n      <td>0.000000</td>\n      <td>0.519608</td>\n      <td>0.385919</td>\n      <td>0.576289</td>\n    </tr>\n    <tr>\n      <th>emora</th>\n      <td>0.564356</td>\n      <td>0.039604</td>\n      <td>0.396040</td>\n      <td>0.467056</td>\n      <td>0.656940</td>\n    </tr>\n    <tr>\n      <th>rerank_blender</th>\n      <td>0.510000</td>\n      <td>0.030000</td>\n      <td>0.460000</td>\n      <td>0.413480</td>\n      <td>0.605780</td>\n    </tr>\n  </tbody>\n</table>\n</div>"
     },
     "execution_count": 335,
     "metadata": {},
     "output_type": "execute_result"
    }
   ],
   "source": [
    "# each bot is a dataframe\n",
    "botvothers = comparison_df[comparison_df.index.get_level_values('bot comp') == 'others'][['win', 'tie', 'lose']]\n",
    "print(comparison_df.columns)\n",
    "botvothers['CI low'] = comparison_df.iloc[:, 9]\n",
    "botvothers['CI high'] = comparison_df.iloc[:, 10]\n",
    "botvothers.reset_index(level=['bot comp'], inplace=True)\n",
    "botvothers.drop('bot comp', inplace=True, axis='columns')\n",
    "toplot = botvothers.reorder_levels(['label', 'bot']).sort_index()\n",
    "toplot"
   ],
   "metadata": {
    "collapsed": false,
    "pycharm": {
     "name": "#%%\n"
    }
   }
  },
  {
   "cell_type": "code",
   "execution_count": 336,
   "outputs": [],
   "source": [
    "from matplotlib.text import Text\n",
    "\n",
    "def plot_comparative(df0, title, value_col, fig_size):\n",
    "    # https://stackoverflow.com/questions/59922701/pandas-how-can-i-group-a-stacked-bar-chart\n",
    "    plt.rcParams[\"figure.figsize\"] = fig_size\n",
    "\n",
    "    df0['lower'] = df0[value_col] - df0[\"CI low\"]\n",
    "    df0['upper'] = df0[\"CI high\"] - df0[value_col]\n",
    "\n",
    "    errLow = df0[['lower']].reset_index(['bot', 'label']).pivot(index='label', columns='bot', values='lower')\n",
    "    errHi = df0[['upper']].reset_index(['bot', 'label']).pivot(index='label', columns='bot', values='upper')\n",
    "\n",
    "    # 4 x 2 x 8 (bots x low, hi x labels)\n",
    "    err = []\n",
    "    for col in errLow:\n",
    "        err.append([errLow[col].values, errHi[col].values])\n",
    "\n",
    "    df0 = df0.unstack(level=-1)\n",
    "    fig, ax = plt.subplots()\n",
    "\n",
    "    groups = []\n",
    "    for i in df0.columns:\n",
    "        if i[1] not in groups:\n",
    "            groups.append(i[1])\n",
    "\n",
    "    (df0['win']+df0['tie']+df0['lose']).plot(kind='bar', color=[graphing_bot_colors[i] for i in groups], alpha=0.2, rot=0, ax=ax)\n",
    "    (df0['win']+df0['tie']).plot(kind='bar', color=[graphing_bot_colors[i] for i in groups], alpha=0.4, rot=0, ax=ax)\n",
    "    df0['win'].plot(kind='bar', color=[graphing_bot_colors[i] for i in groups], rot=0, ax=ax, yerr=err)\n",
    "\n",
    "    h, l = ax.get_legend_handles_labels()\n",
    "    markers = {}\n",
    "    for h, l, (wtl, bot) in zip(h, l, df0.columns):\n",
    "        markers.setdefault(bot, []).append((h,l))\n",
    "    wtl_dummies = [plt.plot([],marker=\"\", ls=\"\")[0]]*4\n",
    "    bot_dummies = [plt.plot([],marker=\"\", ls=\"\")[0]]*4\n",
    "    handles = wtl_dummies\n",
    "    labels = [\"\", \"Lose:\", \"Tie:\", \"Win:\"]\n",
    "    for i, (bot, symbols) in enumerate(markers.items()):\n",
    "        handles.append(bot_dummies[i])\n",
    "        labels.append(bot_transformer[bot])\n",
    "        handles.extend([s[0] for s in symbols])\n",
    "        labels.extend([\"\" for s in symbols])\n",
    "    leg = plt.legend(handles, labels, ncol=5, loc='upper right', bbox_to_anchor=(0.67, -0.35), labelspacing=0.25)\n",
    "    for i, vpack in enumerate(leg._legend_handle_box.get_children()):\n",
    "        if i == 0: # row titles\n",
    "            for hpack in vpack.get_children():\n",
    "                hpack.get_children()[0].set_width(0)\n",
    "        else:\n",
    "            for j, hpack in enumerate(vpack.get_children()):\n",
    "                if j > 0: # bot win/tie/lose markers\n",
    "                    hpack.get_children()[0].get_children()[0].set_width(50)\n",
    "                else: # column titles\n",
    "                    hpack.get_children()[0].set_width(0)\n",
    "    ax.set_title(title)\n",
    "    ax.set_ylabel('Proportion')\n",
    "    ax.set_xlabel('Label')\n",
    "    ax.set_xticklabels([dimensions_transformer[d] for d in df0.index])\n",
    "\n",
    "    plt.tight_layout()\n",
    "    plt.show()\n",
    "    return df0"
   ],
   "metadata": {
    "collapsed": false,
    "pycharm": {
     "name": "#%%\n"
    }
   }
  },
  {
   "cell_type": "code",
   "execution_count": 337,
   "outputs": [
    {
     "data": {
      "text/plain": "<Figure size 1080x360 with 1 Axes>",
      "image/png": "[encoded data removed]"
     },
     "metadata": {
      "needs_background": "light"
     },
     "output_type": "display_data"
    }
   ],
   "source": [
    "df = plot_comparative(toplot, 'Comparative Evaluation Results', 'win', (15,5))"
   ],
   "metadata": {
    "collapsed": false,
    "pycharm": {
     "name": "#%%\n"
    }
   }
  },
  {
   "cell_type": "markdown",
   "source": [
    "### Behaviors"
   ],
   "metadata": {
    "collapsed": false,
    "pycharm": {
     "name": "#%% md\n"
    }
   }
  },
  {
   "cell_type": "code",
   "execution_count": 338,
   "outputs": [],
   "source": [
    "def evaluate_behavior_rates(annotations, load=None, reload=None):\n",
    "    if load:\n",
    "        return pd.read_csv(load)\n",
    "    single_annotated = get_singly_annotated(annotations)\n",
    "    behavior_annotations = single_annotated.xs(category.behavior, level=sym.category)\n",
    "    label_groups = behavior_annotations.groupby(level=[sym.bot, sym.label])\n",
    "    means = label_groups.apply(prop_and_ci)\n",
    "    if reload:\n",
    "        means.to_csv(reload)\n",
    "    return means"
   ],
   "metadata": {
    "collapsed": false,
    "pycharm": {
     "name": "#%%\n"
    }
   }
  },
  {
   "cell_type": "code",
   "execution_count": 339,
   "outputs": [
    {
     "data": {
      "text/plain": "                 bot                  label  proportion  CI low  CI high     n\n51    rerank_blender             empathetic       0.433   0.408    0.459  1500\n52    rerank_blender              follow up       0.425   0.400    0.450  1500\n59    rerank_blender        preference info       0.307   0.285    0.331  1500\n62    rerank_blender           topic switch       0.260   0.238    0.283  1500\n57    rerank_blender              life info       0.249   0.227    0.271  1500\n..               ...                    ...         ...     ...      ...   ...\n5   bart_fid_rag_bcb                 ignore       0.111   0.096    0.128  1512\n10  bart_fid_rag_bcb  partner contradiction       0.069   0.058    0.083  1512\n12  bart_fid_rag_bcb              redundant       0.051   0.041    0.063  1512\n15  bart_fid_rag_bcb        uninterpretable       0.012   0.008    0.019  1512\n0   bart_fid_rag_bcb             antisocial       0.002   0.001    0.006  1512\n\n[64 rows x 6 columns]",
      "text/html": "<div>\n<style scoped>\n    .dataframe tbody tr th:only-of-type {\n        vertical-align: middle;\n    }\n\n    .dataframe tbody tr th {\n        vertical-align: top;\n    }\n\n    .dataframe thead th {\n        text-align: right;\n    }\n</style>\n<table border=\"1\" class=\"dataframe\">\n  <thead>\n    <tr style=\"text-align: right;\">\n      <th></th>\n      <th>bot</th>\n      <th>label</th>\n      <th>proportion</th>\n      <th>CI low</th>\n      <th>CI high</th>\n      <th>n</th>\n    </tr>\n  </thead>\n  <tbody>\n    <tr>\n      <th>51</th>\n      <td>rerank_blender</td>\n      <td>empathetic</td>\n      <td>0.433</td>\n      <td>0.408</td>\n      <td>0.459</td>\n      <td>1500</td>\n    </tr>\n    <tr>\n      <th>52</th>\n      <td>rerank_blender</td>\n      <td>follow up</td>\n      <td>0.425</td>\n      <td>0.400</td>\n      <td>0.450</td>\n      <td>1500</td>\n    </tr>\n    <tr>\n      <th>59</th>\n      <td>rerank_blender</td>\n      <td>preference info</td>\n      <td>0.307</td>\n      <td>0.285</td>\n      <td>0.331</td>\n      <td>1500</td>\n    </tr>\n    <tr>\n      <th>62</th>\n      <td>rerank_blender</td>\n      <td>topic switch</td>\n      <td>0.260</td>\n      <td>0.238</td>\n      <td>0.283</td>\n      <td>1500</td>\n    </tr>\n    <tr>\n      <th>57</th>\n      <td>rerank_blender</td>\n      <td>life info</td>\n      <td>0.249</td>\n      <td>0.227</td>\n      <td>0.271</td>\n      <td>1500</td>\n    </tr>\n    <tr>\n      <th>...</th>\n      <td>...</td>\n      <td>...</td>\n      <td>...</td>\n      <td>...</td>\n      <td>...</td>\n      <td>...</td>\n    </tr>\n    <tr>\n      <th>5</th>\n      <td>bart_fid_rag_bcb</td>\n      <td>ignore</td>\n      <td>0.111</td>\n      <td>0.096</td>\n      <td>0.128</td>\n      <td>1512</td>\n    </tr>\n    <tr>\n      <th>10</th>\n      <td>bart_fid_rag_bcb</td>\n      <td>partner contradiction</td>\n      <td>0.069</td>\n      <td>0.058</td>\n      <td>0.083</td>\n      <td>1512</td>\n    </tr>\n    <tr>\n      <th>12</th>\n      <td>bart_fid_rag_bcb</td>\n      <td>redundant</td>\n      <td>0.051</td>\n      <td>0.041</td>\n      <td>0.063</td>\n      <td>1512</td>\n    </tr>\n    <tr>\n      <th>15</th>\n      <td>bart_fid_rag_bcb</td>\n      <td>uninterpretable</td>\n      <td>0.012</td>\n      <td>0.008</td>\n      <td>0.019</td>\n      <td>1512</td>\n    </tr>\n    <tr>\n      <th>0</th>\n      <td>bart_fid_rag_bcb</td>\n      <td>antisocial</td>\n      <td>0.002</td>\n      <td>0.001</td>\n      <td>0.006</td>\n      <td>1512</td>\n    </tr>\n  </tbody>\n</table>\n<p>64 rows × 6 columns</p>\n</div>"
     },
     "execution_count": 339,
     "metadata": {},
     "output_type": "execute_result"
    }
   ],
   "source": [
    "surge_behavior_rates = evaluate_behavior_rates(\n",
    "    surge_annotations,\n",
    "    load='results/surge_behavior_rates'\n",
    ")\n",
    "sbr = prettify(surge_behavior_rates,  float_prec=3, col_types={\"n\": int}, sort_by=[\"bot\", \"proportion\"], to_csv=\"results/paper/surge_behavior_rates\", index=False)\n",
    "sbr"
   ],
   "metadata": {
    "collapsed": false,
    "pycharm": {
     "name": "#%%\n"
    }
   }
  },
  {
   "cell_type": "code",
   "execution_count": 340,
   "outputs": [
    {
     "data": {
      "text/plain": "<Figure size 1440x360 with 1 Axes>",
      "image/png": "[encoded data removed]"
     },
     "metadata": {
      "needs_background": "light"
     },
     "output_type": "display_data"
    },
    {
     "data": {
      "text/plain": "<Figure size 1440x360 with 1 Axes>",
      "image/png": "[encoded data removed]"
     },
     "metadata": {
      "needs_background": "light"
     },
     "output_type": "display_data"
    }
   ],
   "source": [
    "behaviors_transformer = {\n",
    "    'correct fact': 'CF',\n",
    "    'empathetic': 'EM',\n",
    "    'follow up': 'FU',\n",
    "    'life info': 'LI',\n",
    "    'preference info': 'PI',\n",
    "    'uninterpretable': 'UI',\n",
    "    'antisocial': 'AS',\n",
    "    'commonsense contradiction': 'CC',\n",
    "    'ignore': 'IG',\n",
    "    'incorrect fact': '~CF',\n",
    "    'irrelevant': 'IR',\n",
    "    'lack of empathy': '~EM',\n",
    "    'partner contradiction': 'PC',\n",
    "    'redundant': 'RD',\n",
    "    'self contradiction': 'SC',\n",
    "    'topic switch': 'TS'\n",
    "}\n",
    "\n",
    "sbr = sbr.reset_index()\n",
    "to_maximize = {'correct fact', 'empathetic', 'follow up', 'life info', 'preference info'}\n",
    "maximize = sbr[sbr['label'].isin(to_maximize)]\n",
    "grouped_barplot(maximize, title=\"Rates of Desirable Behaviors\", ylabel=\"Behavior\", xlabel='Label', ylim=(0,0.7), value_col=\"proportion\", rot=0, fig_size=(20,5))\n",
    "\n",
    "to_minimize = {'uninterpretable', 'antisocial', 'commonsense contradiction', 'ignore', 'incorrect fact', 'irrelevant', 'lack of empathy', 'partner contradiction', 'redundant', 'self contradiction', 'topic switch'}\n",
    "minimize = sbr[sbr['label'].isin(to_minimize)]\n",
    "grouped_barplot(minimize, title=\"Rates of Undesirable Behaviors\", ylabel=\"Behavior\", xlabel='Label', ylim=(0,0.35), value_col=\"proportion\", rot=0, fig_size=(20,5))"
   ],
   "metadata": {
    "collapsed": false,
    "pycharm": {
     "name": "#%%\n"
    }
   }
  },
  {
   "cell_type": "markdown",
   "source": [
    "# 8 Evaluation Metric Assessment"
   ],
   "metadata": {
    "collapsed": false,
    "pycharm": {
     "name": "#%% md\n"
    }
   }
  },
  {
   "cell_type": "markdown",
   "source": [
    "### Metric Sensitivity"
   ],
   "metadata": {
    "collapsed": false,
    "pycharm": {
     "name": "#%% md\n"
    }
   }
  },
  {
   "cell_type": "code",
   "execution_count": 341,
   "outputs": [
    {
     "data": {
      "text/plain": "                    emora                                      blender2_3B  \\\n              blender2_3B bart_fid_rag_bcb rerank_blender bart_fid_rag_bcb   \nlabel                                                                        \nconsistent   2.324939e-01     1.086798e-04   1.244491e-02     8.261288e-03   \nemotional    3.310844e-11     1.442496e-01   4.694923e-08     1.384936e-06   \nengaging     1.257653e-01     7.600987e-09   5.587271e-02     1.333384e-12   \ngrammatical  9.479605e-05     2.256486e-16   1.120927e-62     4.951771e-29   \ninformative  2.654901e-09     6.078143e-50   3.316559e-37     2.407452e-23   \nproactive    3.148701e-04     1.073099e-75   1.818061e-02     9.246392e-55   \nquality      7.182307e-10     9.194573e-05   4.421456e-07     4.958317e-23   \nrelevant     9.072922e-16     1.045477e-01   3.390145e-02     7.029505e-10   \n\n                           bart_fid_rag_bcb  \n            rerank_blender   rerank_blender  \nlabel                                        \nconsistent    2.111020e-01     1.448190e-01  \nemotional     2.770961e-01     1.825506e-04  \nengaging      8.349123e-04     1.492934e-04  \ngrammatical   8.552394e-82     8.309011e-17  \ninformative   1.877603e-14     3.009638e-02  \nproactive     2.740463e-01     1.645665e-56  \nquality       7.869890e-30     3.652096e-01  \nrelevant      1.997931e-24     2.263328e-04  ",
      "text/html": "<div>\n<style scoped>\n    .dataframe tbody tr th:only-of-type {\n        vertical-align: middle;\n    }\n\n    .dataframe tbody tr th {\n        vertical-align: top;\n    }\n\n    .dataframe thead tr th {\n        text-align: left;\n    }\n\n    .dataframe thead tr:last-of-type th {\n        text-align: right;\n    }\n</style>\n<table border=\"1\" class=\"dataframe\">\n  <thead>\n    <tr>\n      <th></th>\n      <th colspan=\"3\" halign=\"left\">emora</th>\n      <th colspan=\"2\" halign=\"left\">blender2_3B</th>\n      <th>bart_fid_rag_bcb</th>\n    </tr>\n    <tr>\n      <th></th>\n      <th>blender2_3B</th>\n      <th>bart_fid_rag_bcb</th>\n      <th>rerank_blender</th>\n      <th>bart_fid_rag_bcb</th>\n      <th>rerank_blender</th>\n      <th>rerank_blender</th>\n    </tr>\n    <tr>\n      <th>label</th>\n      <th></th>\n      <th></th>\n      <th></th>\n      <th></th>\n      <th></th>\n      <th></th>\n    </tr>\n  </thead>\n  <tbody>\n    <tr>\n      <th>consistent</th>\n      <td>2.324939e-01</td>\n      <td>1.086798e-04</td>\n      <td>1.244491e-02</td>\n      <td>8.261288e-03</td>\n      <td>2.111020e-01</td>\n      <td>1.448190e-01</td>\n    </tr>\n    <tr>\n      <th>emotional</th>\n      <td>3.310844e-11</td>\n      <td>1.442496e-01</td>\n      <td>4.694923e-08</td>\n      <td>1.384936e-06</td>\n      <td>2.770961e-01</td>\n      <td>1.825506e-04</td>\n    </tr>\n    <tr>\n      <th>engaging</th>\n      <td>1.257653e-01</td>\n      <td>7.600987e-09</td>\n      <td>5.587271e-02</td>\n      <td>1.333384e-12</td>\n      <td>8.349123e-04</td>\n      <td>1.492934e-04</td>\n    </tr>\n    <tr>\n      <th>grammatical</th>\n      <td>9.479605e-05</td>\n      <td>2.256486e-16</td>\n      <td>1.120927e-62</td>\n      <td>4.951771e-29</td>\n      <td>8.552394e-82</td>\n      <td>8.309011e-17</td>\n    </tr>\n    <tr>\n      <th>informative</th>\n      <td>2.654901e-09</td>\n      <td>6.078143e-50</td>\n      <td>3.316559e-37</td>\n      <td>2.407452e-23</td>\n      <td>1.877603e-14</td>\n      <td>3.009638e-02</td>\n    </tr>\n    <tr>\n      <th>proactive</th>\n      <td>3.148701e-04</td>\n      <td>1.073099e-75</td>\n      <td>1.818061e-02</td>\n      <td>9.246392e-55</td>\n      <td>2.740463e-01</td>\n      <td>1.645665e-56</td>\n    </tr>\n    <tr>\n      <th>quality</th>\n      <td>7.182307e-10</td>\n      <td>9.194573e-05</td>\n      <td>4.421456e-07</td>\n      <td>4.958317e-23</td>\n      <td>7.869890e-30</td>\n      <td>3.652096e-01</td>\n    </tr>\n    <tr>\n      <th>relevant</th>\n      <td>9.072922e-16</td>\n      <td>1.045477e-01</td>\n      <td>3.390145e-02</td>\n      <td>7.029505e-10</td>\n      <td>1.997931e-24</td>\n      <td>2.263328e-04</td>\n    </tr>\n  </tbody>\n</table>\n</div>"
     },
     "execution_count": 341,
     "metadata": {},
     "output_type": "execute_result"
    }
   ],
   "source": [
    "from itertools import combinations\n",
    "from scipy.stats import ttest_ind\n",
    "\n",
    "def t_tests(df: pd.DataFrame):\n",
    "    \"\"\"\n",
    "    :param df: (bot, data point) x 1 -> score\n",
    "    :return: p values of test on each bot pair (pd.Series)\n",
    "    \"\"\"\n",
    "    bots = set(df.index.get_level_values(0))\n",
    "    bot_pairs = list(combinations(bots, 2))\n",
    "    result = {}\n",
    "    for ba, bb in bot_pairs:\n",
    "        a = df.xs(ba).to_numpy().squeeze()\n",
    "        b = df.xs(bb).to_numpy().squeeze()\n",
    "        t, p = ttest_ind(a, b)\n",
    "        result[(ba, bb)] = p\n",
    "    result_series = pd.Series(result.values(), result)\n",
    "    return result_series\n",
    "\n",
    "get_singly_annotated(surge_annotations).xs(\n",
    "    category.likert_turn,\n",
    "    level=sym.category\n",
    ").groupby(\n",
    "    sym.label\n",
    ").apply(\n",
    "    t_tests\n",
    ")"
   ],
   "metadata": {
    "collapsed": false,
    "pycharm": {
     "name": "#%%\n"
    }
   }
  },
  {
   "cell_type": "markdown",
   "source": [
    "### Predictive Validity"
   ],
   "metadata": {
    "collapsed": false,
    "pycharm": {
     "name": "#%% md\n"
    }
   }
  },
  {
   "cell_type": "code",
   "execution_count": 342,
   "outputs": [
    {
     "data": {
      "text/plain": "                                                score  \\\ncategory        label                                   \nlikert turn     consistent                   0.445535   \n                emotional                    0.408422   \n                engaging                     0.365208   \n                grammatical                  0.008647   \n                informative                 -0.092100   \n                proactive                    0.404827   \n                quality                      0.435664   \n                relevant                     0.400816   \nbehavior        antisocial                  -0.238332   \n                commonsense contradiction   -4.169573   \n                correct fact                -0.196133   \n                empathetic                   1.758470   \n                follow up                    0.702163   \n                ignore                      -3.923478   \n                incorrect fact              -1.318389   \n                irrelevant                  -3.209895   \n                lack of empathy             -3.418165   \n                life info                    0.735781   \n                partner contradiction       -6.938169   \n                preference info              0.417276   \n                redundant                   -5.272750   \n                self contradiction          -3.396800   \n                topic switch                -0.376881   \n                uninterpretable             -5.835742   \nlikert dialogue consistent                   0.894894   \n                emotional                    1.004665   \n                engaging                     1.476588   \n                grammatical                  0.609139   \n                informative                  1.011987   \n                proactive                    1.105211   \n                quality                    118.577127   \n                relevant                     1.223033   \n\n                                           McFadden's pseudo-R-squared  \ncategory        label                                                   \nlikert turn     consistent                                    0.008620  \n                emotional                                     0.008024  \n                engaging                                      0.008869  \n                grammatical                                   0.000003  \n                informative                                   0.000462  \n                proactive                                     0.010316  \n                quality                                       0.008247  \n                relevant                                      0.010120  \nbehavior        antisocial                                    0.000002  \n                commonsense contradiction                     0.029706  \n                correct fact                                  0.000140  \n                empathetic                                    0.014779  \n                follow up                                     0.002820  \n                ignore                                        0.016215  \n                incorrect fact                                0.003545  \n                irrelevant                                    0.017496  \n                lack of empathy                               0.020080  \n                life info                                     0.001481  \n                partner contradiction                         0.035305  \n                preference info                               0.000747  \n                redundant                                     0.015479  \n                self contradiction                            0.007829  \n                topic switch                                  0.000269  \n                uninterpretable                               0.003524  \nlikert dialogue consistent                                    0.121964  \n                emotional                                     0.106875  \n                engaging                                      0.176400  \n                grammatical                                   0.035331  \n                informative                                   0.081246  \n                proactive                                     0.128483  \n                quality                                       1.000000  \n                relevant                                      0.135113  ",
      "text/html": "<div>\n<style scoped>\n    .dataframe tbody tr th:only-of-type {\n        vertical-align: middle;\n    }\n\n    .dataframe tbody tr th {\n        vertical-align: top;\n    }\n\n    .dataframe thead th {\n        text-align: right;\n    }\n</style>\n<table border=\"1\" class=\"dataframe\">\n  <thead>\n    <tr style=\"text-align: right;\">\n      <th></th>\n      <th></th>\n      <th>score</th>\n      <th>McFadden's pseudo-R-squared</th>\n    </tr>\n    <tr>\n      <th>category</th>\n      <th>label</th>\n      <th></th>\n      <th></th>\n    </tr>\n  </thead>\n  <tbody>\n    <tr>\n      <th rowspan=\"8\" valign=\"top\">likert turn</th>\n      <th>consistent</th>\n      <td>0.445535</td>\n      <td>0.008620</td>\n    </tr>\n    <tr>\n      <th>emotional</th>\n      <td>0.408422</td>\n      <td>0.008024</td>\n    </tr>\n    <tr>\n      <th>engaging</th>\n      <td>0.365208</td>\n      <td>0.008869</td>\n    </tr>\n    <tr>\n      <th>grammatical</th>\n      <td>0.008647</td>\n      <td>0.000003</td>\n    </tr>\n    <tr>\n      <th>informative</th>\n      <td>-0.092100</td>\n      <td>0.000462</td>\n    </tr>\n    <tr>\n      <th>proactive</th>\n      <td>0.404827</td>\n      <td>0.010316</td>\n    </tr>\n    <tr>\n      <th>quality</th>\n      <td>0.435664</td>\n      <td>0.008247</td>\n    </tr>\n    <tr>\n      <th>relevant</th>\n      <td>0.400816</td>\n      <td>0.010120</td>\n    </tr>\n    <tr>\n      <th rowspan=\"16\" valign=\"top\">behavior</th>\n      <th>antisocial</th>\n      <td>-0.238332</td>\n      <td>0.000002</td>\n    </tr>\n    <tr>\n      <th>commonsense contradiction</th>\n      <td>-4.169573</td>\n      <td>0.029706</td>\n    </tr>\n    <tr>\n      <th>correct fact</th>\n      <td>-0.196133</td>\n      <td>0.000140</td>\n    </tr>\n    <tr>\n      <th>empathetic</th>\n      <td>1.758470</td>\n      <td>0.014779</td>\n    </tr>\n    <tr>\n      <th>follow up</th>\n      <td>0.702163</td>\n      <td>0.002820</td>\n    </tr>\n    <tr>\n      <th>ignore</th>\n      <td>-3.923478</td>\n      <td>0.016215</td>\n    </tr>\n    <tr>\n      <th>incorrect fact</th>\n      <td>-1.318389</td>\n      <td>0.003545</td>\n    </tr>\n    <tr>\n      <th>irrelevant</th>\n      <td>-3.209895</td>\n      <td>0.017496</td>\n    </tr>\n    <tr>\n      <th>lack of empathy</th>\n      <td>-3.418165</td>\n      <td>0.020080</td>\n    </tr>\n    <tr>\n      <th>life info</th>\n      <td>0.735781</td>\n      <td>0.001481</td>\n    </tr>\n    <tr>\n      <th>partner contradiction</th>\n      <td>-6.938169</td>\n      <td>0.035305</td>\n    </tr>\n    <tr>\n      <th>preference info</th>\n      <td>0.417276</td>\n      <td>0.000747</td>\n    </tr>\n    <tr>\n      <th>redundant</th>\n      <td>-5.272750</td>\n      <td>0.015479</td>\n    </tr>\n    <tr>\n      <th>self contradiction</th>\n      <td>-3.396800</td>\n      <td>0.007829</td>\n    </tr>\n    <tr>\n      <th>topic switch</th>\n      <td>-0.376881</td>\n      <td>0.000269</td>\n    </tr>\n    <tr>\n      <th>uninterpretable</th>\n      <td>-5.835742</td>\n      <td>0.003524</td>\n    </tr>\n    <tr>\n      <th rowspan=\"8\" valign=\"top\">likert dialogue</th>\n      <th>consistent</th>\n      <td>0.894894</td>\n      <td>0.121964</td>\n    </tr>\n    <tr>\n      <th>emotional</th>\n      <td>1.004665</td>\n      <td>0.106875</td>\n    </tr>\n    <tr>\n      <th>engaging</th>\n      <td>1.476588</td>\n      <td>0.176400</td>\n    </tr>\n    <tr>\n      <th>grammatical</th>\n      <td>0.609139</td>\n      <td>0.035331</td>\n    </tr>\n    <tr>\n      <th>informative</th>\n      <td>1.011987</td>\n      <td>0.081246</td>\n    </tr>\n    <tr>\n      <th>proactive</th>\n      <td>1.105211</td>\n      <td>0.128483</td>\n    </tr>\n    <tr>\n      <th>quality</th>\n      <td>118.577127</td>\n      <td>1.000000</td>\n    </tr>\n    <tr>\n      <th>relevant</th>\n      <td>1.223033</td>\n      <td>0.135113</td>\n    </tr>\n  </tbody>\n</table>\n</div>"
     },
     "execution_count": 342,
     "metadata": {},
     "output_type": "execute_result"
    }
   ],
   "source": [
    "from statsmodels.miscmodels.ordinal_model import OrderedModel\n",
    "\n",
    "def regressions(df, quality_column_name=None):\n",
    "    \"\"\"\n",
    "    :param df: dialogue x (*features, quality) -> value\n",
    "    :return: *(coef, low, high), mcfadden r^2\n",
    "    \"\"\"\n",
    "    if not quality_column_name:\n",
    "        quality_column_name = df.columns[-1]\n",
    "    qualities = df[quality_column_name]\n",
    "    features = [f for f in df.columns if f != quality_column_name]\n",
    "    model = OrderedModel(qualities, df[features], distr='logit')\n",
    "    results = model.fit()\n",
    "    coefs = {f: results.params[f] for f in features}\n",
    "    prsqrd = results.prsquared\n",
    "    result = {**coefs, stat.mcfad_r2: prsqrd}\n",
    "    return pd.Series(result.values(), result)\n",
    "\n",
    "def dialogue_metrics(ev):\n",
    "    df: pd.DataFrame = ev.annotation_dataframe()\n",
    "    df = get_singly_annotated(df, seed=123)\n",
    "    reindexed = df.reset_index()\n",
    "    items = reindexed[sym.item]\n",
    "    dialogues = [e[0] if isinstance(e, tuple) else e for e in items]\n",
    "    reindexed['dialogue'] = dialogues\n",
    "    reindexed.set_index(\n",
    "        [sym.bot, sym.category, sym.label, 'dialogue', sym.item],\n",
    "        inplace=True, verify_integrity=True\n",
    "    )\n",
    "    ld = reindexed.xs(category.likert_dialogue, level=sym.category)\n",
    "    ld = ld.droplevel(sym.bot).droplevel(sym.item)\n",
    "    ld.columns = ['score']\n",
    "    ldq = ld.xs(scale.quality, level=sym.label)\n",
    "    ldq.columns = ['quality']\n",
    "\n",
    "    lt = reindexed.xs(category.likert_turn, level=sym.category)\n",
    "    lt = lt.groupby([sym.label, 'dialogue']).mean()\n",
    "    lt.columns = ['score']\n",
    "    ltq = lt.xs(scale.quality, level=sym.label)\n",
    "    ltq.columns = ['quality']\n",
    "\n",
    "    be = reindexed.xs(category.behavior, level=sym.category)\n",
    "    be = be.groupby([sym.label, 'dialogue']).mean()\n",
    "    be.columns = ['score']\n",
    "\n",
    "    ds = pd.concat(\n",
    "        [lt, be, ld],\n",
    "        keys=[category.likert_turn, category.behavior, category.likert_dialogue],\n",
    "        names=[sym.category, sym.label, 'dialogue']\n",
    "    )\n",
    "    likert_dialogue_quality_features = ds.join(ldq, on='dialogue')\n",
    "    likert_turn_quality_features = ds.join(ltq, on='dialogue')\n",
    "    return likert_dialogue_quality_features, likert_turn_quality_features\n",
    "\n",
    "@to_file\n",
    "def dialogue_quality_regressions(ev):\n",
    "    ldq, ltq = dialogue_metrics(ev)\n",
    "    groups = ldq.groupby(\n",
    "        [sym.category, sym.label]\n",
    "    )\n",
    "    result = groups.apply(regressions)\n",
    "    return result\n",
    "\n",
    "\"\"\"\n",
    "\n",
    "\"\"\"\n",
    "\n",
    "dialogue_quality_regressions(\n",
    "    data.surge_evaluation,\n",
    "    load='results/dialogue_quality_regressions'\n",
    ")"
   ],
   "metadata": {
    "collapsed": false,
    "pycharm": {
     "name": "#%%\n"
    }
   }
  },
  {
   "cell_type": "markdown",
   "source": [
    "### Agreement Between Static and Interactive Evaluators"
   ],
   "metadata": {
    "collapsed": false,
    "pycharm": {
     "name": "#%% md\n"
    }
   }
  }
 ],
 "metadata": {
  "kernelspec": {
   "display_name": "Python 3",
   "language": "python",
   "name": "python3"
  },
  "language_info": {
   "codemirror_mode": {
    "name": "ipython",
    "version": 2
   },
   "file_extension": ".py",
   "mimetype": "text/x-python",
   "name": "python",
   "nbconvert_exporter": "python",
   "pygments_lexer": "ipython2",
   "version": "2.7.6"
  }
 },
 "nbformat": 4,
 "nbformat_minor": 0
}