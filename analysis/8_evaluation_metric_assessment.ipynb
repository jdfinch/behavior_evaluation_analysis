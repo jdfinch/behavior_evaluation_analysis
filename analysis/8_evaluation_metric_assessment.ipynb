{
 "cells": [
  {
   "cell_type": "code",
   "execution_count": null,
   "outputs": [],
   "source": [
    "import pandas as pd\n",
    "from analysis import *\n",
    "from statsmodels.stats.proportion import proportions_ztest\n",
    "from scipy.stats import binom_test"
   ],
   "metadata": {
    "collapsed": false
   }
  },
  {
   "cell_type": "code",
   "execution_count": null,
   "outputs": [],
   "source": [
    "surge_annotations = data.surge_evaluation.annotation_dataframe()\n",
    "surge_annotations_comparative = data.surge_evaluation.comparative_annotation_dataframe()\n",
    "\n",
    "surge_annotations"
   ],
   "metadata": {
    "collapsed": false
   }
  },
  {
   "cell_type": "markdown",
   "source": [
    "# 8 Comprehensive Analysis"
   ],
   "metadata": {
    "collapsed": false
   }
  },
  {
   "cell_type": "markdown",
   "source": [
    "### Metric Sensitivity"
   ],
   "metadata": {
    "collapsed": false
   }
  },
  {
   "cell_type": "code",
   "execution_count": null,
   "outputs": [],
   "source": [
    "from itertools import combinations\n",
    "from scipy.stats import ttest_ind\n",
    "\n",
    "def p_vals(df: pd.DataFrame, test='t'):\n",
    "    \"\"\"\n",
    "    :param df: (bot, data point) x 1 -> score\n",
    "    :param test: statistical test function (t for t test, p for prop test, s for sign test)\n",
    "    :return: p values of test on each bot pair (pd.Series)\n",
    "    \"\"\"\n",
    "    bots = set(df.index.get_level_values(0))\n",
    "    bot_pairs = list(combinations(bots, 2))\n",
    "    result = {}\n",
    "    for ba, bb in bot_pairs:\n",
    "        a = df.xs(ba).to_numpy().squeeze()\n",
    "        b = df.xs(bb).to_numpy().squeeze()\n",
    "        if test == 't':\n",
    "            t, p = ttest_ind(a, b, equal_var=False)\n",
    "        elif test == 'p':\n",
    "            z, p = proportions_ztest(count=[\n",
    "                sum(a), sum(b)\n",
    "            ], nobs=[\n",
    "                len(a), len(b)\n",
    "            ])\n",
    "        elif test == 's':\n",
    "            # sign test\n",
    "            a = a[a==1]\n",
    "            b = b[b==1]\n",
    "            p = binom_test(sum(a), sum(a)+sum(b), p=0.5)\n",
    "        else:\n",
    "            raise ValueError('invalid arg for param \"test\"')\n",
    "        result[(ba, bb)] = p\n",
    "    result_series = pd.Series(result.values(), result)\n",
    "    return result_series\n",
    "\n",
    "@to_file\n",
    "def t_test_p_values_comparing_bots(annotations):\n",
    "    annotations = get_singly_annotated(annotations)\n",
    "    prop_annotations = annotations.xs(\n",
    "        category.behavior, level=sym.category, drop_level=False\n",
    "    )\n",
    "    comp_annotations = annotations.xs(\n",
    "        category.comparative, level=sym.category, drop_level=False\n",
    "    )\n",
    "    mean_annotations = annotations.drop(\n",
    "        index=category.behavior, level=sym.category\n",
    "    ).drop(\n",
    "        index=category.comparative, level=sym.category\n",
    "    )\n",
    "    mean_ps = mean_annotations.groupby(\n",
    "        [sym.category, sym.label]\n",
    "    ).apply(p_vals)\n",
    "    prop_ps = prop_annotations.groupby(\n",
    "        [sym.category, sym.label]\n",
    "    ).apply(lambda x: p_vals(x, test='p'))\n",
    "    comp_ps = comp_annotations.groupby(\n",
    "        [sym.category, sym.label]\n",
    "    ).apply(lambda x: p_vals(x, test='s'))\n",
    "    result = pd.concat([prop_ps, mean_ps, comp_ps], axis=0)\n",
    "    return result\n",
    "\n",
    "t_test_p_values_comparing_bots(surge_annotations, load='results/t_test_p_values_comparing_bots')"
   ],
   "metadata": {
    "collapsed": false
   }
  },
  {
   "cell_type": "markdown",
   "source": [
    "### Predictive Validity"
   ],
   "metadata": {
    "collapsed": false
   }
  },
  {
   "cell_type": "code",
   "execution_count": null,
   "outputs": [],
   "source": [
    "from statsmodels.miscmodels.ordinal_model import OrderedModel\n",
    "from statsmodels.regression.linear_model import OLS as LinearModel\n",
    "from statsmodels.tools.tools import add_constant\n",
    "\n",
    "def dialogue_metrics(ev):\n",
    "    df: pd.DataFrame = ev.annotation_dataframe()\n",
    "    df = get_singly_annotated(df, seed=123)\n",
    "    reindexed = df.reset_index()\n",
    "    items = reindexed[sym.item]\n",
    "    dialogues = [e[0] if isinstance(e, tuple) else e for e in items]\n",
    "    reindexed['dialogue'] = dialogues\n",
    "    reindexed.set_index(\n",
    "        [sym.bot, sym.category, sym.label, 'dialogue', sym.item],\n",
    "        inplace=True, verify_integrity=True\n",
    "    )\n",
    "    ld = reindexed.xs(category.likert_dialogue, level=sym.category)\n",
    "    ld = ld.droplevel(sym.bot).droplevel(sym.item)\n",
    "    ld.columns = ['score']\n",
    "    ldq = ld.xs(scale.quality, level=sym.label)\n",
    "    ldq.columns = ['quality']\n",
    "\n",
    "    lt = reindexed.xs(category.likert_turn, level=sym.category)\n",
    "    lt = lt.groupby([sym.label, 'dialogue']).mean()\n",
    "    lt.columns = ['score']\n",
    "    ltq = lt.xs(scale.quality, level=sym.label)\n",
    "    ltq.columns = ['quality']\n",
    "\n",
    "    be = reindexed.xs(category.behavior, level=sym.category)\n",
    "    be = be.groupby([sym.label, 'dialogue']).mean()\n",
    "    be.columns = ['score']\n",
    "\n",
    "    ds = pd.concat(\n",
    "        [lt, be, ld],\n",
    "        keys=[category.likert_turn, category.behavior, category.likert_dialogue],\n",
    "        names=[sym.category, sym.label, 'dialogue']\n",
    "    )\n",
    "    likert_dialogue_quality_features = ds.join(ldq, on='dialogue')\n",
    "    likert_turn_quality_features = ds.join(ltq, on='dialogue')\n",
    "    return likert_dialogue_quality_features, likert_turn_quality_features\n",
    "\n",
    "\n",
    "def regressions(df, quality_column_name=None, model='linear'):\n",
    "    \"\"\"\n",
    "    :param df: dialogue x (*features, quality) -> value\n",
    "    :return: *(coef, low, high), mcfadden r^2\n",
    "    \"\"\"\n",
    "    if not quality_column_name:\n",
    "        quality_column_name = df.columns[-1]\n",
    "    qualities = df[quality_column_name]\n",
    "    features = [f for f in df.columns if f != quality_column_name]\n",
    "    if model == 'ordinal':\n",
    "        model = OrderedModel(qualities, df[features], distr='logit')\n",
    "        results = model.fit()\n",
    "        coefs = {f: results.params[f] for f in features}\n",
    "        prsqrd = results.prsquared\n",
    "        result = {stat.mcfad_r2: prsqrd, stat.p_of_llr_test: results.llr_pvalue}\n",
    "    elif model == 'linear':\n",
    "        x = add_constant(df[features])\n",
    "        y = qualities\n",
    "        model = LinearModel(y, x)\n",
    "        results = model.fit()\n",
    "        coefs = {f: results.params[f] for f in features}\n",
    "        rsquared = results.rsquared\n",
    "        result = {**coefs, stat.r2: rsquared, stat.p_of_f_test: results.f_pvalue}\n",
    "    else:\n",
    "        raise ValueError('Param \"model\" must be one of {\"linear\", \"ordinal\"}')\n",
    "    return pd.Series(result.values(), result)"
   ],
   "metadata": {
    "collapsed": false
   }
  },
  {
   "cell_type": "code",
   "execution_count": null,
   "outputs": [],
   "source": [
    "@to_file\n",
    "def dialogue_quality_regressions(ev):\n",
    "    ldq, ltq = dialogue_metrics(ev)\n",
    "    ldq_groups = ldq.groupby(\n",
    "        [sym.category, sym.label]\n",
    "    )\n",
    "    ltq_groups = ltq.groupby(\n",
    "        [sym.category, sym.label]\n",
    "    )\n",
    "    names = ['Predicted', 'Metric']\n",
    "    linear_result = ldq_groups.apply(lambda x: regressions(x, model='linear'))\n",
    "    linear_result.columns = pd.MultiIndex.from_arrays(\n",
    "        [['Likert Dialogue Quality']*3,\n",
    "        ['LR Coefficient', 'LR R-Squared', stat.p_of_f_test]],\n",
    "        names=names\n",
    "    )\n",
    "    ordinal_result = ldq_groups.apply(lambda x: regressions(x, model='ordinal'))\n",
    "    ordinal_result.columns = pd.MultiIndex.from_arrays(\n",
    "        [['Likert Dialogue Quality']*2,\n",
    "        ['OR Pseudo R-Squared', stat.p_of_llr_test]],\n",
    "        names=names\n",
    "    )\n",
    "    linear_turn_result = ltq_groups.apply(regressions)\n",
    "    linear_turn_result.columns = pd.MultiIndex.from_arrays(\n",
    "        [['Likert Turn Quality']*3,\n",
    "        ['LR Coefficient', 'LR R-Squared', stat.p_of_f_test]],\n",
    "        names=names\n",
    "    )\n",
    "    result = pd.concat((linear_turn_result, linear_result, ordinal_result), axis=1)\n",
    "    return result.round(5)\n",
    "\n",
    "regs = dialogue_quality_regressions(\n",
    "    data.surge_evaluation,\n",
    "    load='results/dialogue_quality_regressions'\n",
    ")\n",
    "regs"
   ],
   "metadata": {
    "collapsed": false
   }
  },
  {
   "cell_type": "code",
   "execution_count": null,
   "outputs": [],
   "source": [
    "regs = prettify(regs, to_csv=\"results/paper/predictive_validity.csv\")"
   ],
   "metadata": {
    "collapsed": false
   }
  },
  {
   "cell_type": "code",
   "execution_count": null,
   "outputs": [],
   "source": [
    "def drop_column_level_duplication(df: pd.DataFrame, columns, levels=None):\n",
    "    if levels is None:\n",
    "        levels = list(range(len(columns)))\n",
    "    level_columns = df.xs(columns, axis=1, level=levels)\n",
    "    unique = level_columns.iloc[:,0].to_frame()\n",
    "    unique.columns = [columns]\n",
    "    dropped = df.drop(columns=columns, level=levels)\n",
    "    result = pd.concat([dropped, unique], axis=1)\n",
    "    return result\n",
    "\n",
    "def multivariate_regression(df: pd.DataFrame, model='linear'):\n",
    "    def apply_regressions(df: pd.DataFrame):\n",
    "        unstacked = df.unstack([sym.category, sym.label])\n",
    "        unstacked = drop_column_level_duplication(unstacked, 'quality', 0)\n",
    "        results = regressions(unstacked, quality_column_name='quality', model=model)\n",
    "        return results\n",
    "    result = apply_regressions(df)\n",
    "    result.index = [\n",
    "        (idx[1] if isinstance(idx, tuple) else idx)\n",
    "        for idx in result.index.values\n",
    "    ]\n",
    "    return result.round(5)\n",
    "\n",
    "@to_file\n",
    "def incremental_regression(df: pd.DataFrame, categories, model='linear', exclude_quality=True):\n",
    "    r2_name = stat.r2 if model=='linear' else stat.mcfad_r2\n",
    "    p_name = stat.p_of_f_test if model=='linear' else stat.p_of_llr_test\n",
    "    results = []\n",
    "    features = []\n",
    "    feature_pool = {\n",
    "        x[:2] for x in df.index.values\n",
    "        if (not (exclude_quality and scale.quality in x))\n",
    "        and x[0] in categories\n",
    "    }\n",
    "    while feature_pool - set(features):\n",
    "        best = None\n",
    "        for candidate in feature_pool - set(features):\n",
    "            candidate_features = features + [candidate]\n",
    "            row_mask = [\n",
    "                x[:2] in candidate_features\n",
    "                and (not (exclude_quality and scale.quality in x))\n",
    "                and x[0] in categories\n",
    "                for x in df.index.values\n",
    "            ]\n",
    "            candidate_df = df.loc[row_mask, :]\n",
    "            candidate_results = multivariate_regression(candidate_df, model=model)\n",
    "\n",
    "            r2 = candidate_results[r2_name].item()\n",
    "            p = candidate_results[p_name]\n",
    "            if not best or best[1] < r2:\n",
    "                best = (candidate, r2, p)\n",
    "        features.append(best[0])\n",
    "        results.append(best)\n",
    "    result = {l: {r2_name: r2, p_name: p} for l, r2, p in results}\n",
    "    return pd.DataFrame(result.values(), result)\n",
    "\n",
    "ldq, ltq = dialogue_metrics(data.surge_evaluation)\n",
    "regs = incremental_regression(\n",
    "    ldq, (category.likert_turn, category.behavior),\n",
    "    reload='results/dialogue_incremental_regressions'\n",
    ")\n",
    "regs"
   ],
   "metadata": {
    "collapsed": false
   }
  },
  {
   "cell_type": "code",
   "execution_count": null,
   "outputs": [],
   "source": [
    "regs = incremental_regression(\n",
    "    ldq, (category.behavior,),\n",
    "    reload='results/behavior_incremental_regressions'\n",
    ")\n",
    "regs"
   ],
   "metadata": {
    "collapsed": false
   }
  },
  {
   "cell_type": "code",
   "execution_count": null,
   "outputs": [],
   "source": [
    "regs = incremental_regression(\n",
    "    ldq, (category.likert_turn,),\n",
    "    reload='results/likert_turn_incremental_regressions'\n",
    ")\n",
    "regs"
   ],
   "metadata": {
    "collapsed": false
   }
  },
  {
   "cell_type": "code",
   "execution_count": null,
   "outputs": [],
   "source": [
    "regs = incremental_regression(\n",
    "    ldq, (category.likert_dialogue,),\n",
    "    reload='results/likert_dialogue_incremental_regressions'\n",
    ")\n",
    "regs"
   ],
   "metadata": {
    "collapsed": false
   }
  },
  {
   "cell_type": "code",
   "execution_count": null,
   "outputs": [],
   "source": [],
   "metadata": {
    "collapsed": false
   }
  }
 ],
 "metadata": {
  "kernelspec": {
   "display_name": "Python 3",
   "language": "python",
   "name": "python3"
  },
  "language_info": {
   "codemirror_mode": {
    "name": "ipython",
    "version": 2
   },
   "file_extension": ".py",
   "mimetype": "text/x-python",
   "name": "python",
   "nbconvert_exporter": "python",
   "pygments_lexer": "ipython2",
   "version": "2.7.6"
  }
 },
 "nbformat": 4,
 "nbformat_minor": 0
}
