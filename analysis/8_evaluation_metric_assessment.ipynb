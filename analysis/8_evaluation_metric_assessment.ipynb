{
 "cells": [
  {
   "cell_type": "code",
   "execution_count": null,
   "outputs": [],
   "source": [
    "import pandas as pd\n",
    "from analysis import *\n",
    "from statsmodels.stats.proportion import proportions_ztest\n",
    "from scipy.stats import binom_test"
   ],
   "metadata": {
    "collapsed": false,
    "pycharm": {
     "name": "#%%\n"
    }
   }
  },
  {
   "cell_type": "code",
   "execution_count": null,
   "outputs": [],
   "source": [
    "surge_annotations = data.surge_evaluation.annotation_dataframe()\n",
    "surge_annotations_comparative = data.surge_evaluation.comparative_annotation_dataframe()\n",
    "\n",
    "surge_annotations"
   ],
   "metadata": {
    "collapsed": false,
    "pycharm": {
     "name": "#%%\n"
    }
   }
  },
  {
   "cell_type": "markdown",
   "source": [
    "# 8 Comprehensive Analysis"
   ],
   "metadata": {
    "collapsed": false,
    "pycharm": {
     "name": "#%% md\n"
    }
   }
  },
  {
   "cell_type": "markdown",
   "source": [
    "### Metric Sensitivity"
   ],
   "metadata": {
    "collapsed": false,
    "pycharm": {
     "name": "#%% md\n"
    }
   }
  },
  {
   "cell_type": "code",
   "execution_count": null,
   "outputs": [],
   "source": [
    "from itertools import combinations\n",
    "from scipy.stats import ttest_ind\n",
    "\n",
    "def p_vals(df: pd.DataFrame, test='t'):\n",
    "    \"\"\"\n",
    "    :param df: (bot, data point) x 1 -> score\n",
    "    :param test: statistical test function (t for t test, p for prop test, s for sign test)\n",
    "    :return: p values of test on each bot pair (pd.Series)\n",
    "    \"\"\"\n",
    "    bots = set(df.index.get_level_values(0))\n",
    "    bot_pairs = list(combinations(bots, 2))\n",
    "    result = {}\n",
    "    for ba, bb in bot_pairs:\n",
    "        a = df.xs(ba).to_numpy().squeeze()\n",
    "        b = df.xs(bb).to_numpy().squeeze()\n",
    "        if test == 't':\n",
    "            t, p = ttest_ind(a, b, equal_var=False)\n",
    "        elif test == 'p':\n",
    "            z, p = proportions_ztest(count=[\n",
    "                sum(a), sum(b)\n",
    "            ], nobs=[\n",
    "                len(a), len(b)\n",
    "            ])\n",
    "        elif test == 's':\n",
    "            # sign test\n",
    "            a = a[a==1]\n",
    "            b = b[b==1]\n",
    "            p = binom_test(sum(a), sum(a)+sum(b), p=0.5)\n",
    "        else:\n",
    "            raise ValueError('invalid arg for param \"test\"')\n",
    "        result[(ba, bb)] = p\n",
    "    result_series = pd.Series(result.values(), result)\n",
    "    return result_series\n",
    "\n",
    "@to_file\n",
    "def t_test_p_values_comparing_bots(annotations):\n",
    "    annotations = get_singly_annotated(annotations)\n",
    "    prop_annotations = annotations.xs(\n",
    "        category.behavior, level=sym.category, drop_level=False\n",
    "    )\n",
    "    comp_annotations = annotations.xs(\n",
    "        category.comparative, level=sym.category, drop_level=False\n",
    "    )\n",
    "    mean_annotations = annotations.drop(\n",
    "        index=category.behavior, level=sym.category\n",
    "    ).drop(\n",
    "        index=category.comparative, level=sym.category\n",
    "    )\n",
    "    mean_ps = mean_annotations.groupby(\n",
    "        [sym.category, sym.label]\n",
    "    ).apply(p_vals)\n",
    "    prop_ps = prop_annotations.groupby(\n",
    "        [sym.category, sym.label]\n",
    "    ).apply(lambda x: p_vals(x, test='p'))\n",
    "    comp_ps = comp_annotations.groupby(\n",
    "        [sym.category, sym.label]\n",
    "    ).apply(lambda x: p_vals(x, test='s'))\n",
    "    result = pd.concat([prop_ps, mean_ps, comp_ps], axis=0)\n",
    "    return result\n",
    "\n",
    "t_test_p_values_comparing_bots(surge_annotations, load='results/t_test_p_values_comparing_bots')"
   ],
   "metadata": {
    "collapsed": false,
    "pycharm": {
     "name": "#%%\n"
    }
   }
  },
  {
   "cell_type": "markdown",
   "source": [
    "### Predictive Validity"
   ],
   "metadata": {
    "collapsed": false,
    "pycharm": {
     "name": "#%% md\n"
    }
   }
  },
  {
   "cell_type": "code",
   "execution_count": null,
   "outputs": [],
   "source": [
    "from statsmodels.miscmodels.ordinal_model import OrderedModel\n",
    "from statsmodels.regression.linear_model import OLS as LinearModel\n",
    "from statsmodels.tools.tools import add_constant\n",
    "\n",
    "def dialogue_metrics(ev):\n",
    "    df: pd.DataFrame = ev.annotation_dataframe()\n",
    "    df = get_singly_annotated(df, seed=123)\n",
    "    reindexed = df.reset_index()\n",
    "    items = reindexed[sym.item]\n",
    "    dialogues = [e[0] if isinstance(e, tuple) else e for e in items]\n",
    "    reindexed['dialogue'] = dialogues\n",
    "    reindexed.set_index(\n",
    "        [sym.bot, sym.category, sym.label, 'dialogue', sym.item],\n",
    "        inplace=True, verify_integrity=True\n",
    "    )\n",
    "    ld = reindexed.xs(category.likert_dialogue, level=sym.category)\n",
    "    ld = ld.droplevel(sym.bot).droplevel(sym.item)\n",
    "    ld.columns = ['score']\n",
    "    ldq = ld.xs(scale.quality, level=sym.label)\n",
    "    ldq.columns = ['quality']\n",
    "\n",
    "    lt = reindexed.xs(category.likert_turn, level=sym.category)\n",
    "    lt = lt.groupby([sym.label, 'dialogue']).mean()\n",
    "    lt.columns = ['score']\n",
    "    ltq = lt.xs(scale.quality, level=sym.label)\n",
    "    ltq.columns = ['quality']\n",
    "\n",
    "    be = reindexed.xs(category.behavior, level=sym.category)\n",
    "    be = be.groupby([sym.label, 'dialogue']).mean()\n",
    "    be.columns = ['score']\n",
    "\n",
    "    ds = pd.concat(\n",
    "        [lt, be, ld],\n",
    "        keys=[category.likert_turn, category.behavior, category.likert_dialogue],\n",
    "        names=[sym.category, sym.label, 'dialogue']\n",
    "    )\n",
    "    likert_dialogue_quality_features = ds.join(ldq, on='dialogue')\n",
    "    likert_turn_quality_features = ds.join(ltq, on='dialogue')\n",
    "    return likert_dialogue_quality_features, likert_turn_quality_features\n",
    "\n",
    "\n",
    "def regressions(df, quality_column_name=None, model='linear'):\n",
    "    \"\"\"\n",
    "    :param df: dialogue x (*features, quality) -> value\n",
    "    :return: *(coef, low, high), mcfadden r^2\n",
    "    \"\"\"\n",
    "    if not quality_column_name:\n",
    "        quality_column_name = df.columns[-1]\n",
    "    qualities = df[quality_column_name]\n",
    "    features = [f for f in df.columns if f != quality_column_name]\n",
    "    if model == 'ordinal':\n",
    "        model = OrderedModel(qualities, df[features], distr='logit')\n",
    "        results = model.fit()\n",
    "        coefs = {f: results.params[f] for f in features}\n",
    "        prsqrd = results.prsquared\n",
    "        result = {stat.mcfad_r2: prsqrd, 'P value of LLR-test': results.llr_pvalue}\n",
    "    elif model == 'linear':\n",
    "        x = add_constant(df[features])\n",
    "        y = qualities\n",
    "        model = LinearModel(y, x)\n",
    "        results = model.fit()\n",
    "        coefs = {f: results.params[f] for f in features}\n",
    "        rsquared = results.rsquared\n",
    "        result = {**coefs, 'R-Squared': rsquared, 'P value of F-test': results.f_pvalue}\n",
    "    else:\n",
    "        raise ValueError('Param \"model\" must be one of {\"linear\", \"ordinal\"}')\n",
    "    return pd.Series(result.values(), result)\n",
    "\n",
    "@to_file\n",
    "def dialogue_quality_regressions(ev):\n",
    "    ldq, ltq = dialogue_metrics(ev)\n",
    "    ldq_groups = ldq.groupby(\n",
    "        [sym.category, sym.label]\n",
    "    )\n",
    "    ltq_groups = ltq.groupby(\n",
    "        [sym.category, sym.label]\n",
    "    )\n",
    "    names = ['Predicted', 'Metric']\n",
    "    linear_result = ldq_groups.apply(lambda x: regressions(x, model='linear'))\n",
    "    linear_result.columns = pd.MultiIndex.from_arrays(\n",
    "        [['Likert Dialogue Quality']*3,\n",
    "        ['LR Coefficient', 'LR R-Squared', 'P value of F-test']],\n",
    "        names=names\n",
    "    )\n",
    "    ordinal_result = ldq_groups.apply(lambda x: regressions(x, model='ordinal'))\n",
    "    ordinal_result.columns = pd.MultiIndex.from_arrays(\n",
    "        [['Likert Dialogue Quality']*2,\n",
    "        ['OR Pseudo R-Squared', 'P value of LLR-test']],\n",
    "        names=names\n",
    "    )\n",
    "    linear_turn_result = ltq_groups.apply(regressions)\n",
    "    linear_turn_result.columns = pd.MultiIndex.from_arrays(\n",
    "        [['Likert Turn Quality']*3,\n",
    "        ['LR Coefficient', 'LR R-Squared', 'P value of F-test']],\n",
    "        names=names\n",
    "    )\n",
    "    result = pd.concat((linear_turn_result, linear_result, ordinal_result), axis=1)\n",
    "    return result.round(5)\n",
    "\n",
    "dialogue_quality_regressions(\n",
    "    data.surge_evaluation,\n",
    "    load='results/dialogue_quality_regressions'\n",
    ")"
   ],
   "metadata": {
    "collapsed": false,
    "pycharm": {
     "name": "#%%\n"
    }
   }
  }
 ],
 "metadata": {
  "kernelspec": {
   "display_name": "Python 3",
   "language": "python",
   "name": "python3"
  },
  "language_info": {
   "codemirror_mode": {
    "name": "ipython",
    "version": 2
   },
   "file_extension": ".py",
   "mimetype": "text/x-python",
   "name": "python",
   "nbconvert_exporter": "python",
   "pygments_lexer": "ipython2",
   "version": "2.7.6"
  }
 },
 "nbformat": 4,
 "nbformat_minor": 0
}