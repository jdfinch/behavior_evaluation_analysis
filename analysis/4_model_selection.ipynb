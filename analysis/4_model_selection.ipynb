{
 "cells": [
  {
   "cell_type": "code",
   "execution_count": 7,
   "outputs": [],
   "source": [
    "from analysis import *"
   ],
   "metadata": {
    "collapsed": false,
    "pycharm": {
     "name": "#%%\n"
    }
   }
  },
  {
   "cell_type": "code",
   "execution_count": 8,
   "outputs": [
    {
     "data": {
      "text/plain": "                                                                              0  \\\nbot            category        label           item                               \nblender2_3B    likert dialogue proactive       (1048,38)_blender2_3B          4   \n                               engaging        (1048,38)_blender2_3B          4   \n                               relevant        (1048,38)_blender2_3B          3   \n                               emotional       (1048,38)_blender2_3B          4   \n                               grammatical     (1048,38)_blender2_3B          4   \n...                                                                          ..   \nrerank_blender behavior        preference info ((441,26)_rerank_blender, 14)  1   \n                               life info       ((441,26)_rerank_blender, 14)  0   \n                               antisocial      ((441,26)_rerank_blender, 14)  0   \n                               correct fact    ((441,26)_rerank_blender, 14)  1   \n                               incorrect fact  ((441,26)_rerank_blender, 14)  0   \n\n                                                                                1  \\\nbot            category        label           item                                 \nblender2_3B    likert dialogue proactive       (1048,38)_blender2_3B          4.0   \n                               engaging        (1048,38)_blender2_3B          5.0   \n                               relevant        (1048,38)_blender2_3B          4.0   \n                               emotional       (1048,38)_blender2_3B          5.0   \n                               grammatical     (1048,38)_blender2_3B          4.0   \n...                                                                           ...   \nrerank_blender behavior        preference info ((441,26)_rerank_blender, 14)  NaN   \n                               life info       ((441,26)_rerank_blender, 14)  NaN   \n                               antisocial      ((441,26)_rerank_blender, 14)  NaN   \n                               correct fact    ((441,26)_rerank_blender, 14)  NaN   \n                               incorrect fact  ((441,26)_rerank_blender, 14)  NaN   \n\n                                                                               2  \nbot            category        label           item                               \nblender2_3B    likert dialogue proactive       (1048,38)_blender2_3B         NaN  \n                               engaging        (1048,38)_blender2_3B         NaN  \n                               relevant        (1048,38)_blender2_3B         NaN  \n                               emotional       (1048,38)_blender2_3B         NaN  \n                               grammatical     (1048,38)_blender2_3B         NaN  \n...                                                                           ..  \nrerank_blender behavior        preference info ((441,26)_rerank_blender, 14) NaN  \n                               life info       ((441,26)_rerank_blender, 14) NaN  \n                               antisocial      ((441,26)_rerank_blender, 14) NaN  \n                               correct fact    ((441,26)_rerank_blender, 14) NaN  \n                               incorrect fact  ((441,26)_rerank_blender, 14) NaN  \n\n[151824 rows x 3 columns]",
      "text/html": "<div>\n<style scoped>\n    .dataframe tbody tr th:only-of-type {\n        vertical-align: middle;\n    }\n\n    .dataframe tbody tr th {\n        vertical-align: top;\n    }\n\n    .dataframe thead th {\n        text-align: right;\n    }\n</style>\n<table border=\"1\" class=\"dataframe\">\n  <thead>\n    <tr style=\"text-align: right;\">\n      <th></th>\n      <th></th>\n      <th></th>\n      <th></th>\n      <th>0</th>\n      <th>1</th>\n      <th>2</th>\n    </tr>\n    <tr>\n      <th>bot</th>\n      <th>category</th>\n      <th>label</th>\n      <th>item</th>\n      <th></th>\n      <th></th>\n      <th></th>\n    </tr>\n  </thead>\n  <tbody>\n    <tr>\n      <th rowspan=\"5\" valign=\"top\">blender2_3B</th>\n      <th rowspan=\"5\" valign=\"top\">likert dialogue</th>\n      <th>proactive</th>\n      <th>(1048,38)_blender2_3B</th>\n      <td>4</td>\n      <td>4.0</td>\n      <td>NaN</td>\n    </tr>\n    <tr>\n      <th>engaging</th>\n      <th>(1048,38)_blender2_3B</th>\n      <td>4</td>\n      <td>5.0</td>\n      <td>NaN</td>\n    </tr>\n    <tr>\n      <th>relevant</th>\n      <th>(1048,38)_blender2_3B</th>\n      <td>3</td>\n      <td>4.0</td>\n      <td>NaN</td>\n    </tr>\n    <tr>\n      <th>emotional</th>\n      <th>(1048,38)_blender2_3B</th>\n      <td>4</td>\n      <td>5.0</td>\n      <td>NaN</td>\n    </tr>\n    <tr>\n      <th>grammatical</th>\n      <th>(1048,38)_blender2_3B</th>\n      <td>4</td>\n      <td>4.0</td>\n      <td>NaN</td>\n    </tr>\n    <tr>\n      <th>...</th>\n      <th>...</th>\n      <th>...</th>\n      <th>...</th>\n      <td>...</td>\n      <td>...</td>\n      <td>...</td>\n    </tr>\n    <tr>\n      <th rowspan=\"5\" valign=\"top\">rerank_blender</th>\n      <th rowspan=\"5\" valign=\"top\">behavior</th>\n      <th>preference info</th>\n      <th>((441,26)_rerank_blender, 14)</th>\n      <td>1</td>\n      <td>NaN</td>\n      <td>NaN</td>\n    </tr>\n    <tr>\n      <th>life info</th>\n      <th>((441,26)_rerank_blender, 14)</th>\n      <td>0</td>\n      <td>NaN</td>\n      <td>NaN</td>\n    </tr>\n    <tr>\n      <th>antisocial</th>\n      <th>((441,26)_rerank_blender, 14)</th>\n      <td>0</td>\n      <td>NaN</td>\n      <td>NaN</td>\n    </tr>\n    <tr>\n      <th>correct fact</th>\n      <th>((441,26)_rerank_blender, 14)</th>\n      <td>1</td>\n      <td>NaN</td>\n      <td>NaN</td>\n    </tr>\n    <tr>\n      <th>incorrect fact</th>\n      <th>((441,26)_rerank_blender, 14)</th>\n      <td>0</td>\n      <td>NaN</td>\n      <td>NaN</td>\n    </tr>\n  </tbody>\n</table>\n<p>151824 rows × 3 columns</p>\n</div>"
     },
     "execution_count": 8,
     "metadata": {},
     "output_type": "execute_result"
    }
   ],
   "source": [
    "surge_annotations = data.surge_evaluation.annotation_dataframe()\n",
    "surge_annotations_comparative = data.surge_evaluation.comparative_annotation_dataframe()\n",
    "\n",
    "surge_annotations"
   ],
   "metadata": {
    "collapsed": false,
    "pycharm": {
     "name": "#%%\n"
    }
   }
  },
  {
   "cell_type": "markdown",
   "source": [
    "# 4 Model Selection"
   ],
   "metadata": {
    "collapsed": false,
    "pycharm": {
     "name": "#%% md\n"
    }
   }
  },
  {
   "cell_type": "markdown",
   "source": [
    "### Bot Pilot Summary Statistics"
   ],
   "metadata": {
    "collapsed": false,
    "pycharm": {
     "name": "#%% md\n"
    }
   }
  },
  {
   "cell_type": "code",
   "execution_count": 9,
   "outputs": [
    {
     "data": {
      "text/plain": "                                0\nround                            \n0     dialogues         71.000000\n      mean turns        30.957746\n      user turn length  10.847134\n      interactors       41.000000",
      "text/html": "<div>\n<style scoped>\n    .dataframe tbody tr th:only-of-type {\n        vertical-align: middle;\n    }\n\n    .dataframe tbody tr th {\n        vertical-align: top;\n    }\n\n    .dataframe thead th {\n        text-align: right;\n    }\n</style>\n<table border=\"1\" class=\"dataframe\">\n  <thead>\n    <tr style=\"text-align: right;\">\n      <th></th>\n      <th></th>\n      <th>0</th>\n    </tr>\n    <tr>\n      <th>round</th>\n      <th></th>\n      <th></th>\n    </tr>\n  </thead>\n  <tbody>\n    <tr>\n      <th rowspan=\"4\" valign=\"top\">0</th>\n      <th>dialogues</th>\n      <td>71.000000</td>\n    </tr>\n    <tr>\n      <th>mean turns</th>\n      <td>30.957746</td>\n    </tr>\n    <tr>\n      <th>user turn length</th>\n      <td>10.847134</td>\n    </tr>\n    <tr>\n      <th>interactors</th>\n      <td>41.000000</td>\n    </tr>\n  </tbody>\n</table>\n</div>"
     },
     "execution_count": 9,
     "metadata": {},
     "output_type": "execute_result"
    }
   ],
   "source": [
    "across_evaluations(\n",
    "    data.bot_pilots, interactor_summary_stats,\n",
    "    load='results/bot_pilot_summary'\n",
    ")"
   ],
   "metadata": {
    "collapsed": false,
    "pycharm": {
     "name": "#%%\n"
    }
   }
  },
  {
   "cell_type": "markdown",
   "source": [
    "### Bot Pilots Likert Quality"
   ],
   "metadata": {
    "collapsed": false,
    "pycharm": {
     "name": "#%% md\n"
    }
   }
  },
  {
   "cell_type": "code",
   "execution_count": 10,
   "outputs": [
    {
     "data": {
      "text/plain": "                   mean  CI low  CI high   n\nbot                                         \nrerank_blender    4.100   3.474    4.726  10\nblender2_3B       3.800   2.988    4.612  10\nbart_fid_rag_bcb  3.500   2.727    4.273  10\nemora             3.300   2.621    3.979  10\nrerank_blender2   2.800   1.744    3.856  10\ndukenet           1.889   1.176    2.602   9\ncem               1.083   0.900    1.267  12",
      "text/html": "<div>\n<style scoped>\n    .dataframe tbody tr th:only-of-type {\n        vertical-align: middle;\n    }\n\n    .dataframe tbody tr th {\n        vertical-align: top;\n    }\n\n    .dataframe thead th {\n        text-align: right;\n    }\n</style>\n<table border=\"1\" class=\"dataframe\">\n  <thead>\n    <tr style=\"text-align: right;\">\n      <th></th>\n      <th>mean</th>\n      <th>CI low</th>\n      <th>CI high</th>\n      <th>n</th>\n    </tr>\n    <tr>\n      <th>bot</th>\n      <th></th>\n      <th></th>\n      <th></th>\n      <th></th>\n    </tr>\n  </thead>\n  <tbody>\n    <tr>\n      <th>rerank_blender</th>\n      <td>4.100</td>\n      <td>3.474</td>\n      <td>4.726</td>\n      <td>10</td>\n    </tr>\n    <tr>\n      <th>blender2_3B</th>\n      <td>3.800</td>\n      <td>2.988</td>\n      <td>4.612</td>\n      <td>10</td>\n    </tr>\n    <tr>\n      <th>bart_fid_rag_bcb</th>\n      <td>3.500</td>\n      <td>2.727</td>\n      <td>4.273</td>\n      <td>10</td>\n    </tr>\n    <tr>\n      <th>emora</th>\n      <td>3.300</td>\n      <td>2.621</td>\n      <td>3.979</td>\n      <td>10</td>\n    </tr>\n    <tr>\n      <th>rerank_blender2</th>\n      <td>2.800</td>\n      <td>1.744</td>\n      <td>3.856</td>\n      <td>10</td>\n    </tr>\n    <tr>\n      <th>dukenet</th>\n      <td>1.889</td>\n      <td>1.176</td>\n      <td>2.602</td>\n      <td>9</td>\n    </tr>\n    <tr>\n      <th>cem</th>\n      <td>1.083</td>\n      <td>0.900</td>\n      <td>1.267</td>\n      <td>12</td>\n    </tr>\n  </tbody>\n</table>\n</div>"
     },
     "execution_count": 10,
     "metadata": {},
     "output_type": "execute_result"
    }
   ],
   "source": [
    "@to_file\n",
    "def evaluate_interactive_likert(annotations):\n",
    "    likert_annotations = annotations.xs(category.likert_dialogue, level=sym.category)\n",
    "    label_groups = likert_annotations.groupby(level=[sym.bot, sym.label])\n",
    "    means = label_groups.apply(mean_and_ci)\n",
    "    return means\n",
    "\n",
    "qdf = evaluate_interactive_likert(\n",
    "    data.bot_pilots[0].annotation_dataframe(),\n",
    "    load='results/bot_pilot_interactive_likert'\n",
    ").xs(scale.quality, level=sym.label)\n",
    "qdf = prettify(qdf, float_prec=3, col_types={\"n\": \"int\"}, sort_by=\"mean\", to_csv=\"results/paper/bot_pilot_interactive_likert_quality\")\n",
    "qdf"
   ],
   "metadata": {
    "collapsed": false,
    "pycharm": {
     "name": "#%%\n"
    }
   }
  },
  {
   "cell_type": "markdown",
   "source": [
    "### Bot Pilot Comparative Quality"
   ],
   "metadata": {
    "collapsed": false,
    "pycharm": {
     "name": "#%% md\n"
    }
   }
  },
  {
   "cell_type": "code",
   "execution_count": 11,
   "outputs": [
    {
     "data": {
      "text/plain": "                                           lose    CI low   CI high     n  \\\nbot              bot comp label                                             \nbart_fid_rag_bcb others   consistent   0.300000  0.107791  0.603222  10.0   \n                          emotional    0.400000  0.168180  0.687326  10.0   \n                          engaging     0.600000  0.312674  0.831820  10.0   \n                          grammatical  0.100000  0.017876  0.404150  10.0   \n                          informative  0.300000  0.107791  0.603222  10.0   \n...                                         ...       ...       ...   ...   \nrerank_blender2  emora    grammatical  0.666667  0.207660  0.938508   3.0   \n                          informative  0.000000  0.000000  0.561497   3.0   \n                          proactive    0.333333  0.061492  0.792340   3.0   \n                          quality      0.666667  0.207660  0.938508   3.0   \n                          relevant     0.666667  0.207660  0.938508   3.0   \n\n                                            tie    CI low   CI high     n  \\\nbot              bot comp label                                             \nbart_fid_rag_bcb others   consistent   0.000000  0.000000  0.277533  10.0   \n                          emotional    0.200000  0.056682  0.509838  10.0   \n                          engaging     0.000000  0.000000  0.277533  10.0   \n                          grammatical  0.100000  0.017876  0.404150  10.0   \n                          informative  0.000000  0.000000  0.277533  10.0   \n...                                         ...       ...       ...   ...   \nrerank_blender2  emora    grammatical  0.000000  0.000000  0.561497   3.0   \n                          informative  0.666667  0.207660  0.938508   3.0   \n                          proactive    0.333333  0.061492  0.792340   3.0   \n                          quality      0.000000  0.000000  0.561497   3.0   \n                          relevant     0.000000  0.000000  0.561497   3.0   \n\n                                            win    CI low   CI high     n  \nbot              bot comp label                                            \nbart_fid_rag_bcb others   consistent   0.700000  0.396778  0.892209  10.0  \n                          emotional    0.400000  0.168180  0.687326  10.0  \n                          engaging     0.400000  0.168180  0.687326  10.0  \n                          grammatical  0.800000  0.490162  0.943318  10.0  \n                          informative  0.700000  0.396778  0.892209  10.0  \n...                                         ...       ...       ...   ...  \nrerank_blender2  emora    grammatical  0.333333  0.061492  0.792340   3.0  \n                          informative  0.333333  0.061492  0.792340   3.0  \n                          proactive    0.333333  0.061492  0.792340   3.0  \n                          quality      0.333333  0.061492  0.792340   3.0  \n                          relevant     0.333333  0.061492  0.792340   3.0  \n\n[224 rows x 12 columns]",
      "text/html": "<div>\n<style scoped>\n    .dataframe tbody tr th:only-of-type {\n        vertical-align: middle;\n    }\n\n    .dataframe tbody tr th {\n        vertical-align: top;\n    }\n\n    .dataframe thead th {\n        text-align: right;\n    }\n</style>\n<table border=\"1\" class=\"dataframe\">\n  <thead>\n    <tr style=\"text-align: right;\">\n      <th></th>\n      <th></th>\n      <th></th>\n      <th>lose</th>\n      <th>CI low</th>\n      <th>CI high</th>\n      <th>n</th>\n      <th>tie</th>\n      <th>CI low</th>\n      <th>CI high</th>\n      <th>n</th>\n      <th>win</th>\n      <th>CI low</th>\n      <th>CI high</th>\n      <th>n</th>\n    </tr>\n    <tr>\n      <th>bot</th>\n      <th>bot comp</th>\n      <th>label</th>\n      <th></th>\n      <th></th>\n      <th></th>\n      <th></th>\n      <th></th>\n      <th></th>\n      <th></th>\n      <th></th>\n      <th></th>\n      <th></th>\n      <th></th>\n      <th></th>\n    </tr>\n  </thead>\n  <tbody>\n    <tr>\n      <th rowspan=\"5\" valign=\"top\">bart_fid_rag_bcb</th>\n      <th rowspan=\"5\" valign=\"top\">others</th>\n      <th>consistent</th>\n      <td>0.300000</td>\n      <td>0.107791</td>\n      <td>0.603222</td>\n      <td>10.0</td>\n      <td>0.000000</td>\n      <td>0.000000</td>\n      <td>0.277533</td>\n      <td>10.0</td>\n      <td>0.700000</td>\n      <td>0.396778</td>\n      <td>0.892209</td>\n      <td>10.0</td>\n    </tr>\n    <tr>\n      <th>emotional</th>\n      <td>0.400000</td>\n      <td>0.168180</td>\n      <td>0.687326</td>\n      <td>10.0</td>\n      <td>0.200000</td>\n      <td>0.056682</td>\n      <td>0.509838</td>\n      <td>10.0</td>\n      <td>0.400000</td>\n      <td>0.168180</td>\n      <td>0.687326</td>\n      <td>10.0</td>\n    </tr>\n    <tr>\n      <th>engaging</th>\n      <td>0.600000</td>\n      <td>0.312674</td>\n      <td>0.831820</td>\n      <td>10.0</td>\n      <td>0.000000</td>\n      <td>0.000000</td>\n      <td>0.277533</td>\n      <td>10.0</td>\n      <td>0.400000</td>\n      <td>0.168180</td>\n      <td>0.687326</td>\n      <td>10.0</td>\n    </tr>\n    <tr>\n      <th>grammatical</th>\n      <td>0.100000</td>\n      <td>0.017876</td>\n      <td>0.404150</td>\n      <td>10.0</td>\n      <td>0.100000</td>\n      <td>0.017876</td>\n      <td>0.404150</td>\n      <td>10.0</td>\n      <td>0.800000</td>\n      <td>0.490162</td>\n      <td>0.943318</td>\n      <td>10.0</td>\n    </tr>\n    <tr>\n      <th>informative</th>\n      <td>0.300000</td>\n      <td>0.107791</td>\n      <td>0.603222</td>\n      <td>10.0</td>\n      <td>0.000000</td>\n      <td>0.000000</td>\n      <td>0.277533</td>\n      <td>10.0</td>\n      <td>0.700000</td>\n      <td>0.396778</td>\n      <td>0.892209</td>\n      <td>10.0</td>\n    </tr>\n    <tr>\n      <th>...</th>\n      <th>...</th>\n      <th>...</th>\n      <td>...</td>\n      <td>...</td>\n      <td>...</td>\n      <td>...</td>\n      <td>...</td>\n      <td>...</td>\n      <td>...</td>\n      <td>...</td>\n      <td>...</td>\n      <td>...</td>\n      <td>...</td>\n      <td>...</td>\n    </tr>\n    <tr>\n      <th rowspan=\"5\" valign=\"top\">rerank_blender2</th>\n      <th rowspan=\"5\" valign=\"top\">emora</th>\n      <th>grammatical</th>\n      <td>0.666667</td>\n      <td>0.207660</td>\n      <td>0.938508</td>\n      <td>3.0</td>\n      <td>0.000000</td>\n      <td>0.000000</td>\n      <td>0.561497</td>\n      <td>3.0</td>\n      <td>0.333333</td>\n      <td>0.061492</td>\n      <td>0.792340</td>\n      <td>3.0</td>\n    </tr>\n    <tr>\n      <th>informative</th>\n      <td>0.000000</td>\n      <td>0.000000</td>\n      <td>0.561497</td>\n      <td>3.0</td>\n      <td>0.666667</td>\n      <td>0.207660</td>\n      <td>0.938508</td>\n      <td>3.0</td>\n      <td>0.333333</td>\n      <td>0.061492</td>\n      <td>0.792340</td>\n      <td>3.0</td>\n    </tr>\n    <tr>\n      <th>proactive</th>\n      <td>0.333333</td>\n      <td>0.061492</td>\n      <td>0.792340</td>\n      <td>3.0</td>\n      <td>0.333333</td>\n      <td>0.061492</td>\n      <td>0.792340</td>\n      <td>3.0</td>\n      <td>0.333333</td>\n      <td>0.061492</td>\n      <td>0.792340</td>\n      <td>3.0</td>\n    </tr>\n    <tr>\n      <th>quality</th>\n      <td>0.666667</td>\n      <td>0.207660</td>\n      <td>0.938508</td>\n      <td>3.0</td>\n      <td>0.000000</td>\n      <td>0.000000</td>\n      <td>0.561497</td>\n      <td>3.0</td>\n      <td>0.333333</td>\n      <td>0.061492</td>\n      <td>0.792340</td>\n      <td>3.0</td>\n    </tr>\n    <tr>\n      <th>relevant</th>\n      <td>0.666667</td>\n      <td>0.207660</td>\n      <td>0.938508</td>\n      <td>3.0</td>\n      <td>0.000000</td>\n      <td>0.000000</td>\n      <td>0.561497</td>\n      <td>3.0</td>\n      <td>0.333333</td>\n      <td>0.061492</td>\n      <td>0.792340</td>\n      <td>3.0</td>\n    </tr>\n  </tbody>\n</table>\n<p>224 rows × 12 columns</p>\n</div>"
     },
     "execution_count": 11,
     "metadata": {},
     "output_type": "execute_result"
    }
   ],
   "source": [
    "cmp_annot = data.bot_pilots[0].comparative_annotation_dataframe()\n",
    "\n",
    "cmp = evaluate_comparisons(\n",
    "    cmp_annot,\n",
    "    load='results/bot_pilot_interactive_comparative'\n",
    ")\n",
    "cmp"
   ],
   "metadata": {
    "collapsed": false,
    "pycharm": {
     "name": "#%%\n"
    }
   }
  },
  {
   "cell_type": "markdown",
   "source": [
    "### Bot Pilot Conversation Examples"
   ],
   "metadata": {
    "collapsed": false,
    "pycharm": {
     "name": "#%% md\n"
    }
   }
  },
  {
   "cell_type": "code",
   "execution_count": 12,
   "outputs": [
    {
     "name": "stdout",
     "output_type": "stream",
     "text": [
      "blender2_3B~~~\n",
      "Hi!\n",
      "Hello, how are you? \n",
      "I'm good, how are you?\n",
      "I'm doing well, thank you for asking. How's the weather in your neck of the woods?\n",
      "It's not as cold as it was last week, which is nice. What's it like where you are?\n",
      "I'm in the midwest, so it's pretty cold right now. I'm hoping it warms up soon.\n",
      "Me too\n",
      "Do you have any plans for the weekend? Or are you just going to stay home and watch tv?\n",
      "I plan on visiting my parents and just chilling at home.\n",
      "That sounds relaxing. I wish I could do that, but I have to work this weekend.\n",
      "Dang. What do you do for work?\n",
      "I work as a cashier at a grocery store. It pays the bills, so I can't complain.\n",
      "Ah, sounds like chore tho\n",
      "It's not too bad. I get to listen to music while I work, which is nice.\n",
      "Oh that does sound nice. I listen to music when I work on homework.\n",
      "What kind of music do you listen to? I'm a big fan of classical music myself.\n",
      "I listen to pop punk pretty frequently, but anime music has made its way into my rotation.\n",
      "That's cool. I don't listen to a lot of music, but when I do it's usually classical or jazz.\n",
      "I'm not a fan of classical or jazz myself, but to each their own.\n",
      "I like to listen to classical when I'm studying. It helps me concentrate better.\n",
      "Gotcha\n",
      "Do you have a favorite classical composer? I like mozart and beethoven.\n",
      "I don't listen to classical music.\n",
      "What kind of music do you listen to when you're studying? I'm a big classical fan.\n",
      "Pop punk\n",
      "What's your favorite pop punk band? I've been listening to a lot of blink-182 lately.\n",
      "All Time Low slaps\n",
      "I've heard of them, but I've never listened to them. I'll have to check them out.\n",
      "You should! my favorite album of theirs is Don't Panic: It's Longer Now!\n",
      "I'll definitely check that one out too. I'm always looking for new music to listen to.\n",
      "Label: quality = 1\n",
      "\n",
      "No samples for likert dialogue quality 1 emora\n",
      "\n",
      "No samples for likert dialogue quality 1 bart_fid_rag_bcb\n",
      "\n",
      "No samples for likert dialogue quality 1 rerank_blender\n",
      "\n",
      "rerank_blender2~~~\n",
      "Hi!\n",
      "Hello! How are you? How is this week been for you? Any travel plans?\n",
      "This week has been alright, I've had a lot of time to relax which is nice. My nearest travel plans are in the summer, when I'm planning on taking a trip to Italy!\n",
      "Nice!! Where is your last italy trip? Are you visiting your family? What time of year is it?\n",
      "Last time I went to Italy I went to Rome, Florence, and Cinque Terre. I'm just going to have a relaxing vacation in the summertime.\n",
      "I was just there - I went to mantio and rome, and went to the piazza gaolone and the colisseum. We ate tons of pasta in the city of roma. Oh my god the street food there was amazing.\n",
      "From what I remember, I agree that the street food was phenomenal. It was a few years ago that I went, so my memory isn't the greatest. But either way, I'm very excited to go there again!\n",
      "Oh really? What was the best street food in italy you had there then? Yeah it will be great to visit all of them again.\n",
      "I remember having chocolate pastries from street vendors every morning. They were so good!\n",
      "Yeah it is a big thing there I hear. They sell them in parks in america too which is cool.\n",
      "That is cool, although I must say, I've never had one in America that was as good as the ones I had in Italy.\n",
      "Yeah they are also super popular in italian american communities in the us for the same reason. Also have you tried any street food yet?\n",
      "I've had some American street food every one in a while. I live near New York City, so I've seen a lot of street vendors.\n",
      "That's cool. What kind of food do they have? Do they serve street food in other countries as well?\n",
      "There are a lot of different kinds of street food. My favorite is a vendor called \"nuts4nuts\" and they sell sweet roasted peanuts. And yes, I think other countries have street food, although I don't know from experience.\n",
      "Oh wow that sounds really good. The last thing I had was fries and I was in awe. What is your all time favorite food?\n",
      "My mom makes really great homemade meatballs, I'd say that is my favorite food. How about you?\n",
      "Wow that's sounds good! I love italian food! But I like to try new restaurants I would not know where to find italians. What kind of street foods do you like?\n",
      "I like to try street food I haven't had before. I think it's a good way to try new things!\n",
      "That is a good idea. I will check it out! When were you in germany?\n",
      "I've never been to Germany, although I'd love to go! I've heard it's beautiful there.\n",
      "Yes it is...and I know some great pasta restaurants...lol! Maybe you and your family will also like to go there. Maybe we can get you a piano lesson once my grandmother passes away, she's good at it.\n",
      "If I ever go to Germany, I'd love some restaurant recommendations! Are you familiar with Germany?\n",
      "I am not terribly familiar with german food, but I'm learning as I find out there are many types. So what types of food do you and family like to eat?\n",
      "We like most types of food, however I've never been a big fan of Greek food or fish. Although, I have been trying to branch out and try sushi lately.\n",
      "Do you like any other types of cuisine? Like italian or mexican?\n",
      "I do! As a New Yorker, I'm a big fan of pizza. And I like Mexican food as well, there's a great Mexican deli in my hometown.\n",
      "That's so cool. You live in a new york city? Which one? I've read about the new yorks of the world: newark, newark penn, brooklyn\n",
      "I actually live just north of New York City, but I go into the city fairly often.\n",
      "That is nice. Have you been able to go to any live concerts in new yarks bands in the past? I always find music in newspapers.\n",
      "Label: quality = 1\n",
      "\n",
      "cem~~~\n",
      "Hi!\n",
      "What is happening?\n",
      "i am sitting at the office\n",
      "That is great! I am happy for you\n",
      "ok\n",
      "I am so happy for you!\n",
      "ok\n",
      "That is great! I wish you the best of luck!\n",
      "can you say anything else\n",
      "I am so happy for you!\n",
      "i just lost my wallet\n",
      "I am sorry to hear that. I hope you get it soon!\n",
      "cool\n",
      "I am so sorry to hear that.\n",
      "ok\n",
      "I am so sorry to hear that.\n",
      "you are sorry to hear what?\n",
      "I am so sorry to hear that.\n",
      "today is a good day\n",
      "I am so happy for you!\n",
      "do you like travel\n",
      "That is great! I am so happy for you!\n",
      "do you like travel??\n",
      "That is great! I am so happy for you!\n",
      "can you say anything else\n",
      "I am so sorry to hear that.\n",
      "i just won the lottery\n",
      "That is great! I wish you luck with it!\n",
      "i will buy a new car\n",
      "That is great! I wish you the best of luck!\n",
      "i will buy a new house\n",
      "That is great! I wish you the best of luck!\n",
      "Label: quality = 1\n",
      "\n",
      "dukenet~~~\n",
      "Hi!\n",
      "I love hi! How about you?\n",
      "great\n",
      "I love the color of the water.\n",
      "what is the color of the water\n",
      "It is a color that is a color of the water.\n",
      "OK, sounds like a tongue twister\n",
      "It is a phrase that is designed to be difficult to art properly art properly.\n",
      "OK\n",
      "I think it is a very popular place to do with the same thing.\n",
      "what place\n",
      "I'm not sure, but I know that it is a very popular place to visit.\n",
      "what do you do for a living\n",
      "I do not do a job. I work in society.\n",
      "what kind of work in society\n",
      "I am not sure but I do know that it is a very popular work.\n",
      "OK\n",
      "I think it is a very popular place to do with the same thing.\n",
      "do you like sports\n",
      "I do! I love sports!\n",
      "me too what is your favorite sport\n",
      "I like the best. I like to play the beach.\n",
      "play what on the beach volleyball?\n",
      "I'm not sure but I do know that it is a sport that is a sport that is a sport.\n",
      "OK. Do you like watching movies?\n",
      "I do like movies too. I like to watch movies.\n",
      "me too. what is your favorite movie\n",
      "I like the classic movie \" the \" movie \". I love the \" the \" movie \".\n",
      "OK. Any music you like\n",
      "I like to play guitar.\n",
      "nice \n",
      "I agree. I love how they are.\n",
      "Label: quality = 1\n",
      "\n"
     ]
    }
   ],
   "source": [
    "seeds = [1, 1, 1, 1, 1, 1, 1]\n",
    "for s, b in zip(seeds, bot):\n",
    "    example = get_example(\n",
    "        data.bot_pilots[0],\n",
    "        category.likert_dialogue, label=scale.quality, bot=b, context=0, mark=1,\n",
    "        seed=s\n",
    "    )\n",
    "    print(example)"
   ],
   "metadata": {
    "collapsed": false,
    "pycharm": {
     "name": "#%%\n"
    }
   }
  }
 ],
 "metadata": {
  "kernelspec": {
   "display_name": "Python 3",
   "language": "python",
   "name": "python3"
  },
  "language_info": {
   "codemirror_mode": {
    "name": "ipython",
    "version": 2
   },
   "file_extension": ".py",
   "mimetype": "text/x-python",
   "name": "python",
   "nbconvert_exporter": "python",
   "pygments_lexer": "ipython2",
   "version": "2.7.6"
  }
 },
 "nbformat": 4,
 "nbformat_minor": 0
}