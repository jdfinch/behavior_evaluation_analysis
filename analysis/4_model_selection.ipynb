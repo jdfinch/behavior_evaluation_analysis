{
 "cells": [
  {
   "cell_type": "code",
   "execution_count": null,
   "outputs": [],
   "source": [
    "from analysis import *"
   ],
   "metadata": {
    "collapsed": false,
    "pycharm": {
     "name": "#%%\n"
    }
   }
  },
  {
   "cell_type": "code",
   "execution_count": null,
   "outputs": [],
   "source": [
    "surge_annotations = data.surge_evaluation.annotation_dataframe()\n",
    "surge_annotations_comparative = data.surge_evaluation.comparative_annotation_dataframe()\n",
    "\n",
    "surge_annotations"
   ],
   "metadata": {
    "collapsed": false,
    "pycharm": {
     "name": "#%%\n"
    }
   }
  },
  {
   "cell_type": "markdown",
   "source": [
    "# 4 Model Selection"
   ],
   "metadata": {
    "collapsed": false,
    "pycharm": {
     "name": "#%% md\n"
    }
   }
  },
  {
   "cell_type": "markdown",
   "source": [
    "### Bot Pilot Summary Statistics"
   ],
   "metadata": {
    "collapsed": false,
    "pycharm": {
     "name": "#%% md\n"
    }
   }
  },
  {
   "cell_type": "code",
   "execution_count": null,
   "outputs": [],
   "source": [
    "across_evaluations(\n",
    "    data.bot_pilots, interactor_summary_stats,\n",
    "    load='results/bot_pilot_summary'\n",
    ")"
   ],
   "metadata": {
    "collapsed": false,
    "pycharm": {
     "name": "#%%\n"
    }
   }
  },
  {
   "cell_type": "markdown",
   "source": [
    "### Bot Pilots Likert Quality"
   ],
   "metadata": {
    "collapsed": false,
    "pycharm": {
     "name": "#%% md\n"
    }
   }
  },
  {
   "cell_type": "code",
   "execution_count": null,
   "outputs": [],
   "source": [
    "@to_file\n",
    "def evaluate_interactive_likert(annotations):\n",
    "    likert_annotations = annotations.xs(category.likert_dialogue, level=sym.category)\n",
    "    label_groups = likert_annotations.groupby(level=[sym.bot, sym.label])\n",
    "    means = label_groups.apply(mean_and_ci)\n",
    "    return means\n",
    "\n",
    "qdf = evaluate_interactive_likert(\n",
    "    data.bot_pilots[0].annotation_dataframe(),\n",
    "    load='results/bot_pilot_interactive_likert'\n",
    ").xs(scale.quality, level=sym.label)\n",
    "qdf = prettify(qdf, float_prec=3, col_types={\"n\": \"int\"}, sort_by=\"mean\", to_csv=\"results/paper/bot_pilot_interactive_likert_quality\")\n",
    "qdf"
   ],
   "metadata": {
    "collapsed": false,
    "pycharm": {
     "name": "#%%\n"
    }
   }
  },
  {
   "cell_type": "markdown",
   "source": [
    "### Bot Pilot Comparative Quality"
   ],
   "metadata": {
    "collapsed": false,
    "pycharm": {
     "name": "#%% md\n"
    }
   }
  },
  {
   "cell_type": "code",
   "execution_count": null,
   "outputs": [],
   "source": [
    "cmp_annot = data.bot_pilots[0].comparative_annotation_dataframe()\n",
    "\n",
    "cmp = evaluate_comparisons(\n",
    "    cmp_annot,\n",
    "    load='results/bot_pilot_interactive_comparative'\n",
    ")\n",
    "cmp"
   ],
   "metadata": {
    "collapsed": false,
    "pycharm": {
     "name": "#%%\n"
    }
   }
  },
  {
   "cell_type": "markdown",
   "source": [
    "### Bot Pilot Conversation Examples"
   ],
   "metadata": {
    "collapsed": false,
    "pycharm": {
     "name": "#%% md\n"
    }
   }
  },
  {
   "cell_type": "code",
   "execution_count": null,
   "outputs": [],
   "source": [
    "seeds = [1, 1, 1, 1, 1, 1, 1]\n",
    "for s, b in zip(seeds, bot):\n",
    "    example = get_example(\n",
    "        data.bot_pilots[0],\n",
    "        category.likert_dialogue, label=scale.quality, bot=b, context=0, mark=1,\n",
    "        seed=s\n",
    "    )\n",
    "    print(example)"
   ],
   "metadata": {
    "collapsed": false,
    "pycharm": {
     "name": "#%%\n"
    }
   }
  }
 ],
 "metadata": {
  "kernelspec": {
   "display_name": "Python 3",
   "language": "python",
   "name": "python3"
  },
  "language_info": {
   "codemirror_mode": {
    "name": "ipython",
    "version": 2
   },
   "file_extension": ".py",
   "mimetype": "text/x-python",
   "name": "python",
   "nbconvert_exporter": "python",
   "pygments_lexer": "ipython2",
   "version": "2.7.6"
  }
 },
 "nbformat": 4,
 "nbformat_minor": 0
}