{
 "cells": [
  {
   "cell_type": "code",
   "execution_count": null,
   "metadata": {
    "collapsed": true,
    "pycharm": {
     "name": "#%%\n"
    }
   },
   "outputs": [],
   "source": [
    "import pandas as pd\n",
    "from analysis import *\n",
    "import matplotlib.pyplot as plt\n",
    "import numpy as np\n",
    "import math"
   ]
  },
  {
   "cell_type": "code",
   "execution_count": null,
   "outputs": [],
   "source": [
    "surge_timings = data.surge_evaluation.timing_dataframe()\n",
    "surge_timings"
   ],
   "metadata": {
    "collapsed": false,
    "pycharm": {
     "name": "#%%\n"
    }
   }
  },
  {
   "cell_type": "code",
   "execution_count": null,
   "outputs": [],
   "source": [
    "interactive_timings = data.dialogue_collection.interactive_timing_dataframe()\n",
    "interactive_timings"
   ],
   "metadata": {
    "collapsed": false,
    "pycharm": {
     "name": "#%%\n"
    }
   }
  },
  {
   "cell_type": "code",
   "execution_count": null,
   "outputs": [],
   "source": [
    "all_tasks_timings = pd.concat([surge_timings, interactive_timings])\n",
    "all_tasks_timings"
   ],
   "metadata": {
    "collapsed": false,
    "pycharm": {
     "name": "#%%\n"
    }
   }
  },
  {
   "cell_type": "code",
   "execution_count": null,
   "outputs": [],
   "source": [
    "n = 400\n",
    "rate = 10 # $/hr"
   ],
   "metadata": {
    "collapsed": false,
    "pycharm": {
     "name": "#%%\n"
    }
   }
  },
  {
   "cell_type": "code",
   "execution_count": null,
   "outputs": [],
   "source": [
    "average_timings_per_task = all_tasks_timings.groupby(level=['category', 'labels']).median()\n",
    "average_timings_per_task['projected cost'] = average_timings_per_task[\"completion time (sec)\"] / 60 / 60 * n * rate\n",
    "average_timings_per_task"
   ],
   "metadata": {
    "collapsed": false,
    "pycharm": {
     "name": "#%%\n"
    }
   }
  },
  {
   "cell_type": "code",
   "execution_count": null,
   "outputs": [],
   "source": [
    "static_timings_per_evaluation = surge_timings.groupby(level=['id', 'category']).sum().groupby(level=['category']).median()\n",
    "interactive_timings_per_evaluation = interactive_timings.groupby(level=['category']).median()\n",
    "average_timings_per_evaluation = pd.concat([static_timings_per_evaluation, interactive_timings_per_evaluation])\n",
    "average_timings_per_evaluation['projected cost'] = average_timings_per_evaluation[\"completion time (sec)\"] / 60 / 60 * n * rate\n",
    "average_timings_per_evaluation"
   ],
   "metadata": {
    "collapsed": false,
    "pycharm": {
     "name": "#%%\n"
    }
   }
  }
 ],
 "metadata": {
  "kernelspec": {
   "display_name": "Python 3",
   "language": "python",
   "name": "python3"
  },
  "language_info": {
   "codemirror_mode": {
    "name": "ipython",
    "version": 2
   },
   "file_extension": ".py",
   "mimetype": "text/x-python",
   "name": "python",
   "nbconvert_exporter": "python",
   "pygments_lexer": "ipython2",
   "version": "2.7.6"
  }
 },
 "nbformat": 4,
 "nbformat_minor": 0
}