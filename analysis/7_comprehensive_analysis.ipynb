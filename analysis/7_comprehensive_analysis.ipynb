{
 "cells": [
  {
   "cell_type": "code",
   "execution_count": null,
   "metadata": {
    "collapsed": true,
    "pycharm": {
     "name": "#%%\n"
    }
   },
   "outputs": [],
   "source": [
    "import pandas as pd\n",
    "import matplotlib.pyplot as plt\n",
    "from analysis import *"
   ]
  },
  {
   "cell_type": "code",
   "execution_count": null,
   "outputs": [],
   "source": [
    "surge_annotations = data.surge_evaluation.annotation_dataframe()\n",
    "surge_annotations_comparative = data.surge_evaluation.comparative_annotation_dataframe()\n",
    "\n",
    "surge_annotations"
   ],
   "metadata": {
    "collapsed": false,
    "pycharm": {
     "name": "#%%\n"
    }
   }
  },
  {
   "cell_type": "markdown",
   "source": [
    "# 7 Comprehensive Analysis"
   ],
   "metadata": {
    "collapsed": false,
    "pycharm": {
     "name": "#%% md\n"
    }
   }
  },
  {
   "cell_type": "markdown",
   "source": [
    "### Likert Dialogue"
   ],
   "metadata": {
    "collapsed": false,
    "pycharm": {
     "name": "#%% md\n"
    }
   }
  },
  {
   "cell_type": "code",
   "execution_count": null,
   "outputs": [],
   "source": [
    "bots = ['Blender2', 'Emora', 'BartFidRAG', 'RerankBlender']\n",
    "# https://blog.finxter.com/how-to-plot-matplotlibs-color-palette-and-choose-your-plot-color/\n",
    "graphing_bot_colors = {\n",
    "    'blender2_3B': 'purple',\n",
    "    'bart_fid_rag_bcb': 'royalblue',\n",
    "    'emora': 'turquoise',\n",
    "    'rerank_blender': 'green'\n",
    "}\n",
    "bot_transformer = {\n",
    "    'blender2_3B': 'Blender2',\n",
    "    'emora': 'Emora',\n",
    "    'rerank_blender': 'Blender-Decode',\n",
    "    'bart_fid_rag_bcb': 'BART-FiDRAG'\n",
    "}\n",
    "dimensions_abbrev = {\n",
    "    'consistent': 'CO',\n",
    "    'emotional': 'EU',\n",
    "    'engaging': 'EN',\n",
    "    'grammatical': 'GR',\n",
    "    'informative': 'IN',\n",
    "    'proactive': 'PR',\n",
    "    'quality': 'OQ',\n",
    "    'relevant': 'RE'\n",
    "}\n",
    "\n",
    "dimensions_identity = {\n",
    "    'consistent': 'consistent',\n",
    "    'emotional': 'emotional',\n",
    "    'engaging': 'engaging',\n",
    "    'grammatical': 'grammatical',\n",
    "    'informative': 'informative',\n",
    "    'proactive': 'proactive',\n",
    "    'quality': 'quality',\n",
    "    'relevant': 'relevant'\n",
    "}\n",
    "\n",
    "dimensions_transformer = dimensions_identity"
   ],
   "metadata": {
    "collapsed": false,
    "pycharm": {
     "name": "#%%\n"
    }
   }
  },
  {
   "cell_type": "code",
   "execution_count": null,
   "outputs": [],
   "source": [
    "SMALL_SIZE = 16\n",
    "MEDIUM_SIZE = 20\n",
    "BIGGER_SIZE = 24\n",
    "\n",
    "plt.rc('font', size=SMALL_SIZE)          # controls default text sizes\n",
    "plt.rc('axes', titlesize=SMALL_SIZE)     # fontsize of the axes title\n",
    "plt.rc('axes', labelsize=MEDIUM_SIZE)    # fontsize of the x and y labels\n",
    "plt.rc('xtick', labelsize=SMALL_SIZE)    # fontsize of the tick labels\n",
    "plt.rc('ytick', labelsize=SMALL_SIZE)    # fontsize of the tick labels\n",
    "plt.rc('legend', fontsize=12)    # legend fontsize\n",
    "plt.rc('figure', titlesize=BIGGER_SIZE)  # fontsize of the figure title\n",
    "\n",
    "def grouped_barplot(df0, title, ylabel, xlabel, ylim, value_col='mean', rot=45, fig_size=(10,5)):\n",
    "    df = df0.reset_index()\n",
    "    plt.rcParams[\"figure.figsize\"] = fig_size\n",
    "\n",
    "    df['lower'] = df[value_col] - df[\"CI low\"]\n",
    "    cilow = df.pivot(index='label', columns='bot', values='lower')\n",
    "    df['upper'] = df[\"CI high\"] - df[value_col]\n",
    "    cihigh = df.pivot(index='label', columns='bot', values='upper')\n",
    "\n",
    "    err = []\n",
    "    for col in cilow:\n",
    "        err.append([cilow[col].values, cihigh[col].values])\n",
    "\n",
    "    df0 = df.pivot(index='label', columns='bot', values=value_col)\n",
    "    ax = df0.plot(\n",
    "        kind='bar',\n",
    "        ylim=ylim,\n",
    "        title=title,\n",
    "        rot=rot,\n",
    "        yerr=err,\n",
    "        color=[graphing_bot_colors[bot] for bot in df0.columns]\n",
    "    )\n",
    "    ax.legend(\n",
    "        [bot_transformer[bot] for bot in df0.columns],\n",
    "        ncol=2\n",
    "    )\n",
    "    ax.set_ylabel(ylabel, labelpad=20)\n",
    "    ax.set_xlabel(xlabel, labelpad=20)\n",
    "    ax.set_xticklabels([dimensions_transformer[d] if d in dimensions_transformer else behaviors_transformer[d] for d in df0.index])"
   ],
   "metadata": {
    "collapsed": false,
    "pycharm": {
     "name": "#%%\n"
    }
   }
  },
  {
   "cell_type": "code",
   "execution_count": null,
   "outputs": [],
   "source": [
    "def evaluate_likert_ratings(annotations, category, load=None, reload=None):\n",
    "    if load:\n",
    "        return pd.read_csv(load)\n",
    "    single_annotated = get_singly_annotated(annotations)\n",
    "    likert_annotations = single_annotated.xs(category, level=sym.category)\n",
    "    label_groups = likert_annotations.groupby(level=[sym.bot, sym.label])\n",
    "    means = label_groups.apply(mean_and_ci)\n",
    "    if reload:\n",
    "        means.to_csv(reload)\n",
    "    return means"
   ],
   "metadata": {
    "collapsed": false,
    "pycharm": {
     "name": "#%%\n"
    }
   }
  },
  {
   "cell_type": "code",
   "execution_count": null,
   "outputs": [],
   "source": [
    "surge_likert_dialogue_ratings = evaluate_likert_ratings(\n",
    "    surge_annotations, category.likert_dialogue,\n",
    "    reload='results/surge_likert_dialogue_ratings'\n",
    ")\n",
    "sldr = prettify(surge_likert_dialogue_ratings, float_prec=3, col_types={\"n\": int}, sort_by=[\"bot\", \"mean\"], to_csv=\"results/paper/surge_likert_dialogue_ratings\", index=False)\n",
    "sldr"
   ],
   "metadata": {
    "collapsed": false,
    "pycharm": {
     "name": "#%%\n"
    }
   }
  },
  {
   "cell_type": "code",
   "execution_count": null,
   "outputs": [],
   "source": [
    "grouped_barplot(sldr, title=\"Average Dialogue Likert Rating\", ylabel=\"Likert Rating\", xlabel='Label', ylim=(2.5,4.55), rot=45, fig_size=(10,5))\n"
   ],
   "metadata": {
    "collapsed": false,
    "pycharm": {
     "name": "#%%\n"
    }
   }
  },
  {
   "cell_type": "markdown",
   "source": [
    "### Likert Turn\n"
   ],
   "metadata": {
    "collapsed": false,
    "pycharm": {
     "name": "#%% md\n"
    }
   }
  },
  {
   "cell_type": "code",
   "execution_count": null,
   "outputs": [],
   "source": [
    "surge_likert_turn_ratings = evaluate_likert_ratings(\n",
    "    surge_annotations, category.likert_turn,\n",
    "    reload='results/surge_likert_turn_ratings'\n",
    ")\n",
    "sltr = prettify(surge_likert_turn_ratings, float_prec=3, col_types={\"n\": int}, sort_by=[\"bot\", \"mean\"], to_csv=\"results/paper/surge_likert_turn_ratings\", index=False)\n",
    "sltr"
   ],
   "metadata": {
    "collapsed": false,
    "pycharm": {
     "name": "#%%\n"
    }
   }
  },
  {
   "cell_type": "code",
   "execution_count": null,
   "outputs": [],
   "source": [
    "grouped_barplot(sltr, title=\"Average Turn Likert Rating\", ylabel=\"Likert Rating\", xlabel='Label', ylim=(2.5,5.0), rot=45)"
   ],
   "metadata": {
    "collapsed": false,
    "pycharm": {
     "name": "#%%\n"
    }
   }
  },
  {
   "cell_type": "markdown",
   "source": [
    "### Comparative"
   ],
   "metadata": {
    "collapsed": false,
    "pycharm": {
     "name": "#%% md\n"
    }
   }
  },
  {
   "cell_type": "code",
   "execution_count": null,
   "outputs": [],
   "source": [
    "comparison_df = evaluate_comparisons(\n",
    "    surge_annotations_comparative,\n",
    "    reload='results/surge_comparisons'\n",
    ")\n",
    "comparison_df"
   ],
   "metadata": {
    "collapsed": false,
    "pycharm": {
     "name": "#%%\n"
    }
   }
  },
  {
   "cell_type": "code",
   "execution_count": null,
   "outputs": [],
   "source": [
    "# each bot is a dataframe\n",
    "botvothers = comparison_df[comparison_df.index.get_level_values('bot comp') == 'others'][['win', 'tie', 'lose']]\n",
    "print(comparison_df.columns)\n",
    "botvothers['CI low'] = comparison_df.iloc[:, 9]\n",
    "botvothers['CI high'] = comparison_df.iloc[:, 10]\n",
    "botvothers.reset_index(level=['bot comp'], inplace=True)\n",
    "botvothers.drop('bot comp', inplace=True, axis='columns')\n",
    "toplot = botvothers.reorder_levels(['label', 'bot']).sort_index()\n",
    "toplot"
   ],
   "metadata": {
    "collapsed": false,
    "pycharm": {
     "name": "#%%\n"
    }
   }
  },
  {
   "cell_type": "code",
   "execution_count": null,
   "outputs": [],
   "source": [
    "from matplotlib.text import Text\n",
    "\n",
    "def plot_comparative(df0, title, value_col, fig_size):\n",
    "    # https://stackoverflow.com/questions/59922701/pandas-how-can-i-group-a-stacked-bar-chart\n",
    "    plt.rcParams[\"figure.figsize\"] = fig_size\n",
    "\n",
    "    df0['lower'] = df0[value_col] - df0[\"CI low\"]\n",
    "    df0['upper'] = df0[\"CI high\"] - df0[value_col]\n",
    "\n",
    "    errLow = df0[['lower']].reset_index(['bot', 'label']).pivot(index='label', columns='bot', values='lower')\n",
    "    errHi = df0[['upper']].reset_index(['bot', 'label']).pivot(index='label', columns='bot', values='upper')\n",
    "\n",
    "    # 4 x 2 x 8 (bots x low, hi x labels)\n",
    "    err = []\n",
    "    for col in errLow:\n",
    "        err.append([errLow[col].values, errHi[col].values])\n",
    "\n",
    "    df0 = df0.unstack(level=-1)\n",
    "    fig, ax = plt.subplots()\n",
    "\n",
    "    groups = []\n",
    "    for i in df0.columns:\n",
    "        if i[1] not in groups:\n",
    "            groups.append(i[1])\n",
    "\n",
    "    (df0['win']+df0['tie']+df0['lose']).plot(kind='bar', color=[graphing_bot_colors[i] for i in groups], alpha=0.2, rot=0, ax=ax)\n",
    "    (df0['win']+df0['tie']).plot(kind='bar', color=[graphing_bot_colors[i] for i in groups], alpha=0.4, rot=0, ax=ax)\n",
    "    df0['win'].plot(kind='bar', color=[graphing_bot_colors[i] for i in groups], rot=0, ax=ax, yerr=err)\n",
    "\n",
    "    h, l = ax.get_legend_handles_labels()\n",
    "    markers = {}\n",
    "    for h, l, (wtl, bot) in zip(h, l, df0.columns):\n",
    "        markers.setdefault(bot, []).append((h,l))\n",
    "    wtl_dummies = [plt.plot([],marker=\"\", ls=\"\")[0]]*4\n",
    "    bot_dummies = [plt.plot([],marker=\"\", ls=\"\")[0]]*4\n",
    "    handles = wtl_dummies\n",
    "    labels = [\"\", \"Lose:\", \"Tie:\", \"Win:\"]\n",
    "    for i, (bot, symbols) in enumerate(markers.items()):\n",
    "        handles.append(bot_dummies[i])\n",
    "        labels.append(bot_transformer[bot])\n",
    "        handles.extend([s[0] for s in symbols])\n",
    "        labels.extend([\"\" for s in symbols])\n",
    "    leg = plt.legend(handles, labels, ncol=5, loc='lower right', bbox_to_anchor=(0.67, -1.2), labelspacing=0.25)\n",
    "    for i, vpack in enumerate(leg._legend_handle_box.get_children()):\n",
    "        if i == 0: # row titles\n",
    "            for hpack in vpack.get_children():\n",
    "                hpack.get_children()[0].set_width(0)\n",
    "        else:\n",
    "            for j, hpack in enumerate(vpack.get_children()):\n",
    "                if j > 0: # bot win/tie/lose markers\n",
    "                    hpack.get_children()[0].get_children()[0].set_width(50)\n",
    "                else: # column titles\n",
    "                    hpack.get_children()[0].set_width(0)\n",
    "    ax.set_title(title)\n",
    "    ax.set_ylabel('Proportion', labelpad=20)\n",
    "    ax.set_xlabel('Label', labelpad=20)\n",
    "    ax.set_xticklabels([dimensions_transformer[d] for d in df0.index])\n",
    "\n",
    "    plt.tight_layout()\n",
    "    plt.show()\n",
    "    return df0"
   ],
   "metadata": {
    "collapsed": false,
    "pycharm": {
     "name": "#%%\n"
    }
   }
  },
  {
   "cell_type": "code",
   "execution_count": null,
   "outputs": [],
   "source": [
    "df = plot_comparative(toplot, 'Comparative Evaluation Results', 'win', (20, 40))"
   ],
   "metadata": {
    "collapsed": false,
    "pycharm": {
     "name": "#%%\n"
    }
   }
  },
  {
   "cell_type": "markdown",
   "source": [
    "### Behaviors"
   ],
   "metadata": {
    "collapsed": false,
    "pycharm": {
     "name": "#%% md\n"
    }
   }
  },
  {
   "cell_type": "code",
   "execution_count": null,
   "outputs": [],
   "source": [
    "def evaluate_behavior_rates(annotations, load=None, reload=None):\n",
    "    if load:\n",
    "        return pd.read_csv(load)\n",
    "    single_annotated = get_singly_annotated(annotations)\n",
    "    behavior_annotations = single_annotated.xs(category.behavior, level=sym.category)\n",
    "    label_groups = behavior_annotations.groupby(level=[sym.bot, sym.label])\n",
    "    means = label_groups.apply(prop_and_ci)\n",
    "    if reload:\n",
    "        means.to_csv(reload)\n",
    "    return means"
   ],
   "metadata": {
    "collapsed": false,
    "pycharm": {
     "name": "#%%\n"
    }
   }
  },
  {
   "cell_type": "code",
   "execution_count": null,
   "outputs": [],
   "source": [
    "surge_behavior_rates = evaluate_behavior_rates(\n",
    "    surge_annotations,\n",
    "    reload='results/surge_behavior_rates'\n",
    ")\n",
    "sbr = prettify(surge_behavior_rates,  float_prec=3, col_types={\"n\": int}, sort_by=[\"bot\", \"proportion\"], to_csv=\"results/paper/surge_behavior_rates\", index=False)\n",
    "sbr"
   ],
   "metadata": {
    "collapsed": false,
    "pycharm": {
     "name": "#%%\n"
    }
   }
  },
  {
   "cell_type": "code",
   "execution_count": null,
   "outputs": [],
   "source": [
    "behaviors_abbrev = {\n",
    "    'correct fact': 'CF',\n",
    "    'empathetic': 'EM',\n",
    "    'follow up': 'FU',\n",
    "    'life info': 'LI',\n",
    "    'preference info': 'PI',\n",
    "    'uninterpretable': 'UI',\n",
    "    'antisocial': 'AS',\n",
    "    'commonsense contradiction': 'CC',\n",
    "    'ignore': 'IG',\n",
    "    'incorrect fact': '~CF',\n",
    "    'irrelevant': 'IR',\n",
    "    'lack of empathy': '~EM',\n",
    "    'partner contradiction': 'PC',\n",
    "    'redundant': 'RD',\n",
    "    'self contradiction': 'SC',\n",
    "    'topic switch': 'TS'\n",
    "}\n",
    "\n",
    "behaviors_identity = {\n",
    "    'correct fact': 'correct fact',\n",
    "    'empathetic': 'empathetic',\n",
    "    'follow up': 'follow up',\n",
    "    'life info': 'life info',\n",
    "    'preference info': 'preference info',\n",
    "    'uninterpretable': 'uninterpretable',\n",
    "    'antisocial': 'antisocial',\n",
    "    'commonsense contradiction': 'contra common',\n",
    "    'ignore': 'ignore',\n",
    "    'incorrect fact': 'incorrect fact',\n",
    "    'irrelevant': 'irrelevant',\n",
    "    'lack of empathy': 'lack of empathy',\n",
    "    'partner contradiction': 'contra partner',\n",
    "    'redundant': 'redundant',\n",
    "    'self contradiction': 'contra self',\n",
    "    'topic switch': 'topic switch'\n",
    "}\n",
    "\n",
    "behaviors_transformer = behaviors_identity\n",
    "\n",
    "sbr = sbr.reset_index()\n",
    "to_maximize = {'correct fact', 'empathetic', 'follow up', 'life info', 'preference info'}\n",
    "maximize = sbr[sbr['label'].isin(to_maximize)]\n",
    "grouped_barplot(maximize, title=\"Rates of Desirable Behaviors\", ylabel=\"Rate\", xlabel='Behavior', ylim=(0,0.7), value_col=\"proportion\", rot=0, fig_size=(20,5))\n",
    "\n",
    "to_minimize = {'uninterpretable', 'antisocial', 'commonsense contradiction', 'ignore', 'incorrect fact', 'irrelevant', 'lack of empathy', 'partner contradiction', 'redundant', 'self contradiction', 'topic switch'}\n",
    "minimize = sbr[sbr['label'].isin(to_minimize)]\n",
    "grouped_barplot(minimize, title=\"Rates of Undesirable Behaviors\", ylabel=\"Rate\", xlabel='Behavior', ylim=(0,0.35), value_col=\"proportion\", rot=45, fig_size=(20,5))"
   ],
   "metadata": {
    "collapsed": false,
    "pycharm": {
     "name": "#%%\n"
    }
   }
  },
  {
   "cell_type": "code",
   "execution_count": null,
   "outputs": [],
   "source": [],
   "metadata": {
    "collapsed": false,
    "pycharm": {
     "name": "#%%\n"
    }
   }
  }
 ],
 "metadata": {
  "kernelspec": {
   "display_name": "Python 3",
   "language": "python",
   "name": "python3"
  },
  "language_info": {
   "codemirror_mode": {
    "name": "ipython",
    "version": 2
   },
   "file_extension": ".py",
   "mimetype": "text/x-python",
   "name": "python",
   "nbconvert_exporter": "python",
   "pygments_lexer": "ipython2",
   "version": "2.7.6"
  }
 },
 "nbformat": 4,
 "nbformat_minor": 0
}