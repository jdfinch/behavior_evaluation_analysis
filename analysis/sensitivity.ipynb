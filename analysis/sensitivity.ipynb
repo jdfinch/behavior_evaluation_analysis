{
 "cells": [
  {
   "cell_type": "code",
   "execution_count": null,
   "metadata": {
    "collapsed": true,
    "pycharm": {
     "name": "#%%\n"
    }
   },
   "outputs": [],
   "source": [
    "import pandas as pd\n",
    "from analysis import *\n",
    "import matplotlib.pyplot as plt\n",
    "import numpy as np\n",
    "import math"
   ]
  },
  {
   "cell_type": "code",
   "execution_count": null,
   "outputs": [],
   "source": [
    "surge_annotations = data.surge_evaluation.annotation_dataframe()\n",
    "surge_annotations_comparative = data.surge_evaluation.comparative_annotation_dataframe()\n",
    "\n",
    "surge_annotations"
   ],
   "metadata": {
    "collapsed": false,
    "pycharm": {
     "name": "#%%\n"
    }
   }
  },
  {
   "cell_type": "code",
   "execution_count": null,
   "outputs": [],
   "source": [
    "from itertools import combinations\n",
    "from scipy.stats import ttest_ind\n",
    "\n",
    "def t_tests(df: pd.DataFrame):\n",
    "    \"\"\"\n",
    "    :param df: (bot, data point) x 1 -> score\n",
    "    :return: p values of test on each bot pair (pd.Series)\n",
    "    \"\"\"\n",
    "    bots = set(df.index.get_level_values(0))\n",
    "    bot_pairs = list(combinations(bots, 2))\n",
    "    result = {}\n",
    "    for ba, bb in bot_pairs:\n",
    "        a = df.xs(ba).to_numpy().squeeze()\n",
    "        b = df.xs(bb).to_numpy().squeeze()\n",
    "        t, p = ttest_ind(a, b)\n",
    "        result[(ba, bb)] = p\n",
    "    result_series = pd.Series(result.values(), result)\n",
    "    return result_series\n",
    "\n",
    "pvalues0 = get_singly_annotated(surge_annotations).groupby(\n",
    "    [sym.category, sym.label]\n",
    ").apply(\n",
    "    t_tests\n",
    ")\n",
    "pvalues0"
   ],
   "metadata": {
    "collapsed": false,
    "pycharm": {
     "name": "#%%\n"
    }
   }
  },
  {
   "cell_type": "code",
   "execution_count": null,
   "outputs": [],
   "source": [
    "pvalues = pvalues0.reset_index().to_numpy()\n",
    "bucket_thresholds = [0.001, 0.01, 0.05]\n",
    "buckets = {}\n",
    "for row in pvalues:\n",
    "    category, label, values = row[0], row[1], row[2:]\n",
    "    buckets.setdefault(category, {}).setdefault(label, {k: 0 for k in bucket_thresholds})\n",
    "    for val in values:\n",
    "        for thresh in bucket_thresholds:\n",
    "            if val < thresh:\n",
    "                buckets[category][label][thresh] += 1\n",
    "buckets"
   ],
   "metadata": {
    "collapsed": false,
    "pycharm": {
     "name": "#%%\n"
    }
   }
  },
  {
   "cell_type": "code",
   "execution_count": null,
   "outputs": [],
   "source": [
    "sens_df = pd.DataFrame.from_dict({(i,j): buckets[i][j]\n",
    "                           for i in buckets.keys()\n",
    "                           for j in buckets[i].keys()},\n",
    "                       orient='index')\n",
    "sens_df"
   ],
   "metadata": {
    "collapsed": false,
    "pycharm": {
     "name": "#%%\n"
    }
   }
  },
  {
   "cell_type": "code",
   "execution_count": null,
   "outputs": [],
   "source": [
    "sens_df.to_csv('results/paper/sensitivity_table.csv')"
   ],
   "metadata": {
    "collapsed": false,
    "pycharm": {
     "name": "#%%\n"
    }
   }
  },
  {
   "cell_type": "code",
   "execution_count": null,
   "outputs": [],
   "source": [
    "# Build the plot\n",
    "plt.rcParams[\"figure.figsize\"] = (10,10)\n",
    "\n",
    "fig, ax = plt.subplots()\n",
    "\n",
    "def plot_by_category(ax, df, category, color, xaxis_start, symbols):\n",
    "    extracted = df[df[\"category\"] == category]\n",
    "\n",
    "    botpairs_pvalues = extracted.iloc[:,2:]\n",
    "    botpairs = botpairs_pvalues.columns.tolist()\n",
    "    labels = extracted['label'].tolist()\n",
    "    xaxis_end = xaxis_start + len(labels)\n",
    "\n",
    "    for col in botpairs_pvalues:\n",
    "        pvalues = botpairs_pvalues[col]\n",
    "        xs = np.arange(xaxis_start, xaxis_end)\n",
    "        ax.scatter(xs,\n",
    "                   pvalues,\n",
    "                   marker=symbols[tuple(sorted(col))],\n",
    "                   edgecolors=color,\n",
    "                   facecolors='none')\n",
    "\n",
    "    return labels, xaxis_end\n",
    "\n",
    "likert_turn_color = \"blue\"\n",
    "likert_dialogue_color = \"red\"\n",
    "comparative_color = \"green\"\n",
    "behavior_color = \"orange\"\n",
    "\n",
    "symbols = {\n",
    "    tuple(sorted(('emora', 'blender2_3B'))): 'o',\n",
    "    tuple(sorted(('emora', 'bart_fid_rag_bcb'))): 'v',\n",
    "    tuple(sorted(('emora', 'rerank_blender'))): 's',\n",
    "    tuple(sorted(('bart_fid_rag_bcb', 'blender2_3B'))): 'P',\n",
    "    tuple(sorted(('rerank_blender', 'blender2_3B'))): '*',\n",
    "    tuple(sorted(('rerank_blender', 'bart_fid_rag_bcb'))): 'D'\n",
    "}\n",
    "\n",
    "pvalues = pvalues0.reset_index()\n",
    "ltl, likert_dialogue_start = plot_by_category(ax, pvalues, \"likert turn\", likert_turn_color, 0, symbols)\n",
    "ldl, comparative_start = plot_by_category(ax, pvalues, \"likert dialogue\", likert_dialogue_color, likert_dialogue_start, symbols)\n",
    "cl, behavior_start = plot_by_category(ax, pvalues, \"comparative\", comparative_color, comparative_start, symbols)\n",
    "bl, misc_start = plot_by_category(ax, pvalues, \"behavior\", behavior_color, behavior_start, symbols)\n",
    "\n",
    "category_range = {likert_dialogue_start: likert_turn_color, comparative_start: likert_dialogue_color, behavior_start: comparative_color, misc_start: behavior_color}\n",
    "xaxis_colors = {}\n",
    "prev_idx = 0\n",
    "for idx, color in category_range.items():\n",
    "    for i in range(prev_idx, idx):\n",
    "        xaxis_colors[i] = color\n",
    "    prev_idx = idx\n",
    "\n",
    "ax.set_xlabel(\"Label\")\n",
    "ax.set_ylabel(\"P-value (10th root scale)\")\n",
    "xpos = np.arange(len(pvalues))\n",
    "import math\n",
    "import numpy as np\n",
    "root_scale = 10\n",
    "def myscale(vals):\n",
    "    return np.array([\n",
    "        v ** (1/root_scale) for v in vals\n",
    "    ])\n",
    "def myscaleinv(vals):\n",
    "    return np.array([\n",
    "        v ** root_scale for v in vals\n",
    "    ])\n",
    "plt.yscale('function', functions=(myscale, myscaleinv))\n",
    "ax.set_yticks([y ** 10 for y in np.arange(0, 1, 0.1)])\n",
    "plt.ylim(math.pow(10, -67), 1)\n",
    "ax.set_xticks(xpos)\n",
    "ax.set_xticklabels(ltl+ldl+cl+bl, rotation=90)\n",
    "for tickloc, ticklabel in zip(plt.gca().get_xticks(), plt.gca().get_xticklabels()):\n",
    "    ticklabel.set_color(xaxis_colors[tickloc])\n",
    "ax.set_title('Evaluation Sensitivity to Bot Differences')\n",
    "ax.yaxis.grid(True)\n",
    "\n",
    "from matplotlib.ticker import FormatStrFormatter\n",
    "ax.yaxis.set_major_formatter(FormatStrFormatter('%.5f'))\n",
    "\n",
    "# Save the figure and show\n",
    "plt.tight_layout()\n",
    "plt.show()"
   ],
   "metadata": {
    "collapsed": false,
    "pycharm": {
     "name": "#%%\n"
    }
   }
  },
  {
   "cell_type": "code",
   "execution_count": null,
   "outputs": [],
   "source": [],
   "metadata": {
    "collapsed": false,
    "pycharm": {
     "name": "#%%\n"
    }
   }
  }
 ],
 "metadata": {
  "kernelspec": {
   "display_name": "Python 3",
   "language": "python",
   "name": "python3"
  },
  "language_info": {
   "codemirror_mode": {
    "name": "ipython",
    "version": 2
   },
   "file_extension": ".py",
   "mimetype": "text/x-python",
   "name": "python",
   "nbconvert_exporter": "python",
   "pygments_lexer": "ipython2",
   "version": "2.7.6"
  }
 },
 "nbformat": 4,
 "nbformat_minor": 0
}