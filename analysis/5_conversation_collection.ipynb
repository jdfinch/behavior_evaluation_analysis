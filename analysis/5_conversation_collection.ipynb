{
 "cells": [
  {
   "cell_type": "code",
   "execution_count": 1,
   "outputs": [],
   "source": [
    "from analysis import *"
   ],
   "metadata": {
    "collapsed": false,
    "pycharm": {
     "name": "#%%\n"
    }
   }
  },
  {
   "cell_type": "code",
   "execution_count": 2,
   "outputs": [
    {
     "data": {
      "text/plain": "                                                                              0  \\\nbot            category        label           item                               \nblender2_3B    likert dialogue proactive       (1048,38)_blender2_3B          4   \n                               engaging        (1048,38)_blender2_3B          4   \n                               relevant        (1048,38)_blender2_3B          3   \n                               emotional       (1048,38)_blender2_3B          4   \n                               grammatical     (1048,38)_blender2_3B          4   \n...                                                                          ..   \nrerank_blender behavior        preference info ((441,26)_rerank_blender, 14)  1   \n                               life info       ((441,26)_rerank_blender, 14)  0   \n                               antisocial      ((441,26)_rerank_blender, 14)  0   \n                               correct fact    ((441,26)_rerank_blender, 14)  1   \n                               incorrect fact  ((441,26)_rerank_blender, 14)  0   \n\n                                                                                1  \\\nbot            category        label           item                                 \nblender2_3B    likert dialogue proactive       (1048,38)_blender2_3B          4.0   \n                               engaging        (1048,38)_blender2_3B          5.0   \n                               relevant        (1048,38)_blender2_3B          4.0   \n                               emotional       (1048,38)_blender2_3B          5.0   \n                               grammatical     (1048,38)_blender2_3B          4.0   \n...                                                                           ...   \nrerank_blender behavior        preference info ((441,26)_rerank_blender, 14)  NaN   \n                               life info       ((441,26)_rerank_blender, 14)  NaN   \n                               antisocial      ((441,26)_rerank_blender, 14)  NaN   \n                               correct fact    ((441,26)_rerank_blender, 14)  NaN   \n                               incorrect fact  ((441,26)_rerank_blender, 14)  NaN   \n\n                                                                               2  \nbot            category        label           item                               \nblender2_3B    likert dialogue proactive       (1048,38)_blender2_3B         NaN  \n                               engaging        (1048,38)_blender2_3B         NaN  \n                               relevant        (1048,38)_blender2_3B         NaN  \n                               emotional       (1048,38)_blender2_3B         NaN  \n                               grammatical     (1048,38)_blender2_3B         NaN  \n...                                                                           ..  \nrerank_blender behavior        preference info ((441,26)_rerank_blender, 14) NaN  \n                               life info       ((441,26)_rerank_blender, 14) NaN  \n                               antisocial      ((441,26)_rerank_blender, 14) NaN  \n                               correct fact    ((441,26)_rerank_blender, 14) NaN  \n                               incorrect fact  ((441,26)_rerank_blender, 14) NaN  \n\n[151824 rows x 3 columns]",
      "text/html": "<div>\n<style scoped>\n    .dataframe tbody tr th:only-of-type {\n        vertical-align: middle;\n    }\n\n    .dataframe tbody tr th {\n        vertical-align: top;\n    }\n\n    .dataframe thead th {\n        text-align: right;\n    }\n</style>\n<table border=\"1\" class=\"dataframe\">\n  <thead>\n    <tr style=\"text-align: right;\">\n      <th></th>\n      <th></th>\n      <th></th>\n      <th></th>\n      <th>0</th>\n      <th>1</th>\n      <th>2</th>\n    </tr>\n    <tr>\n      <th>bot</th>\n      <th>category</th>\n      <th>label</th>\n      <th>item</th>\n      <th></th>\n      <th></th>\n      <th></th>\n    </tr>\n  </thead>\n  <tbody>\n    <tr>\n      <th rowspan=\"5\" valign=\"top\">blender2_3B</th>\n      <th rowspan=\"5\" valign=\"top\">likert dialogue</th>\n      <th>proactive</th>\n      <th>(1048,38)_blender2_3B</th>\n      <td>4</td>\n      <td>4.0</td>\n      <td>NaN</td>\n    </tr>\n    <tr>\n      <th>engaging</th>\n      <th>(1048,38)_blender2_3B</th>\n      <td>4</td>\n      <td>5.0</td>\n      <td>NaN</td>\n    </tr>\n    <tr>\n      <th>relevant</th>\n      <th>(1048,38)_blender2_3B</th>\n      <td>3</td>\n      <td>4.0</td>\n      <td>NaN</td>\n    </tr>\n    <tr>\n      <th>emotional</th>\n      <th>(1048,38)_blender2_3B</th>\n      <td>4</td>\n      <td>5.0</td>\n      <td>NaN</td>\n    </tr>\n    <tr>\n      <th>grammatical</th>\n      <th>(1048,38)_blender2_3B</th>\n      <td>4</td>\n      <td>4.0</td>\n      <td>NaN</td>\n    </tr>\n    <tr>\n      <th>...</th>\n      <th>...</th>\n      <th>...</th>\n      <th>...</th>\n      <td>...</td>\n      <td>...</td>\n      <td>...</td>\n    </tr>\n    <tr>\n      <th rowspan=\"5\" valign=\"top\">rerank_blender</th>\n      <th rowspan=\"5\" valign=\"top\">behavior</th>\n      <th>preference info</th>\n      <th>((441,26)_rerank_blender, 14)</th>\n      <td>1</td>\n      <td>NaN</td>\n      <td>NaN</td>\n    </tr>\n    <tr>\n      <th>life info</th>\n      <th>((441,26)_rerank_blender, 14)</th>\n      <td>0</td>\n      <td>NaN</td>\n      <td>NaN</td>\n    </tr>\n    <tr>\n      <th>antisocial</th>\n      <th>((441,26)_rerank_blender, 14)</th>\n      <td>0</td>\n      <td>NaN</td>\n      <td>NaN</td>\n    </tr>\n    <tr>\n      <th>correct fact</th>\n      <th>((441,26)_rerank_blender, 14)</th>\n      <td>1</td>\n      <td>NaN</td>\n      <td>NaN</td>\n    </tr>\n    <tr>\n      <th>incorrect fact</th>\n      <th>((441,26)_rerank_blender, 14)</th>\n      <td>0</td>\n      <td>NaN</td>\n      <td>NaN</td>\n    </tr>\n  </tbody>\n</table>\n<p>151824 rows × 3 columns</p>\n</div>"
     },
     "execution_count": 2,
     "metadata": {},
     "output_type": "execute_result"
    }
   ],
   "source": [
    "surge_annotations = data.surge_evaluation.annotation_dataframe()\n",
    "surge_annotations_comparative = data.surge_evaluation.comparative_annotation_dataframe()\n",
    "\n",
    "surge_annotations"
   ],
   "metadata": {
    "collapsed": false,
    "pycharm": {
     "name": "#%%\n"
    }
   }
  },
  {
   "cell_type": "markdown",
   "source": [
    "### Conversation Data Summary Statistics\n"
   ],
   "metadata": {
    "collapsed": false,
    "pycharm": {
     "name": "#%% md\n"
    }
   }
  },
  {
   "cell_type": "code",
   "execution_count": 3,
   "outputs": [
    {
     "data": {
      "text/plain": "                        0\ndialogues         404.000\nmean turns         30.287\nuser turn length   11.310\ninteractors        46.000",
      "text/html": "<div>\n<style scoped>\n    .dataframe tbody tr th:only-of-type {\n        vertical-align: middle;\n    }\n\n    .dataframe tbody tr th {\n        vertical-align: top;\n    }\n\n    .dataframe thead th {\n        text-align: right;\n    }\n</style>\n<table border=\"1\" class=\"dataframe\">\n  <thead>\n    <tr style=\"text-align: right;\">\n      <th></th>\n      <th>0</th>\n    </tr>\n  </thead>\n  <tbody>\n    <tr>\n      <th>dialogues</th>\n      <td>404.000</td>\n    </tr>\n    <tr>\n      <th>mean turns</th>\n      <td>30.287</td>\n    </tr>\n    <tr>\n      <th>user turn length</th>\n      <td>11.310</td>\n    </tr>\n    <tr>\n      <th>interactors</th>\n      <td>46.000</td>\n    </tr>\n  </tbody>\n</table>\n</div>"
     },
     "execution_count": 3,
     "metadata": {},
     "output_type": "execute_result"
    }
   ],
   "source": [
    "df = interactor_summary_stats(\n",
    "    data.dialogue_collection,\n",
    "    reload='results/conversation_summary_stats'\n",
    ")\n",
    "df = prettify(df, float_prec=3, to_csv=\"results/paper/conversation_data_summary\", index=False, header=False)\n",
    "df"
   ],
   "metadata": {
    "collapsed": false,
    "pycharm": {
     "name": "#%%\n"
    }
   }
  }
 ],
 "metadata": {
  "kernelspec": {
   "display_name": "Python 3",
   "language": "python",
   "name": "python3"
  },
  "language_info": {
   "codemirror_mode": {
    "name": "ipython",
    "version": 2
   },
   "file_extension": ".py",
   "mimetype": "text/x-python",
   "name": "python",
   "nbconvert_exporter": "python",
   "pygments_lexer": "ipython2",
   "version": "2.7.6"
  }
 },
 "nbformat": 4,
 "nbformat_minor": 0
}