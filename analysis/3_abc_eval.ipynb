{
 "cells": [
  {
   "cell_type": "code",
   "execution_count": null,
   "metadata": {
    "collapsed": true
   },
   "outputs": [],
   "source": [
    "import pandas as pd\n",
    "from analysis import *"
   ]
  },
  {
   "cell_type": "code",
   "execution_count": null,
   "outputs": [],
   "source": [
    "surge_annotations = data.surge_evaluation.annotation_dataframe()\n",
    "seeds = [1, 1, 1, 1, 1, 1, 1, 1, 1, 1, 1, 1, 1, 1, 1, 1]\n",
    "for s, b in zip(seeds, behavior):\n",
    "    print(get_example(\n",
    "        data.surge_evaluation,\n",
    "        category.behavior, b, context=0, mark=1,\n",
    "        seed=s,\n",
    "        annotations=surge_annotations\n",
    "    ))"
   ],
   "metadata": {
    "collapsed": false,
    "pycharm": {
     "name": "#%%\n"
    }
   }
  },
  {
   "cell_type": "markdown",
   "source": [
    "### Pilot Filtering"
   ],
   "metadata": {
    "collapsed": false,
    "pycharm": {
     "name": "#%% md\n"
    }
   }
  },
  {
   "cell_type": "code",
   "execution_count": null,
   "outputs": [],
   "source": [
    "from copy import deepcopy\n",
    "def filter_pilot(pilot, qualifications):\n",
    "    pilot_copy = deepcopy(pilot)\n",
    "    work_units_to_keep = set()\n",
    "    for work_unit_id, work_unit in pilot.work_units.items():\n",
    "        if 'likert' not in work_unit.task and 'comparative' not in work_unit.task:\n",
    "            if qualifications[work_unit.worker_id][work_unit.task]:\n",
    "                work_units_to_keep.add(work_unit_id)\n",
    "\n",
    "    for dialogue_id, dialogue in pilot.dialogues.items():\n",
    "        for turn_idx, turn in enumerate(dialogue.turns):\n",
    "            for label, annotations in turn.behavior_annotations.items():\n",
    "                annotations_to_keep = [annot for annot in annotations if annot.work_unit_id in work_units_to_keep]\n",
    "                pilot_copy.dialogues[dialogue_id].turns[turn_idx].behavior_annotations[label] = annotations_to_keep\n",
    "\n",
    "    work_unit_objects_to_keep = {wid: u for wid, u in pilot.work_units.items() if wid in work_units_to_keep}\n",
    "    pilot_copy.work_units = work_unit_objects_to_keep\n",
    "\n",
    "    return pilot_copy"
   ],
   "metadata": {
    "collapsed": false,
    "pycharm": {
     "name": "#%%\n"
    }
   }
  },
  {
   "cell_type": "code",
   "execution_count": null,
   "outputs": [],
   "source": [
    "def get_task(dialogue_id):\n",
    "    if 'personal_information' in dialogue_id:\n",
    "        task = 'personal_information'\n",
    "    elif 'grammar' in dialogue_id:\n",
    "        task = 'interpretability'\n",
    "    else:\n",
    "        task = dialogue_id[:dialogue_id.find('_')]\n",
    "    return task"
   ],
   "metadata": {
    "collapsed": false,
    "pycharm": {
     "name": "#%%\n"
    }
   }
  },
  {
   "cell_type": "code",
   "execution_count": null,
   "outputs": [],
   "source": [
    "# Remove non-Phd+ workers from pilots 0 and 1\n",
    "phd_plus = [\"liyan\", \"zihao\", \"jinho\", \"han\", \"greg\", \"sichang\"]\n",
    "under = [\"sophy\", \"jessica\", \"samir\", \"angela\", \"chen\", \"dan\"]\n",
    "\n",
    "tasks_pilot0 = {u.task for u in data.annotation_pilots[0].work_units.values()}\n",
    "qualifications_pilot0 = {w: {t: True for t in tasks_pilot0} for w in phd_plus}\n",
    "qualifications_pilot0.update({w: {t: False for t in tasks_pilot0} for w in under})\n",
    "grad_filtered_pilot0 = filter_pilot(data.annotation_pilots[0], qualifications_pilot0)\n",
    "\n",
    "tasks_pilot1 = {u.task for u in data.annotation_pilots[1].work_units.values()}\n",
    "qualifications_pilot1 = {w: {t: True for t in tasks_pilot1} for w in phd_plus}\n",
    "qualifications_pilot1.update({w: {t: False for t in tasks_pilot1} for w in under})\n",
    "grad_filtered_pilot1 = filter_pilot(data.annotation_pilots[1], qualifications_pilot1)"
   ],
   "metadata": {
    "collapsed": false,
    "pycharm": {
     "name": "#%%\n"
    }
   }
  },
  {
   "cell_type": "code",
   "execution_count": null,
   "outputs": [],
   "source": [
    "grad_pilots = [grad_filtered_pilot0, grad_filtered_pilot1, *data.annotation_pilots[2:]]"
   ],
   "metadata": {
    "collapsed": false,
    "pycharm": {
     "name": "#%%\n"
    }
   }
  },
  {
   "cell_type": "code",
   "execution_count": null,
   "outputs": [],
   "source": [
    "qualifications_pilot0 = {w: {t: True for t in tasks_pilot0} for w in under}\n",
    "qualifications_pilot0.update({w: {t: False for t in tasks_pilot0} for w in phd_plus})\n",
    "undergrad_filtered_pilot0 = filter_pilot(data.annotation_pilots[0], qualifications_pilot0)\n",
    "\n",
    "qualifications_pilot1 = {w: {t: True for t in tasks_pilot1} for w in under}\n",
    "qualifications_pilot1.update({w: {t: False for t in tasks_pilot1} for w in phd_plus})\n",
    "undergrad_filtered_pilot1 = filter_pilot(data.annotation_pilots[1], qualifications_pilot1)"
   ],
   "metadata": {
    "collapsed": false,
    "pycharm": {
     "name": "#%%\n"
    }
   }
  },
  {
   "cell_type": "code",
   "execution_count": null,
   "outputs": [],
   "source": [
    "undergrad_pilots = [undergrad_filtered_pilot0, undergrad_filtered_pilot1, *data.annotation_pilots[2:]]"
   ],
   "metadata": {
    "collapsed": false
   }
  },
  {
   "cell_type": "markdown",
   "source": [
    "# 3 Behavior Evaluation Procedure"
   ],
   "metadata": {
    "collapsed": false
   }
  },
  {
   "cell_type": "markdown",
   "source": [
    "### Behavior Examples"
   ],
   "metadata": {
    "collapsed": false
   }
  },
  {
   "cell_type": "code",
   "execution_count": null,
   "outputs": [],
   "source": [
    "seeds = [1, 1, 1, 1, 1, 1, 1, 1, 1, 1, 1, 1, 1, 1, 1, 1]\n",
    "for s, b in zip(seeds, behavior):\n",
    "    print(get_example(\n",
    "        data.surge_evaluation,\n",
    "        category.behavior, b, context=0, mark=1,\n",
    "        seed=s,\n",
    "        annotations=surge_annotations\n",
    "    ))"
   ],
   "metadata": {
    "collapsed": false
   }
  },
  {
   "cell_type": "markdown",
   "source": [
    "### Behavior Annotation Pilot Agreements"
   ],
   "metadata": {
    "collapsed": false
   }
  },
  {
   "cell_type": "code",
   "execution_count": null,
   "outputs": [],
   "source": [
    "@to_file\n",
    "def agreement_summaries(evaluations):\n",
    "    summaries = []\n",
    "    for evaluation in evaluations:\n",
    "        annotations = evaluation.annotation_dataframe()\n",
    "        agreement = agreement_dataframe(annotations, ci=False)\n",
    "        macros = agreement.dropna().mean()\n",
    "        summaries.append(macros)\n",
    "    sum_df = pd.concat(summaries, axis=1).transpose()\n",
    "    sum_df.set_axis(\n",
    "        [stat.kripp_alpha, stat.n],\n",
    "        inplace=True, axis=1\n",
    "    )\n",
    "    # sum_df.drop('x', axis=1, inplace=True)\n",
    "    return sum_df"
   ],
   "metadata": {
    "collapsed": false,
    "pycharm": {
     "name": "#%%\n"
    }
   }
  },
  {
   "cell_type": "code",
   "execution_count": null,
   "outputs": [],
   "source": [
    "# undergraduates\n",
    "distributions(undergrad_pilots)"
   ],
   "metadata": {
    "collapsed": false,
    "pycharm": {
     "name": "#%%\n"
    }
   }
  },
  {
   "cell_type": "code",
   "execution_count": null,
   "outputs": [],
   "source": [
    "agreement_summaries(undergrad_pilots)"
   ],
   "metadata": {
    "collapsed": false,
    "pycharm": {
     "name": "#%%\n"
    }
   }
  },
  {
   "cell_type": "code",
   "execution_count": null,
   "outputs": [],
   "source": [
    "# graduates\n",
    "distributions(grad_pilots)"
   ],
   "metadata": {
    "collapsed": false,
    "pycharm": {
     "name": "#%%\n"
    }
   }
  },
  {
   "cell_type": "code",
   "execution_count": null,
   "outputs": [],
   "source": [
    "agreement_summaries(grad_pilots)"
   ],
   "metadata": {
    "collapsed": false,
    "pycharm": {
     "name": "#%%\n"
    }
   }
  },
  {
   "cell_type": "code",
   "execution_count": null,
   "outputs": [],
   "source": [
    "# all\n",
    "distributions(data.annotation_pilots)"
   ],
   "metadata": {
    "collapsed": false,
    "pycharm": {
     "name": "#%%\n"
    }
   }
  },
  {
   "cell_type": "code",
   "execution_count": null,
   "outputs": [],
   "source": [
    "# todo - include ALL pilot annotations in agreement calculation (not just double annotation)\n",
    "agreement_summaries(data.annotation_pilots)"
   ],
   "metadata": {
    "collapsed": false
   }
  },
  {
   "cell_type": "markdown",
   "source": [
    "### Behavior Annotation Pilot Screening"
   ],
   "metadata": {
    "collapsed": false
   }
  },
  {
   "cell_type": "code",
   "execution_count": null,
   "outputs": [],
   "source": [
    "across_evaluations(\n",
    "    data.annotation_pilots_onboarding[2:5],\n",
    "    screening_rates_by_label,\n",
    "    load='results/annotation_pilot_screening'\n",
    ")"
   ],
   "metadata": {
    "collapsed": false
   }
  }
 ],
 "metadata": {
  "kernelspec": {
   "display_name": "Python 3",
   "language": "python",
   "name": "python3"
  },
  "language_info": {
   "codemirror_mode": {
    "name": "ipython",
    "version": 2
   },
   "file_extension": ".py",
   "mimetype": "text/x-python",
   "name": "python",
   "nbconvert_exporter": "python",
   "pygments_lexer": "ipython2",
   "version": "2.7.6"
  }
 },
 "nbformat": 4,
 "nbformat_minor": 0
}
