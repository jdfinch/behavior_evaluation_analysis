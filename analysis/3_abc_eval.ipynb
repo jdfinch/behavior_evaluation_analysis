{
 "cells": [
  {
   "cell_type": "code",
   "execution_count": 1,
   "metadata": {
    "collapsed": true,
    "pycharm": {
     "name": "#%%\n"
    }
   },
   "outputs": [],
   "source": [
    "import pandas as pd\n",
    "from analysis import *"
   ]
  },
  {
   "cell_type": "code",
   "execution_count": 2,
   "outputs": [
    {
     "data": {
      "text/plain": "                                                                              0  \\\nbot            category        label           item                               \nblender2_3B    likert dialogue proactive       (1048,38)_blender2_3B          4   \n                               engaging        (1048,38)_blender2_3B          4   \n                               relevant        (1048,38)_blender2_3B          3   \n                               emotional       (1048,38)_blender2_3B          4   \n                               grammatical     (1048,38)_blender2_3B          4   \n...                                                                          ..   \nrerank_blender behavior        preference info ((441,26)_rerank_blender, 14)  1   \n                               life info       ((441,26)_rerank_blender, 14)  0   \n                               antisocial      ((441,26)_rerank_blender, 14)  0   \n                               correct fact    ((441,26)_rerank_blender, 14)  1   \n                               incorrect fact  ((441,26)_rerank_blender, 14)  0   \n\n                                                                                1  \\\nbot            category        label           item                                 \nblender2_3B    likert dialogue proactive       (1048,38)_blender2_3B          4.0   \n                               engaging        (1048,38)_blender2_3B          5.0   \n                               relevant        (1048,38)_blender2_3B          4.0   \n                               emotional       (1048,38)_blender2_3B          5.0   \n                               grammatical     (1048,38)_blender2_3B          4.0   \n...                                                                           ...   \nrerank_blender behavior        preference info ((441,26)_rerank_blender, 14)  NaN   \n                               life info       ((441,26)_rerank_blender, 14)  NaN   \n                               antisocial      ((441,26)_rerank_blender, 14)  NaN   \n                               correct fact    ((441,26)_rerank_blender, 14)  NaN   \n                               incorrect fact  ((441,26)_rerank_blender, 14)  NaN   \n\n                                                                               2  \nbot            category        label           item                               \nblender2_3B    likert dialogue proactive       (1048,38)_blender2_3B         NaN  \n                               engaging        (1048,38)_blender2_3B         NaN  \n                               relevant        (1048,38)_blender2_3B         NaN  \n                               emotional       (1048,38)_blender2_3B         NaN  \n                               grammatical     (1048,38)_blender2_3B         NaN  \n...                                                                           ..  \nrerank_blender behavior        preference info ((441,26)_rerank_blender, 14) NaN  \n                               life info       ((441,26)_rerank_blender, 14) NaN  \n                               antisocial      ((441,26)_rerank_blender, 14) NaN  \n                               correct fact    ((441,26)_rerank_blender, 14) NaN  \n                               incorrect fact  ((441,26)_rerank_blender, 14) NaN  \n\n[151824 rows x 3 columns]",
      "text/html": "<div>\n<style scoped>\n    .dataframe tbody tr th:only-of-type {\n        vertical-align: middle;\n    }\n\n    .dataframe tbody tr th {\n        vertical-align: top;\n    }\n\n    .dataframe thead th {\n        text-align: right;\n    }\n</style>\n<table border=\"1\" class=\"dataframe\">\n  <thead>\n    <tr style=\"text-align: right;\">\n      <th></th>\n      <th></th>\n      <th></th>\n      <th></th>\n      <th>0</th>\n      <th>1</th>\n      <th>2</th>\n    </tr>\n    <tr>\n      <th>bot</th>\n      <th>category</th>\n      <th>label</th>\n      <th>item</th>\n      <th></th>\n      <th></th>\n      <th></th>\n    </tr>\n  </thead>\n  <tbody>\n    <tr>\n      <th rowspan=\"5\" valign=\"top\">blender2_3B</th>\n      <th rowspan=\"5\" valign=\"top\">likert dialogue</th>\n      <th>proactive</th>\n      <th>(1048,38)_blender2_3B</th>\n      <td>4</td>\n      <td>4.0</td>\n      <td>NaN</td>\n    </tr>\n    <tr>\n      <th>engaging</th>\n      <th>(1048,38)_blender2_3B</th>\n      <td>4</td>\n      <td>5.0</td>\n      <td>NaN</td>\n    </tr>\n    <tr>\n      <th>relevant</th>\n      <th>(1048,38)_blender2_3B</th>\n      <td>3</td>\n      <td>4.0</td>\n      <td>NaN</td>\n    </tr>\n    <tr>\n      <th>emotional</th>\n      <th>(1048,38)_blender2_3B</th>\n      <td>4</td>\n      <td>5.0</td>\n      <td>NaN</td>\n    </tr>\n    <tr>\n      <th>grammatical</th>\n      <th>(1048,38)_blender2_3B</th>\n      <td>4</td>\n      <td>4.0</td>\n      <td>NaN</td>\n    </tr>\n    <tr>\n      <th>...</th>\n      <th>...</th>\n      <th>...</th>\n      <th>...</th>\n      <td>...</td>\n      <td>...</td>\n      <td>...</td>\n    </tr>\n    <tr>\n      <th rowspan=\"5\" valign=\"top\">rerank_blender</th>\n      <th rowspan=\"5\" valign=\"top\">behavior</th>\n      <th>preference info</th>\n      <th>((441,26)_rerank_blender, 14)</th>\n      <td>1</td>\n      <td>NaN</td>\n      <td>NaN</td>\n    </tr>\n    <tr>\n      <th>life info</th>\n      <th>((441,26)_rerank_blender, 14)</th>\n      <td>0</td>\n      <td>NaN</td>\n      <td>NaN</td>\n    </tr>\n    <tr>\n      <th>antisocial</th>\n      <th>((441,26)_rerank_blender, 14)</th>\n      <td>0</td>\n      <td>NaN</td>\n      <td>NaN</td>\n    </tr>\n    <tr>\n      <th>correct fact</th>\n      <th>((441,26)_rerank_blender, 14)</th>\n      <td>1</td>\n      <td>NaN</td>\n      <td>NaN</td>\n    </tr>\n    <tr>\n      <th>incorrect fact</th>\n      <th>((441,26)_rerank_blender, 14)</th>\n      <td>0</td>\n      <td>NaN</td>\n      <td>NaN</td>\n    </tr>\n  </tbody>\n</table>\n<p>151824 rows × 3 columns</p>\n</div>"
     },
     "execution_count": 2,
     "metadata": {},
     "output_type": "execute_result"
    }
   ],
   "source": [
    "surge_annotations = data.surge_evaluation.annotation_dataframe()\n",
    "surge_annotations_comparative = data.surge_evaluation.comparative_annotation_dataframe()\n",
    "\n",
    "surge_annotations"
   ],
   "metadata": {
    "collapsed": false,
    "pycharm": {
     "name": "#%%\n"
    }
   }
  },
  {
   "cell_type": "markdown",
   "source": [
    "# 3 Behavior Evaluation Procedure"
   ],
   "metadata": {
    "collapsed": false,
    "pycharm": {
     "name": "#%% md\n"
    }
   }
  },
  {
   "cell_type": "markdown",
   "source": [
    "### Behavior Examples"
   ],
   "metadata": {
    "collapsed": false,
    "pycharm": {
     "name": "#%% md\n"
    }
   }
  },
  {
   "cell_type": "code",
   "execution_count": 3,
   "outputs": [
    {
     "name": "stdout",
     "output_type": "stream",
     "text": [
      "User:  Like he doesn't respect you or your time?\n",
      "Sys:   No, he just tries to make me do things I'm not interested in. It's really annoying.\n",
      "Label: antisocial = 1\n",
      "\n",
      "User:  Yes you are right. Have you taken any trips recently\n",
      "Sys:   No, I haven't, but I would love to go on a trip soon. I've always wanted to go to hawaii, but it's been a while since I've visited there.\n",
      "Label: commonsense contradiction = 1\n",
      "\n",
      "User:  I don't have a sister, but I do have a brother!\n",
      "Sys:   Me neither! I have always wanted an older sister, though. Do you wish you had siblings?\n",
      "Label: partner contradiction = 1\n",
      "\n",
      "User:  speak to me in spanish\n",
      "Sys:   That would be so cool! I think I'd like to learn spanish. I think it would be fun to be able to communicate with people from all over the world!\n",
      "Label: self contradiction = 1\n",
      "\n",
      "User:  i find it very confusing\n",
      "Sys:   The road which leads to the road is privately owned (initially by the newds family) and payment is required to drive down the gravel road, although it can be walked for free.\n",
      "Label: ignore = 1\n",
      "\n",
      "User:  Oh was it? I don't recognize his name.\n",
      "Sys:   Yes, it was. He's one of the most famous modern producers. But he really came into his own around 2010 with the black hippy group.\n",
      "Label: incorrect fact = 1\n",
      "\n",
      "User:  I've heard great things about the beaches in Florida - what is the weather like over there?\n",
      "Sys:   It's going to be a beautiful vacation! I can't wait to see all of the beautiful beaches, since it's been a long time since I've visited florida.\n",
      "Label: correct fact = 1\n",
      "\n",
      "User:  Do I know you before?\n",
      "Sys:   No, I've never met you before, but I do know that you are an american indie rock band from rochester, new york.\n",
      "Label: irrelevant = 1\n",
      "\n",
      "User:  Do you like it there?\n",
      "Sys:   I do like it here. It's a great place to live. What do you do for a living?\n",
      "Label: redundant = 1\n",
      "\n",
      "User:  I do like music! I mostly listen to rap, though. I haven't heard of that band. Do you recommend?\n",
      "Sys:   I've heard of them before. They're from rochester, new york, and they're pretty good! I like their second album, \"content\", which was released in 2017.\n",
      "Label: lack of empathy = 1\n",
      "\n",
      "User:  I like anything my mom makes.\n",
      "Sys:   That's nice, what kind of food is your mom? Do like mexican food?\n",
      "Label: uninterpretable = 1\n",
      "\n",
      "User:  And how can they be what you like while it's annoying?\n",
      "Sys:   Well, I think they have to be what they are while they're annoying, because they're so unique. They don't sound like anything else.\n",
      "Label: empathetic = 1\n",
      "\n",
      "User:  What do you mean by that?\n",
      "Sys:   I'm just not a fan of them. They are not my favorite rock band. I just don't care for their music.\n",
      "Label: follow up = 1\n",
      "\n",
      "User:  same! idk how people do it\n",
      "Sys:   Right. I hope at least one of the v r devices becomes less expensive soon! But, I mean, I have used those mobile apps that let you see different pieces of furniture in the room. Have you heard of something like that?\n",
      "Label: topic switch = 1\n",
      "\n",
      "User:  Yes, it is very interesting.\n",
      "Sys:   I talk to so many people who are bored with their job. I'm glad you appreciate yours. Do you ever get bored with it?\n",
      "Label: life info = 1\n",
      "\n",
      "User:  Yes I have!\n",
      "Sys:   Awesome! I think virtual reality takes gaming to a whole new level since you really can feel like you are a part of the game's world.\n",
      "Label: preference info = 1\n",
      "\n"
     ]
    }
   ],
   "source": [
    "seeds = [1, 1, 1, 1, 1, 1, 1, 1, 1, 1, 1, 1, 1, 1, 1, 1]\n",
    "for s, b in zip(seeds, behavior):\n",
    "    print(get_example(\n",
    "        data.surge_evaluation,\n",
    "        category.behavior, b, context=0, mark=1,\n",
    "        seed=s,\n",
    "        annotations=surge_annotations\n",
    "    ))"
   ],
   "metadata": {
    "collapsed": false,
    "pycharm": {
     "name": "#%%\n"
    }
   }
  },
  {
   "cell_type": "markdown",
   "source": [
    "### Behavior Annotation Pilot Agreements"
   ],
   "metadata": {
    "collapsed": false,
    "pycharm": {
     "name": "#%% md\n"
    }
   }
  },
  {
   "cell_type": "code",
   "execution_count": 4,
   "outputs": [],
   "source": [
    "@to_file\n",
    "def agreement_summaries(evaluations):\n",
    "    summaries = []\n",
    "    for evaluation in evaluations:\n",
    "        annotations = evaluation.annotation_dataframe()\n",
    "        agreement = agreement_dataframe(annotations, ci=False)\n",
    "        macros = agreement.dropna().mean()\n",
    "        summaries.append(macros)\n",
    "    sum_df = pd.concat(summaries, axis=1).transpose()\n",
    "    sum_df.set_axis(\n",
    "        [stat.kripp_alpha, 'x', stat.fleiss_kappa, stat.n],\n",
    "        inplace=True, axis=1\n",
    "    )\n",
    "    sum_df.drop('x', axis=1, inplace=True)\n",
    "    return sum_df"
   ],
   "metadata": {
    "collapsed": false,
    "pycharm": {
     "name": "#%%\n"
    }
   }
  },
  {
   "cell_type": "code",
   "execution_count": 5,
   "outputs": [
    {
     "data": {
      "text/plain": "   Krippendorff's alpha  Fleiss' kappa           n\n0              0.112585       0.105706   65.000000\n1              0.377984       0.356535   15.000000\n2              0.182412       0.154556   15.500000\n3              0.261712       0.172157  120.486486\n4              0.351674       0.294750   41.222222",
      "text/html": "<div>\n<style scoped>\n    .dataframe tbody tr th:only-of-type {\n        vertical-align: middle;\n    }\n\n    .dataframe tbody tr th {\n        vertical-align: top;\n    }\n\n    .dataframe thead th {\n        text-align: right;\n    }\n</style>\n<table border=\"1\" class=\"dataframe\">\n  <thead>\n    <tr style=\"text-align: right;\">\n      <th></th>\n      <th>Krippendorff's alpha</th>\n      <th>Fleiss' kappa</th>\n      <th>n</th>\n    </tr>\n  </thead>\n  <tbody>\n    <tr>\n      <th>0</th>\n      <td>0.112585</td>\n      <td>0.105706</td>\n      <td>65.000000</td>\n    </tr>\n    <tr>\n      <th>1</th>\n      <td>0.377984</td>\n      <td>0.356535</td>\n      <td>15.000000</td>\n    </tr>\n    <tr>\n      <th>2</th>\n      <td>0.182412</td>\n      <td>0.154556</td>\n      <td>15.500000</td>\n    </tr>\n    <tr>\n      <th>3</th>\n      <td>0.261712</td>\n      <td>0.172157</td>\n      <td>120.486486</td>\n    </tr>\n    <tr>\n      <th>4</th>\n      <td>0.351674</td>\n      <td>0.294750</td>\n      <td>41.222222</td>\n    </tr>\n  </tbody>\n</table>\n</div>"
     },
     "execution_count": 5,
     "metadata": {},
     "output_type": "execute_result"
    }
   ],
   "source": [
    "# todo - include ALL pilot annotations in agreement calculation (not just double annotation)\n",
    "agreement_summaries(data.annotation_pilots)"
   ],
   "metadata": {
    "collapsed": false,
    "pycharm": {
     "name": "#%%\n"
    }
   }
  },
  {
   "cell_type": "markdown",
   "source": [
    "### Behavior Annotation Pilot Screening"
   ],
   "metadata": {
    "collapsed": false,
    "pycharm": {
     "name": "#%% md\n"
    }
   }
  },
  {
   "cell_type": "code",
   "execution_count": 6,
   "outputs": [
    {
     "data": {
      "text/plain": "                            attempted  passed  mistakes  accuracy   n\nround                                                                \n0     transitions                   4       4  6.000000  0.660621  11\n      knowledge                     4       4  2.666667  0.775214  12\n      consistency                   4       4  5.500000  0.647395  10\n      interpretability              4       4  0.250000  0.979167   4\n      commonsense                   4       4  2.000000  0.856456   8\n      sociality                     4       4  0.400000  0.960000   5\n1     transitions                   5       5  4.000000  0.750000   5\n      knowledge                     7       6  2.833333  0.772009  12\n      consistency                   4       4  5.090909  0.672116  11\n      interpretability              5       5  1.000000  0.913420   7\n      empathy                      10       8  4.700000  0.686667  20\n      personal_information          8       7  3.500000  0.766667  16\n      commonsense                   7       7  3.100000  0.777473  10\n      sociality                     4       4  0.750000  0.925000   4",
      "text/html": "<div>\n<style scoped>\n    .dataframe tbody tr th:only-of-type {\n        vertical-align: middle;\n    }\n\n    .dataframe tbody tr th {\n        vertical-align: top;\n    }\n\n    .dataframe thead th {\n        text-align: right;\n    }\n</style>\n<table border=\"1\" class=\"dataframe\">\n  <thead>\n    <tr style=\"text-align: right;\">\n      <th></th>\n      <th></th>\n      <th>attempted</th>\n      <th>passed</th>\n      <th>mistakes</th>\n      <th>accuracy</th>\n      <th>n</th>\n    </tr>\n    <tr>\n      <th>round</th>\n      <th></th>\n      <th></th>\n      <th></th>\n      <th></th>\n      <th></th>\n      <th></th>\n    </tr>\n  </thead>\n  <tbody>\n    <tr>\n      <th rowspan=\"6\" valign=\"top\">0</th>\n      <th>transitions</th>\n      <td>4</td>\n      <td>4</td>\n      <td>6.000000</td>\n      <td>0.660621</td>\n      <td>11</td>\n    </tr>\n    <tr>\n      <th>knowledge</th>\n      <td>4</td>\n      <td>4</td>\n      <td>2.666667</td>\n      <td>0.775214</td>\n      <td>12</td>\n    </tr>\n    <tr>\n      <th>consistency</th>\n      <td>4</td>\n      <td>4</td>\n      <td>5.500000</td>\n      <td>0.647395</td>\n      <td>10</td>\n    </tr>\n    <tr>\n      <th>interpretability</th>\n      <td>4</td>\n      <td>4</td>\n      <td>0.250000</td>\n      <td>0.979167</td>\n      <td>4</td>\n    </tr>\n    <tr>\n      <th>commonsense</th>\n      <td>4</td>\n      <td>4</td>\n      <td>2.000000</td>\n      <td>0.856456</td>\n      <td>8</td>\n    </tr>\n    <tr>\n      <th>sociality</th>\n      <td>4</td>\n      <td>4</td>\n      <td>0.400000</td>\n      <td>0.960000</td>\n      <td>5</td>\n    </tr>\n    <tr>\n      <th rowspan=\"8\" valign=\"top\">1</th>\n      <th>transitions</th>\n      <td>5</td>\n      <td>5</td>\n      <td>4.000000</td>\n      <td>0.750000</td>\n      <td>5</td>\n    </tr>\n    <tr>\n      <th>knowledge</th>\n      <td>7</td>\n      <td>6</td>\n      <td>2.833333</td>\n      <td>0.772009</td>\n      <td>12</td>\n    </tr>\n    <tr>\n      <th>consistency</th>\n      <td>4</td>\n      <td>4</td>\n      <td>5.090909</td>\n      <td>0.672116</td>\n      <td>11</td>\n    </tr>\n    <tr>\n      <th>interpretability</th>\n      <td>5</td>\n      <td>5</td>\n      <td>1.000000</td>\n      <td>0.913420</td>\n      <td>7</td>\n    </tr>\n    <tr>\n      <th>empathy</th>\n      <td>10</td>\n      <td>8</td>\n      <td>4.700000</td>\n      <td>0.686667</td>\n      <td>20</td>\n    </tr>\n    <tr>\n      <th>personal_information</th>\n      <td>8</td>\n      <td>7</td>\n      <td>3.500000</td>\n      <td>0.766667</td>\n      <td>16</td>\n    </tr>\n    <tr>\n      <th>commonsense</th>\n      <td>7</td>\n      <td>7</td>\n      <td>3.100000</td>\n      <td>0.777473</td>\n      <td>10</td>\n    </tr>\n    <tr>\n      <th>sociality</th>\n      <td>4</td>\n      <td>4</td>\n      <td>0.750000</td>\n      <td>0.925000</td>\n      <td>4</td>\n    </tr>\n  </tbody>\n</table>\n</div>"
     },
     "execution_count": 6,
     "metadata": {},
     "output_type": "execute_result"
    }
   ],
   "source": [
    "across_evaluations(\n",
    "    data.annotation_pilots_onboarding[2:4],\n",
    "    screening_rates_by_label,\n",
    "    load='results/annotation_pilot_screening'\n",
    ")"
   ],
   "metadata": {
    "collapsed": false,
    "pycharm": {
     "name": "#%%\n"
    }
   }
  }
 ],
 "metadata": {
  "kernelspec": {
   "display_name": "Python 3",
   "language": "python",
   "name": "python3"
  },
  "language_info": {
   "codemirror_mode": {
    "name": "ipython",
    "version": 2
   },
   "file_extension": ".py",
   "mimetype": "text/x-python",
   "name": "python",
   "nbconvert_exporter": "python",
   "pygments_lexer": "ipython2",
   "version": "2.7.6"
  }
 },
 "nbformat": 4,
 "nbformat_minor": 0
}