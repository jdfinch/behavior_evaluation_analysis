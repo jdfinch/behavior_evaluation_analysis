{
 "cells": [
  {
   "cell_type": "code",
   "execution_count": null,
   "metadata": {
    "collapsed": true,
    "pycharm": {
     "name": "#%%\n"
    }
   },
   "outputs": [],
   "source": [
    "# ids of students who completed at least one conversation for us\n",
    "student_ids = {'yhua485', 'hsaraog', 'camilacalvino', 'isaac', 'echou4', 'qche242', 'byou4', 'cwbake2', 'ygao328', 'marhoad', 'thmontg', 'htruon5', 'kgkerr', 'eplevy', 'talynfan', 'jki3428', 'zche445', 'jyoo243', 'ayajko', 'omstone', 'jody', 'mqin5', 'hche475', 'jjtayl7', 'mdenys', 'rkong7', 'amoha68', 'jcmoody', 'ych2343', 'zhong33', 'arberg2', 'sarunar', 'imasud', 'qdeng22', 'esheik', 'rshah75', 'ywa2722', 'qyang68', 'hcho382', 'hjeon62', 'aujre', 'sbian8', 'ywu526', 'bmarn', 'vploere', 'hdhingr'}"
   ]
  }
 ],
 "metadata": {
  "kernelspec": {
   "display_name": "Python 3",
   "language": "python",
   "name": "python3"
  },
  "language_info": {
   "codemirror_mode": {
    "name": "ipython",
    "version": 2
   },
   "file_extension": ".py",
   "mimetype": "text/x-python",
   "name": "python",
   "nbconvert_exporter": "python",
   "pygments_lexer": "ipython2",
   "version": "2.7.6"
  }
 },
 "nbformat": 4,
 "nbformat_minor": 0
}